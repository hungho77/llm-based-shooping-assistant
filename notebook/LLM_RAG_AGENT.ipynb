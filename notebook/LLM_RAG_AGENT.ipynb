{
  "cells": [
    {
      "cell_type": "markdown",
      "metadata": {
        "colab_type": "text",
        "id": "view-in-github"
      },
      "source": [
        "<a href=\"https://colab.research.google.com/github/vonhatnam1212/LLM-Based-Shopping-Assistant/blob/main/LLM.ipynb\" target=\"_parent\"><img src=\"https://colab.research.google.com/assets/colab-badge.svg\" alt=\"Open In Colab\"/></a>"
      ]
    },
    {
      "cell_type": "code",
      "execution_count": 4,
      "metadata": {},
      "outputs": [],
      "source": [
        "from llama_index.core import SimpleDirectoryReader\n",
        "\n",
        "documents = SimpleDirectoryReader(input_files=[\"/home/namvn/Account statement.pdf\"]).load_data()"
      ]
    },
    {
      "cell_type": "code",
      "execution_count": 5,
      "metadata": {},
      "outputs": [
        {
          "data": {
            "text/plain": [
              "[Document(id_='2abff7cd-6218-425d-bc8d-083c4ea4133c', embedding=None, metadata={'page_label': '1', 'file_name': 'Account statement.pdf', 'file_path': '/home/namvn/Account statement.pdf', 'file_type': 'application/pdf', 'file_size': 27051, 'creation_date': '2024-05-08', 'last_modified_date': '2024-05-08'}, excluded_embed_metadata_keys=['file_name', 'file_type', 'file_size', 'creation_date', 'last_modified_date', 'last_accessed_date'], excluded_llm_metadata_keys=['file_name', 'file_type', 'file_size', 'creation_date', 'last_modified_date', 'last_accessed_date'], relationships={}, text='Tu ngay 01/04/2024 Toi ngay\\nSo tai khoan 19036253955010\\nTen tai khoan VND-TGTT-VO NHAT NAM So du dau ky\\nLoai tien VND So du cuoi ky\\nNGAY DIEN GIAI CHI TIET\\n01/04/2024VO NHAT NAM transfers FT24092009130076\\n01/04/2024VO NHAT NAM transfers FT24092849890662\\n02/04/2024MS00T06218302515090,DANG NGOC TUAN ANH,VO N FT24093397000868\\\\BNK\\n02/04/2024GD THE TREN INTERNET SO THE 422149...5709 NG FT24093661584690\\n05/04/2024MBVCB.5677346077.389794.DANG THI KI M ANH chuy FT24096085942592\\\\BNK\\n05/04/2024EWAY tra luong nhan vien thang 3.2024 FT24096624698349\\n05/04/2024VO NHAT NAM FT24096469280750\\n06/04/2024VO NHAT NAM transfers FT24099852690280\\n07/04/2024NAP VI SHOPEEPAY SO THE 422149...5709 NGAY 07 FT24099172431017\\n07/04/2024NAP VI SHOPEEPAY SO THE 422149...5709 NGAY 07 FT24099298455494\\n07/04/2024NAP VI SHOPEEPAY SO THE 422149...5709 NGAY 07 FT24099250305665\\n07/04/2024Han Nguyen chuyen tien FT24099213210487\\\\BNK\\n07/04/2024VO NHAT NAM transfers FT24099005509417\\n07/04/202471541042951757136 FT24099053599060\\n08/04/2024NAP VI SHOPEEPAY SO THE 422149...5709 NGAY 08 FT24100100783690\\n10/04/2024NAP VI SHOPEEPAY SO THE 422149...5709 NGAY 10 FT24101481115142\\n10/04/2024VO NHAT NAM transfers FT24101883590949\\n10/04/2024VO NHAT NAM transfers FT24101676750795\\n11/04/2024VO NHAT NAM transfers FT24102924530931\\n11/04/2024T.Toan QR - tai VAN MINH CTT - 3200 00 VND - Ngay FT24103328337861\\\\BNK\\n12/04/2024MD091712923760186XZ,WINCOMMERCE GENERAL C FT24103542020462\\\\BNK\\n13/04/2024TCBS Vo Nhat Nam 105C081689 Transfe r to Vo Nha FT24104708029658\\\\BNK\\n13/04/2024VO NHAT NAM transfers FT24104212858094\\n16/04/2024VO NHAT NAM FT24107198718202\\n17/04/2024Rut tien tai ATM TCB bang SDT 09197 81689. Ngay:1 FT24108263701728\\\\BNK\\n17/04/2024VO NHAT NAM transfers FT24108107031484', start_char_idx=None, end_char_idx=None, text_template='{metadata_str}\\n\\n{content}', metadata_template='{key}: {value}', metadata_seperator='\\n'),\n",
              " Document(id_='19c5fcbf-0ff4-458c-ad0a-d9053497b316', embedding=None, metadata={'page_label': '2', 'file_name': 'Account statement.pdf', 'file_path': '/home/namvn/Account statement.pdf', 'file_type': 'application/pdf', 'file_size': 27051, 'creation_date': '2024-05-08', 'last_modified_date': '2024-05-08'}, excluded_embed_metadata_keys=['file_name', 'file_type', 'file_size', 'creation_date', 'last_modified_date', 'last_accessed_date'], excluded_llm_metadata_keys=['file_name', 'file_type', 'file_size', 'creation_date', 'last_modified_date', 'last_accessed_date'], relationships={}, text='19/04/2024\\n93,671\\n52,531\\nNO CO SO DU\\n170,000 93,671\\n5,000 88,671\\n25,000 63,671\\n60,000 3,671\\n4,000,000 4,003,671\\n4,000,000 8,003,671\\n4,537,000 3,466,671\\n390,000 3,076,671\\n54,570 3,022,101\\n213,800 2,808,301\\n150,000 2,658,301\\n130,000 2,788,301\\n80,000 2,708,301\\n108,000 2,600,301\\n157,000 2,443,301\\n52,370 2,390,931\\n30,000 2,360,931\\n20,000 2,340,931\\n20,000 2,320,931\\n320,000 2,000,931\\n115,400 1,885,531\\n1,500,000 385,531\\n20,000 365,531\\n193,000 172,531\\n100,000 72,531\\n20,000 52,531', start_char_idx=None, end_char_idx=None, text_template='{metadata_str}\\n\\n{content}', metadata_template='{key}: {value}', metadata_seperator='\\n')]"
            ]
          },
          "execution_count": 5,
          "metadata": {},
          "output_type": "execute_result"
        }
      ],
      "source": [
        "documents"
      ]
    },
    {
      "cell_type": "markdown",
      "metadata": {
        "id": "LOyoJQqbNV23"
      },
      "source": [
        "# LLM"
      ]
    },
    {
      "cell_type": "markdown",
      "metadata": {
        "id": "xDb4HN7tNNVl"
      },
      "source": [
        "# RAG"
      ]
    },
    {
      "cell_type": "code",
      "execution_count": 3,
      "metadata": {},
      "outputs": [],
      "source": [
        "from llama_index.core import VectorStoreIndex, get_response_synthesizer, Document\n",
        "import pandas as pd\n",
        "from llama_index.core.node_parser import SentenceSplitter\n",
        "\n",
        "# load documents\n",
        "df = pd.read_csv(\"../data/cellphone_v3.csv\")\n",
        "df[\"PRICE_REMAINING\"] = df[\"PRICE_REMAINING\"].str.replace(\".\", \"\").str.replace(\"₫\", \"\").astype(int)\n",
        "documents = []\n",
        "for index, value in df.iterrows():\n",
        "    document = Document(\n",
        "    text=value[\"PRODUCT_INFOMATION_DETAIL\"],\n",
        "    metadata={\n",
        "        \"PRODUCT_NAME\": value[\"PRODUCT_NAME\"],\n",
        "        \"PRICE_REMAINING\": value[\"PRICE_REMAINING\"],\n",
        "        # \"PRICE_INITIAL\": value[\"PRICE_INITIAL\"],\n",
        "        # \"PRICE_PERCENTAGE_REDUCE\": value[\"PRICE_PERCENTAGE_REDUCE\"],\n",
        "        \"PRODUCT_IMAGE\": value[\"PRODUCT_IMAGE\"],\n",
        "        \"PRODUCT_LINK\": value[\"PRODUCT_LINK\"],\n",
        "        \"Review\": value[\"Review\"],\n",
        "    },\n",
        "    )\n",
        "    documents.append(document)\n",
        "node_parser = SentenceSplitter(chunk_size=4096)\n",
        "\n",
        "nodes = node_parser.get_nodes_from_documents(documents)"
      ]
    },
    {
      "cell_type": "markdown",
      "metadata": {
        "id": "ITCgD-hYNNVm"
      },
      "source": [
        "## Local Storage"
      ]
    },
    {
      "cell_type": "code",
      "execution_count": 4,
      "metadata": {
        "id": "Ki2ZD5M0NNVm"
      },
      "outputs": [],
      "source": [
        "# import\n",
        "from llama_index.core import VectorStoreIndex, SimpleDirectoryReader\n",
        "from llama_index.vector_stores.chroma import ChromaVectorStore\n",
        "from llama_index.core import StorageContext\n",
        "from llama_index.embeddings.huggingface import HuggingFaceEmbedding\n",
        "import chromadb\n",
        "from llama_index.core import VectorStoreIndex, get_response_synthesizer\n",
        "from llama_index.core.retrievers import VectorIndexRetriever\n",
        "from llama_index.core.query_engine import RetrieverQueryEngine\n",
        "from llama_index.core.postprocessor import SimilarityPostprocessor\n",
        "from llama_index.core.callbacks import (\n",
        "    CallbackManager,\n",
        "    LlamaDebugHandler,\n",
        ")\n",
        "from langchain.agents import tool\n",
        "import sys\n",
        "sys.path.append(\"../api\")\n",
        "from config import GOOGLE_API_KEY\n",
        "import os\n",
        "from llama_index.core.langchain_helpers.agents import (\n",
        "    IndexToolConfig,\n",
        "    LlamaIndexTool,\n",
        ")\n",
        "os.environ[\"GOOGLE_API_KEY\"] = GOOGLE_API_KEY\n",
        "\n",
        "from llama_index.llms.gemini import Gemini\n",
        "from llama_index.vector_stores.qdrant import QdrantVectorStore\n",
        "import qdrant_client\n",
        "from llama_index.core import Settings"
      ]
    },
    {
      "cell_type": "code",
      "execution_count": 16,
      "metadata": {},
      "outputs": [],
      "source": [
        "Settings.chunk_size = 4096\n",
        "Settings.llm = Gemini(model_name = \"models/gemini-pro\")\n",
        "# define embedding function\n",
        "Settings.embed_model = HuggingFaceEmbedding(model_name=\"intfloat/multilingual-e5-large-instruct\")"
      ]
    },
    {
      "cell_type": "code",
      "execution_count": 17,
      "metadata": {
        "id": "AdYKrTNwNNVn"
      },
      "outputs": [],
      "source": [
        "\n",
        "\n",
        "# create client and a new collection\n",
        "client = qdrant_client.QdrantClient(\n",
        "    location=\":memory:\"\n",
        ")\n",
        "\n",
        "# set up ChromaVectorStore and load in data\n",
        "vector_store = QdrantVectorStore(client=client, collection_name=\"test_collection_1\")\n",
        "storage_context = StorageContext.from_defaults(vector_store=vector_store)\n",
        "index = VectorStoreIndex.from_documents(\n",
        "    documents, storage_context=storage_context, show_progress=True\n",
        ")"
      ]
    },
    {
      "cell_type": "markdown",
      "metadata": {
        "id": "HpGeWn6ENNVn"
      },
      "source": [
        "## Cloud Storage"
      ]
    },
    {
      "cell_type": "code",
      "execution_count": 13,
      "metadata": {
        "id": "gPJEGBw7NNVn",
        "outputId": "cb08b2b1-04f6-409d-d164-66e507b86c25"
      },
      "outputs": [],
      "source": [
        "import logging\n",
        "import sys\n",
        "\n",
        "# Uncomment to see debug logs\n",
        "# logging.basicConfig(stream=sys.stdout, level=logging.DEBUG)\n",
        "# logging.getLogger().addHandler(logging.StreamHandler(stream=sys.stdout))\n",
        "\n",
        "import phoenix as px\n",
        "from llama_index.vector_stores.milvus import MilvusVectorStore\n",
        "from IPython.display import Markdown, display\n",
        "import textwrap\n",
        "from llama_index.readers.file import CSVReader, PagedCSVReader\n",
        "from pathlib import Path\n",
        "import pandas as pd\n",
        "from llama_index.embeddings.huggingface import HuggingFaceEmbedding\n",
        "import sys \n",
        "sys.path.append(\"../\")\n",
        "from config import GOOGLE_API_KEY, PINECONE_API_KEY\n",
        "import os\n",
        "os.environ[\"GOOGLE_API_KEY\"] = GOOGLE_API_KEY\n",
        "from llama_index.core import VectorStoreIndex, get_response_synthesizer, Document\n",
        "from llama_index.core.retrievers import VectorIndexRetriever\n",
        "from llama_index.llms.gemini import Gemini\n",
        "from llama_index.core.query_engine import RetrieverQueryEngine\n",
        "from llama_index.core.postprocessor import SimilarityPostprocessor\n",
        "from llama_index.core.callbacks import (\n",
        "    CallbackManager,\n",
        "    LlamaDebugHandler,\n",
        ")\n",
        "from langchain.agents import tool\n",
        "from llama_index.core.node_parser import SentenceSplitter\n",
        "\n",
        "from llama_index.core.prompts import display_prompt_dict\n",
        "\n",
        "from pinecone import Pinecone\n",
        "from pinecone import ServerlessSpec\n",
        "pinecoin = Pinecone(api_key=PINECONE_API_KEY)\n",
        "\n",
        "pinecone_index = pinecoin.Index(\"resume-assistant\")\n",
        "from llama_index.vector_stores.pinecone import PineconeVectorStore"
      ]
    },
    {
      "cell_type": "code",
      "execution_count": 9,
      "metadata": {},
      "outputs": [
        {
          "name": "stderr",
          "output_type": "stream",
          "text": [
            "WARNI [phoenix.session.session] Existing running Phoenix instance detected! Shutting it down and starting a new instance...\n"
          ]
        },
        {
          "name": "stdout",
          "output_type": "stream",
          "text": [
            "🌍 To view the Phoenix app in your browser, visit http://localhost:6006/\n",
            "📖 For more information on how to use Phoenix, check out https://docs.arize.com/phoenix\n"
          ]
        }
      ],
      "source": [
        "px.launch_app()\n",
        "import llama_index.core\n",
        "llama_index.core.set_global_handler(\"arize_phoenix\")"
      ]
    },
    {
      "cell_type": "code",
      "execution_count": 11,
      "metadata": {},
      "outputs": [],
      "source": [
        "llm = Gemini()\n",
        "# define embedding function\n",
        "embed_model = HuggingFaceEmbedding(model_name=\"intfloat/multilingual-e5-large-instruct\")\n"
      ]
    },
    {
      "cell_type": "code",
      "execution_count": 40,
      "metadata": {
        "id": "AlY8h4-INNVo",
        "outputId": "8509d00f-7607-451f-ca1b-f16b4efd15dd"
      },
      "outputs": [
        {
          "data": {
            "application/vnd.jupyter.widget-view+json": {
              "model_id": "91e022fcf9c34a98bf6a287f2546d24c",
              "version_major": 2,
              "version_minor": 0
            },
            "text/plain": [
              "Parsing nodes:   0%|          | 0/136 [00:00<?, ?it/s]"
            ]
          },
          "metadata": {},
          "output_type": "display_data"
        },
        {
          "data": {
            "application/vnd.jupyter.widget-view+json": {
              "model_id": "8ad7d9d7dd6545c28f2a5ebd12b08977",
              "version_major": 2,
              "version_minor": 0
            },
            "text/plain": [
              "Generating embeddings:   0%|          | 0/293 [00:00<?, ?it/s]"
            ]
          },
          "metadata": {},
          "output_type": "display_data"
        },
        {
          "data": {
            "application/vnd.jupyter.widget-view+json": {
              "model_id": "d6fdf99a39c6494a85156184c6fb41cc",
              "version_major": 2,
              "version_minor": 0
            },
            "text/plain": [
              "Upserted vectors:   0%|          | 0/293 [00:00<?, ?it/s]"
            ]
          },
          "metadata": {},
          "output_type": "display_data"
        }
      ],
      "source": [
        "# Không chạy cell này mà chạy cell dưới (cái này dùng để tạo vector db)\n",
        "# Create an index over the documnts\n",
        "from llama_index.core import StorageContext\n",
        "\n",
        "vector_store = PineconeVectorStore(pinecone_index=pinecone_index,namespace=\"text\")\n",
        "storage_context = StorageContext.from_defaults(vector_store=vector_store)\n",
        "index = VectorStoreIndex.from_documents(\n",
        "    documents, storage_context=storage_context, show_progress=True, embed_model=embed_model\n",
        ")"
      ]
    },
    {
      "cell_type": "code",
      "execution_count": 42,
      "metadata": {
        "id": "WbHNDhrHNNVp",
        "outputId": "129ee5c3-7135-4158-a6e5-8884c3b30a7c"
      },
      "outputs": [],
      "source": [
        "from llama_index.core import StorageContext\n",
        "\n",
        "vector_store = PineconeVectorStore(pinecone_index=pinecone_index,namespace=\"text\")\n",
        "index = VectorStoreIndex.from_vector_store(\n",
        "    vector_store=vector_store, show_progress=True, embed_model=embed_model\n",
        ")"
      ]
    },
    {
      "cell_type": "markdown",
      "metadata": {
        "id": "2_Yl3C_FNNVp"
      },
      "source": [
        "## Tool RAG"
      ]
    },
    {
      "cell_type": "code",
      "execution_count": 18,
      "metadata": {
        "id": "WRjeqSOWNNVp"
      },
      "outputs": [],
      "source": [
        "from llama_index.core.retrievers import VectorIndexAutoRetriever\n",
        "from llama_index.core.vector_stores.types import MetadataInfo, VectorStoreInfo\n",
        "\n",
        "\n",
        "vector_store_info = VectorStoreInfo(\n",
        "    content_info=\"Danh sách sản phẩm của cửa hàng cellphones\",\n",
        "    metadata_info=[\n",
        "        MetadataInfo(\n",
        "            name=\"PRODUCT_NAME\",\n",
        "            type=\"string\",\n",
        "            description=(\n",
        "                \"Đây là tên của sản phẩm. Thường là một chuỗi văn bản mô tả sản phẩm một cách ngắn gọn và rõ ràng\"\n",
        "            ),\n",
        "        ),\n",
        "        MetadataInfo(\n",
        "            name=\"PRICE_REMAINING\",\n",
        "            type=\"int\",\n",
        "            description=(\n",
        "                \"Đây là giá sản phẩm hiện tại sau khi đã giảm giá hoặc có thể là giá gốc nếu sản phẩm không được giảm giá. Thường là một số nguyên hoặc số thực biểu thị tiền tệ.\"\n",
        "            ),\n",
        "        ),\n",
        "        # MetadataInfo(\n",
        "        #     name=\"PRICE_PERCENTAGE_REDUCE\",\n",
        "        #     type=\"string\",\n",
        "        #     description=(\n",
        "        #         \"Đây là phần trăm giảm giá so với giá ban đầu của sản phẩm. Thường là một số thực biểu thị phần trăm giảm giá.\"\n",
        "        #     ),\n",
        "        # ),\n",
        "        MetadataInfo(\n",
        "            name=\"PRODUCT_IMAGE\",\n",
        "            type=\"string\",\n",
        "            description=(\n",
        "                \"Đây là liên kết đến hình ảnh của sản phẩm. Thường là một URL dẫn đến hình ảnh sản phẩm.\"\n",
        "            ),\n",
        "        ),\n",
        "        MetadataInfo(\n",
        "            name=\"PRODUCT_LINK\",\n",
        "            type=\"string\",\n",
        "            description=(\n",
        "                \"Đây là liên kết đến trang chi tiết sản phẩm. Thường là một URL dẫn đến trang sản phẩm trên trang web bán hàng.\"\n",
        "            ),\n",
        "        ),\n",
        "        MetadataInfo(\n",
        "            name=\"Review\",\n",
        "            type=\"string\",\n",
        "            description=(\n",
        "                \"Đây là một chuỗi văn bản mô tả đánh giá hoặc nhận xét từ người dùng.\"\n",
        "            ),\n",
        "        ),\n",
        "    ],\n",
        ")"
      ]
    },
    {
      "cell_type": "code",
      "execution_count": 19,
      "metadata": {
        "id": "AQjNpPtqNNVp"
      },
      "outputs": [],
      "source": [
        "llama_debug = LlamaDebugHandler(print_trace_on_end=True)\n",
        "callback_manager = CallbackManager([llama_debug])\n",
        "# configure retriever\n",
        "retriever = VectorIndexAutoRetriever(\n",
        "    index,\n",
        "    vector_store_info=vector_store_info,\n",
        "    verbose=True,\n",
        "    callback_manager=callback_manager,\n",
        "    similarity_top_k=5,\n",
        "    empty_query_top_k=5,\n",
        "    default_empty_query_vector=[0] * 1536,\n",
        ")\n",
        "\n",
        "# configure response synthesizer\n",
        "# response_synthesizer = get_response_synthesizer(\n",
        "#     llm=llm, response_mode=\"compact\", callback_manager=callback_manager\n",
        "# )\n",
        "\n",
        "# assemble query engine\n",
        "query_engine = RetrieverQueryEngine(\n",
        "    retriever=retriever,\n",
        "    # response_synthesizer=response_synthesizer,\n",
        "    callback_manager=callback_manager,\n",
        "    # node_postprocessors=[SimilarityPostprocessor(similarity_cutoff=0.7)],\n",
        ")"
      ]
    },
    {
      "cell_type": "code",
      "execution_count": 22,
      "metadata": {},
      "outputs": [
        {
          "name": "stdout",
          "output_type": "stream",
          "text": [
            "Using query str: tai nghe\n",
            "Using filters: [('PRICE_REMAINING', '<', 700000)]\n",
            "**********\n",
            "Trace: query\n",
            "    |_retrieve -> 2.784146 seconds\n",
            "      |_templating -> 1.5e-05 seconds\n",
            "      |_llm -> 2.756553 seconds\n",
            "**********\n"
          ]
        },
        {
          "data": {
            "text/plain": [
              "[NodeWithScore(node=TextNode(id_='02df0e0f-1f3f-43ec-befc-05b1bee469a9', embedding=None, metadata={'PRODUCT_NAME': 'Tai nghe Bluetooth True Wireless SoundPEATS Mac', 'PRICE_REMAINING': 450000, 'PRODUCT_IMAGE': 'https://cdn2.cellphones.com.vn/insecure/rs:fill:358:358/q:90/plain/https://cellphones.com.vn/media/catalog/product/g/r/group_198_1_.png', 'PRODUCT_LINK': 'https://cellphones.com.vn/tai-nghe-khong-day-soundpeats-mac.html', 'Review': \"{'positive': ['Tai nghe này không chỉ mang lại trải nghiệm âm nhạc tuyệt vời mà còn rất thoải mái khi đeo lâu. Tôi cảm thấy thích thú mỗi khi sử dụng chúng.', 'Tai nghe này là một sản phẩm hoàn hảo cho việc nghe nhạc và xem phim. Tôi yêu thích cách mà nó giữ vững chất lượng âm thanh trong mọi tình huống.', 'Sản phẩm này đáng giá mỗi đồng tiền. Tôi không ngừng khen ngợi về chất lượng âm thanh và thiết kế tiện lợi của nó.'], 'negative': ['Chất lượng dịch vụ kém, nhân viên không thân thiện và không chuyên nghiệp.', 'Dịch vụ giao hàng quá chậm chạp. Đã phải đợi hàng tuần và cuối cùng nhận được sản phẩm hỏng.', 'Tai nghe này không thoải mái khi đeo, gây đau tai sau một thời gian sử dụng.', 'Sản phẩm này thực sự tệ, chất lượng không đáng giá số tiền mình đã chi trả'], 'neutral': ['Tai nghe này không phải là lựa chọn hàng đầu của tôi, nhưng cũng không tệ.', 'Sản phẩm này đủ tốt để sử dụng, không gây ra bất kỳ vấn đề nào đáng kể, nhưng cũng không có ấn tượng sâu sắc.', 'Dịch vụ giao hàng tốt, nhưng sản phẩm không đặc biệt lắm.']}\"}, excluded_embed_metadata_keys=[], excluded_llm_metadata_keys=[], relationships={<NodeRelationship.SOURCE: '1'>: RelatedNodeInfo(node_id='a7639eed-542a-4324-ba21-7e0b3d9f8e4d', node_type=<ObjectType.DOCUMENT: '4'>, metadata={'PRODUCT_NAME': 'Tai nghe Bluetooth True Wireless SoundPEATS Mac', 'PRICE_REMAINING': 450000, 'PRODUCT_IMAGE': 'https://cdn2.cellphones.com.vn/insecure/rs:fill:358:358/q:90/plain/https://cellphones.com.vn/media/catalog/product/g/r/group_198_1_.png', 'PRODUCT_LINK': 'https://cellphones.com.vn/tai-nghe-khong-day-soundpeats-mac.html', 'Review': \"{'positive': ['Tai nghe này không chỉ mang lại trải nghiệm âm nhạc tuyệt vời mà còn rất thoải mái khi đeo lâu. Tôi cảm thấy thích thú mỗi khi sử dụng chúng.', 'Tai nghe này là một sản phẩm hoàn hảo cho việc nghe nhạc và xem phim. Tôi yêu thích cách mà nó giữ vững chất lượng âm thanh trong mọi tình huống.', 'Sản phẩm này đáng giá mỗi đồng tiền. Tôi không ngừng khen ngợi về chất lượng âm thanh và thiết kế tiện lợi của nó.'], 'negative': ['Chất lượng dịch vụ kém, nhân viên không thân thiện và không chuyên nghiệp.', 'Dịch vụ giao hàng quá chậm chạp. Đã phải đợi hàng tuần và cuối cùng nhận được sản phẩm hỏng.', 'Tai nghe này không thoải mái khi đeo, gây đau tai sau một thời gian sử dụng.', 'Sản phẩm này thực sự tệ, chất lượng không đáng giá số tiền mình đã chi trả'], 'neutral': ['Tai nghe này không phải là lựa chọn hàng đầu của tôi, nhưng cũng không tệ.', 'Sản phẩm này đủ tốt để sử dụng, không gây ra bất kỳ vấn đề nào đáng kể, nhưng cũng không có ấn tượng sâu sắc.', 'Dịch vụ giao hàng tốt, nhưng sản phẩm không đặc biệt lắm.']}\"}, hash='93249cf92fe75d4c23dc200e73d8c299f81080a7963e9994955fe677a9b3100e')}, text='ĐẶC ĐIỂM NỔI BẬT Thoải mái hoạt động không lo trời mưa hoặc nước bắn với chuẩn chống nước IPX7 Màng loa 10mm được tinh chỉnh chuyên nghiệp cho chất lượng âm thanh sống động Thời lượng pin siêu lớn cho tổng thời gian sử dụng lên đến 60 giờ khi kèm hộp sạc Thiết kế nhỏ gọn, bộ điều khiển thông minh, tiện lợi được tích hợp sẵn trên tai nghe Tai Nghe True Wireless SoundPeats Mac – Âm thanh chất lượng, điều khiển dễ dàng Tai nghe không dây hiện đang là xu hướng sử dụng của người dùng. Nếu bạn đang tìm kiếm một mẫu tai nghe không dây chất lượng hãy tham khảo sản phẩm tai nghe True Wireless Earbuds SoundPeats Mac. Chất lượng âm thanh vượt trội, điều khiển dễ dàng Tai nghe true wireless SoundPEATS MAC được trang bị trình điều khiển 6mm giúp âm thanh được tinh chỉnh với âm trầm sâu, âm bổng tốt nhờ đó mang lại trải nghiệm âm thanh mượt mà. Xem thêm', start_char_idx=0, end_char_idx=851, text_template='{metadata_str}\\n\\n{content}', metadata_template='{key}: {value}', metadata_seperator='\\n'), score=0.8941539222361226),\n",
              " NodeWithScore(node=TextNode(id_='ebebe66c-a042-46f1-9da5-1372ad889ef6', embedding=None, metadata={'PRODUCT_NAME': 'Tai nghe Bluetooth True Wireless SoundPEATS True Air 2', 'PRICE_REMAINING': 620000, 'PRODUCT_IMAGE': 'https://cdn2.cellphones.com.vn/insecure/rs:fill:358:358/q:90/plain/https://cellphones.com.vn/media/catalog/product/g/r/group_199_1_1.png', 'PRODUCT_LINK': 'https://cellphones.com.vn/tai-nghe-khong-day-soundpeats-trueair-2.html', 'Review': \"{'positive': ['Dịch vụ giao hàng nhanh chóng và chính xác. Tôi rất ấn tượng với cách họ xử lý đơn hàng của tôi.', 'Tai nghe này thực sự tuyệt vời, âm thanh rõ ràng, bass mạnh mẽ, và thoải mái khi đeo.', 'Sản phẩm này đáng giá mỗi đồng tiền. Tôi không hề hối hận khi mua nó.'], 'negative': ['Tai nghe này không thoải mái khi đeo, gây đau tai sau một thời gian sử dụng.', 'Sản phẩm đến tay tôi đã bị hỏng, đóng gói kém chất lượng.', 'Không bao giờ mua lại sản phẩm từ nhà cung cấp này. Chất lượng kém và dịch vụ khách hàng không chuyên nghiệp.'], 'neutral': ['Tai nghe này không quá tốt nhưng cũng không quá tệ, chất lượng âm thanh ổn định.', 'Sản phẩm này khá bình thường, không có gì đặc biệt nhưng cũng không có gì đáng phàn nàn.', 'Chất lượng dịch vụ của cửa hàng này khá trung bình, không quá ấn tượng nhưng cũng không gây phàn nàn.']}\"}, excluded_embed_metadata_keys=[], excluded_llm_metadata_keys=[], relationships={<NodeRelationship.SOURCE: '1'>: RelatedNodeInfo(node_id='01d2e3a0-6cfe-431c-a680-2b823e6d9d57', node_type=<ObjectType.DOCUMENT: '4'>, metadata={'PRODUCT_NAME': 'Tai nghe Bluetooth True Wireless SoundPEATS True Air 2', 'PRICE_REMAINING': 620000, 'PRODUCT_IMAGE': 'https://cdn2.cellphones.com.vn/insecure/rs:fill:358:358/q:90/plain/https://cellphones.com.vn/media/catalog/product/g/r/group_199_1_1.png', 'PRODUCT_LINK': 'https://cellphones.com.vn/tai-nghe-khong-day-soundpeats-trueair-2.html', 'Review': \"{'positive': ['Dịch vụ giao hàng nhanh chóng và chính xác. Tôi rất ấn tượng với cách họ xử lý đơn hàng của tôi.', 'Tai nghe này thực sự tuyệt vời, âm thanh rõ ràng, bass mạnh mẽ, và thoải mái khi đeo.', 'Sản phẩm này đáng giá mỗi đồng tiền. Tôi không hề hối hận khi mua nó.'], 'negative': ['Tai nghe này không thoải mái khi đeo, gây đau tai sau một thời gian sử dụng.', 'Sản phẩm đến tay tôi đã bị hỏng, đóng gói kém chất lượng.', 'Không bao giờ mua lại sản phẩm từ nhà cung cấp này. Chất lượng kém và dịch vụ khách hàng không chuyên nghiệp.'], 'neutral': ['Tai nghe này không quá tốt nhưng cũng không quá tệ, chất lượng âm thanh ổn định.', 'Sản phẩm này khá bình thường, không có gì đặc biệt nhưng cũng không có gì đáng phàn nàn.', 'Chất lượng dịch vụ của cửa hàng này khá trung bình, không quá ấn tượng nhưng cũng không gây phàn nàn.']}\"}, hash='55940a11996da6f356df26f50af1f12ba721e0147612e4e0a26c2341c1423d73')}, text='ĐẶC ĐIỂM NỔI BẬT Chip âm thanh Qualcomm QCC3040 và bộ giải mã ATPX cho chất âm trung thực Micro kép cùng công nghệ khử ồn CVC 8.0 mang đến trải nghiệm đàm thoại tốt Thiết kế semi-in-ear cho cảm giác đeo thoải mái, không gây đau tai hay bí bách Công nghệ kháng nước, bụi chuẩn IPX4 giúp bảo vệ an toàn tối ưu cho tai nghe Tai nghe không dây Earbuds Soundpeats True Air 2 – Khử tiếng ồn CVC cho bạn tập trung lắng nghe hơn Sau True Air 1, Soundpeats tiếp tục mang đến cho người dùng mẫu tai nghe không dây Earbuds Soundpeats True Air 2 với nhiều tính năng được nâng cấp nổi bật là khả năng khử tiếng ồn CVC cùng công nghệ TrueWireless Mirroring cho âm thanh du dương trong một thiết kế nhỏ gọn. Thiết kế nhỏ gọn, cảm giác đeo thoải mái và chống nước IPX4 Tai nghe không dây Earbuds Soundpeats True Air 2 có thiết kế đơn giản và nhỏ gọn với màu đen nhám mờ sang trọng. Kích thước chỉ 52.07 x 52.07 x 21.08 mm và trọng lượng mỗi bên tai nghe là 4g và trọng lượng của hộp sạc là 27g vô cùng nhỏ gọn, bỏ túi tiện lợi. Xem thêm', start_char_idx=0, end_char_idx=1020, text_template='{metadata_str}\\n\\n{content}', metadata_template='{key}: {value}', metadata_seperator='\\n'), score=0.8926639117270929),\n",
              " NodeWithScore(node=TextNode(id_='01b5b96a-fa28-4121-890f-352f9f317d81', embedding=None, metadata={'PRODUCT_NAME': 'Tai nghe chụp tai Sony MDR-ZX310AP', 'PRICE_REMAINING': 690000, 'PRODUCT_IMAGE': 'https://cdn2.cellphones.com.vn/insecure/rs:fill:358:358/q:90/plain/https://cellphones.com.vn/media/catalog/product/s/o/sony-mdr-zx310ap.png', 'PRODUCT_LINK': 'https://cellphones.com.vn/sony-mdr-zx310ap.html', 'Review': \"{'positive': ['Tai nghe này không chỉ mang lại trải nghiệm âm nhạc tuyệt vời mà còn rất thoải mái khi đeo lâu. Tôi cảm thấy thích thú mỗi khi sử dụng chúng.', 'Chất lượng âm thanh của sản phẩm này vượt xa mong đợi của tôi. Tôi rất hài lòng với trải nghiệm nghe nhạc của mình.', 'Chất lượng sản phẩm vượt xa mong đợi của tôi. Tôi đã mua nhiều sản phẩm từ công ty này và chưa bao giờ thất vọng.'], 'negative': ['Chất lượng dịch vụ kém, nhân viên không thân thiện và không chuyên nghiệp.', 'Sản phẩm như đồ giả, không giống như mô tả trên trang web. Rất thất vọng với chất lượng này.', 'Sản phẩm này thực sự tệ, chất lượng không đáng giá số tiền mình đã chi trả', 'Dịch vụ khách hàng quá tệ, không ai phản hồi khi tôi gặp vấn đề với sản phẩm của họ.', 'Tôi rất thất vọng với sản phẩm này, không giống như quảng cáo cho thấy.'], 'neutral': ['Dịch vụ giao hàng tốt, nhưng sản phẩm không đặc biệt lắm.', 'Tai nghe này không quá cao cấp nhưng cũng không quá rẻ tiền, phù hợp với nhu cầu sử dụng hàng ngày.']}\"}, excluded_embed_metadata_keys=[], excluded_llm_metadata_keys=[], relationships={<NodeRelationship.SOURCE: '1'>: RelatedNodeInfo(node_id='2ee9fde3-828f-426a-9ad1-b85c75f6faf9', node_type=<ObjectType.DOCUMENT: '4'>, metadata={'PRODUCT_NAME': 'Tai nghe chụp tai Sony MDR-ZX310AP', 'PRICE_REMAINING': 690000, 'PRODUCT_IMAGE': 'https://cdn2.cellphones.com.vn/insecure/rs:fill:358:358/q:90/plain/https://cellphones.com.vn/media/catalog/product/s/o/sony-mdr-zx310ap.png', 'PRODUCT_LINK': 'https://cellphones.com.vn/sony-mdr-zx310ap.html', 'Review': \"{'positive': ['Tai nghe này không chỉ mang lại trải nghiệm âm nhạc tuyệt vời mà còn rất thoải mái khi đeo lâu. Tôi cảm thấy thích thú mỗi khi sử dụng chúng.', 'Chất lượng âm thanh của sản phẩm này vượt xa mong đợi của tôi. Tôi rất hài lòng với trải nghiệm nghe nhạc của mình.', 'Chất lượng sản phẩm vượt xa mong đợi của tôi. Tôi đã mua nhiều sản phẩm từ công ty này và chưa bao giờ thất vọng.'], 'negative': ['Chất lượng dịch vụ kém, nhân viên không thân thiện và không chuyên nghiệp.', 'Sản phẩm như đồ giả, không giống như mô tả trên trang web. Rất thất vọng với chất lượng này.', 'Sản phẩm này thực sự tệ, chất lượng không đáng giá số tiền mình đã chi trả', 'Dịch vụ khách hàng quá tệ, không ai phản hồi khi tôi gặp vấn đề với sản phẩm của họ.', 'Tôi rất thất vọng với sản phẩm này, không giống như quảng cáo cho thấy.'], 'neutral': ['Dịch vụ giao hàng tốt, nhưng sản phẩm không đặc biệt lắm.', 'Tai nghe này không quá cao cấp nhưng cũng không quá rẻ tiền, phù hợp với nhu cầu sử dụng hàng ngày.']}\"}, hash='7f082ea4b64b7cb8ed30ae1ecd80612dbd42e162790d26dfcdef8d5f6c846087')}, text='ĐẶC ĐIỂM NỔI BẬT Trọng lượng siêu mỏng nhẹ,cảm giác đeo thoải mái cả ngày Màng loa 30mm mang tới âm thanh sắc nét,trung thực Jack cắm 3.5mm hỗ trợ đa số thiết bị thông dụng Có thể gấp gọn để mang theo,cất trong Balo Tai nghe có dây Sony MDR-ZX310AP - Với âm bass chất lượng cùng cải thiện đáng kể về thiết kế Tai nghe Sony MDR-ZX310AP sẽ đem đến cho bạn trải nghiệm thú vị với những tính năng vượt trội cả về hiệu năng lẫn thiết kế để khi cuộc sống ngày càng bận rộn và căng thẳng thì âm nhạc luôn mang đến cho bạn cảm giác thoải mái, thư giãn và đem đến cho bạn nguồn cảm hứng bất tận. Việc sở hữu một tai nghe để tận hưởng từng khoảnh khắc âm nhạc mà không ảnh hưởng đến người xung quanh là điều cần thiết. . Tai nghe Sony MDR-ZX310AP thiết kế phần housing rất bóng bẩy, hạn chế trầy xước Ra mắt cùng 1 lúc với MDR-ZX110AP nhưng ấn tượng của người dùng về Sony MDR-ZX310AP là cao hơn do được cải thiện về thiết kế cũng như chất liệu. Được làm bằng chất liệu nhựa nên tạo tạo cho người dùng cảm giác nhẹ, chắc chắn có thể đem theo bất cứ đâu tiện lợi. Xem thêm', start_char_idx=0, end_char_idx=1061, text_template='{metadata_str}\\n\\n{content}', metadata_template='{key}: {value}', metadata_seperator='\\n'), score=0.891521712074538),\n",
              " NodeWithScore(node=TextNode(id_='b2bab82c-5bd7-4a6a-8e60-87e96e958a10', embedding=None, metadata={'PRODUCT_NAME': 'Tai nghe Bluetooth Baseus Bowie P1', 'PRICE_REMAINING': 369996, 'PRODUCT_IMAGE': 'https://cdn2.cellphones.com.vn/insecure/rs:fill:358:358/q:90/plain/https://cellphones.com.vn/media/catalog/product/f/r/frame_1_3_1.png', 'PRODUCT_LINK': 'https://cellphones.com.vn/tai-nghe-bluetooth-baseus-bowie-p1.html', 'Review': \"{'positive': ['Tai nghe này thực sự tuyệt vời! Âm thanh rõ ràng, bass mạnh mẽ và thoải mái đeo suốt cả ngày.', 'Dịch vụ khách hàng tuyệt vời! Nhân viên thân thiện và nhiệt tình, đã giúp tôi giải quyết vấn đề ngay lập tức.', 'Sản phẩm này đáng giá mỗi đồng tiền. Tôi không hề hối hận khi mua nó.', 'Sản phẩm này đáng giá mỗi đồng tiền. Tôi không ngừng khen ngợi về chất lượng âm thanh và thiết kế tiện lợi của nó.'], 'negative': ['Sản phẩm đã hỏng ngay sau khi mở hộp, rất thất vọng về chất lượng này.', 'Tai nghe gây đau tai khi sử dụng lâu, không thoải mái cho tai của tôi.', 'Tai nghe này chất lượng quá kém, âm thanh rè và bị méo mó sau một thời gian sử dụng.'], 'neutral': ['Dịch vụ giao hàng tốt, nhưng sản phẩm không đặc biệt lắm.', 'Dịch vụ này khá chấp nhận được, không có gì quá nổi bật nhưng cũng không có vấn đề nào đáng lưu ý.', 'Sản phẩm này khá ổn, không gây ấn tượng sâu nhưng cũng không có vấn đề gì đáng ngại.', 'Dịch vụ này chưa đến mức xuất sắc nhưng cũng không tệ, đáp ứng được nhu cầu cơ bản của tôi.']}\"}, excluded_embed_metadata_keys=[], excluded_llm_metadata_keys=[], relationships={<NodeRelationship.SOURCE: '1'>: RelatedNodeInfo(node_id='a701fd6a-d7a2-4293-811a-e36bdd52fdd3', node_type=<ObjectType.DOCUMENT: '4'>, metadata={'PRODUCT_NAME': 'Tai nghe Bluetooth Baseus Bowie P1', 'PRICE_REMAINING': 369996, 'PRODUCT_IMAGE': 'https://cdn2.cellphones.com.vn/insecure/rs:fill:358:358/q:90/plain/https://cellphones.com.vn/media/catalog/product/f/r/frame_1_3_1.png', 'PRODUCT_LINK': 'https://cellphones.com.vn/tai-nghe-bluetooth-baseus-bowie-p1.html', 'Review': \"{'positive': ['Tai nghe này thực sự tuyệt vời! Âm thanh rõ ràng, bass mạnh mẽ và thoải mái đeo suốt cả ngày.', 'Dịch vụ khách hàng tuyệt vời! Nhân viên thân thiện và nhiệt tình, đã giúp tôi giải quyết vấn đề ngay lập tức.', 'Sản phẩm này đáng giá mỗi đồng tiền. Tôi không hề hối hận khi mua nó.', 'Sản phẩm này đáng giá mỗi đồng tiền. Tôi không ngừng khen ngợi về chất lượng âm thanh và thiết kế tiện lợi của nó.'], 'negative': ['Sản phẩm đã hỏng ngay sau khi mở hộp, rất thất vọng về chất lượng này.', 'Tai nghe gây đau tai khi sử dụng lâu, không thoải mái cho tai của tôi.', 'Tai nghe này chất lượng quá kém, âm thanh rè và bị méo mó sau một thời gian sử dụng.'], 'neutral': ['Dịch vụ giao hàng tốt, nhưng sản phẩm không đặc biệt lắm.', 'Dịch vụ này khá chấp nhận được, không có gì quá nổi bật nhưng cũng không có vấn đề nào đáng lưu ý.', 'Sản phẩm này khá ổn, không gây ấn tượng sâu nhưng cũng không có vấn đề gì đáng ngại.', 'Dịch vụ này chưa đến mức xuất sắc nhưng cũng không tệ, đáp ứng được nhu cầu cơ bản của tôi.']}\"}, hash='99fb4779d7d09cba5ed2c6dbe7fa50924f9a7283c43bbdf52304671194c3b440')}, text='ĐẶC ĐIỂM NỔI BẬT Thoải mái vận động với thiết kế trẻ trung, năng động cùng tone màu đen cuốn hút Vòng đeo cổ được hoàn thiện mềm mại kết hợp dây đeo chống rối vô cùng tiện lợi Đồng hành cả ngày dài với viên pin có thời lượng lên đến 25 giờ cho một lần sạc Kháng nước IPX5 cho phép sử dụng ngoài thời tiết xấu mà không lo thấm nước Tai Nghe Baseus Bowie P1 – Thiết kế sang trọng, đẹp mắt Tai Nghe Bluetooth Baseus Bowie P1 là phụ kiện không thể thiếu để giúp cho bạn được thưởng thức âm nhạc hoàn hảo nhất. Với thiết kế nhỏ gọn, dễ dàng mang theo di chuyển cùng những công nghệ tích hợp thông minh, phụ kiện tai nghe Bluetooth này cho âm thanh truyền tới người nghe một cách sống động. Thiết kế sang trọng, năng động Baseus Bowie P1 được thiết kế dạng vòng đeo cổ vô cùng chắc chắn, phù hợp cho ai thường xuyên tập luyện thể thao, hoạt động ngoài trời nhiều hơn, với thiết kế như này có thể giúp bạn không cần phải lo tai nghe bị rớt. Xem thêm', start_char_idx=0, end_char_idx=942, text_template='{metadata_str}\\n\\n{content}', metadata_template='{key}: {value}', metadata_seperator='\\n'), score=0.8897125807006706),\n",
              " NodeWithScore(node=TextNode(id_='e0a127ed-9628-4519-9e72-8f00903aadfb', embedding=None, metadata={'PRODUCT_NAME': 'Tai nghe Bluetooth True Wireless Defunc True Music', 'PRICE_REMAINING': 370000, 'PRODUCT_IMAGE': 'https://cdn2.cellphones.com.vn/insecure/rs:fill:358:358/q:90/plain/https://cellphones.com.vn/media/catalog/product/t/a/tai-nghe-bluetooth-defunc-true-music-0.png', 'PRODUCT_LINK': 'https://cellphones.com.vn/tai-nghe-bluetooth-defunc-true-music.html', 'Review': \"{'positive': ['Tôi rất hài lòng với chất lượng sản phẩm và dịch vụ của công ty. Chắc chắn sẽ mua lại ở đây!', 'Tai nghe này có thiết kế đẹp mắt và cực kỳ chất lượng. Tôi đã sử dụng trong một thời gian dài và vẫn hoạt động tốt như mới.'], 'negative': ['Dịch vụ giao hàng quá chậm chạp. Đã phải đợi hàng tuần và cuối cùng nhận được sản phẩm hỏng.', 'Dịch vụ giao hàng quá chậm, tôi đã phải đợi gần một tháng để nhận được đơn hàng của mình.'], 'neutral': ['Sản phẩm này đáp ứng được mong đợi của tôi, không có gì đặc biệt nhưng cũng không gây thất vọng.', 'Dịch vụ của cửa hàng này không đến nỗi xuất sắc nhưng cũng không tệ lắm, giá cả hợp lý.', 'Dịch vụ khách hàng ở đây khá ổn, không có gì đặc biệt nhưng cũng không gây thất vọng.']}\"}, excluded_embed_metadata_keys=[], excluded_llm_metadata_keys=[], relationships={<NodeRelationship.SOURCE: '1'>: RelatedNodeInfo(node_id='4d24b6e0-cc95-41fb-bc76-e7dbffb56185', node_type=<ObjectType.DOCUMENT: '4'>, metadata={'PRODUCT_NAME': 'Tai nghe Bluetooth True Wireless Defunc True Music', 'PRICE_REMAINING': 370000, 'PRODUCT_IMAGE': 'https://cdn2.cellphones.com.vn/insecure/rs:fill:358:358/q:90/plain/https://cellphones.com.vn/media/catalog/product/t/a/tai-nghe-bluetooth-defunc-true-music-0.png', 'PRODUCT_LINK': 'https://cellphones.com.vn/tai-nghe-bluetooth-defunc-true-music.html', 'Review': \"{'positive': ['Tôi rất hài lòng với chất lượng sản phẩm và dịch vụ của công ty. Chắc chắn sẽ mua lại ở đây!', 'Tai nghe này có thiết kế đẹp mắt và cực kỳ chất lượng. Tôi đã sử dụng trong một thời gian dài và vẫn hoạt động tốt như mới.'], 'negative': ['Dịch vụ giao hàng quá chậm chạp. Đã phải đợi hàng tuần và cuối cùng nhận được sản phẩm hỏng.', 'Dịch vụ giao hàng quá chậm, tôi đã phải đợi gần một tháng để nhận được đơn hàng của mình.'], 'neutral': ['Sản phẩm này đáp ứng được mong đợi của tôi, không có gì đặc biệt nhưng cũng không gây thất vọng.', 'Dịch vụ của cửa hàng này không đến nỗi xuất sắc nhưng cũng không tệ lắm, giá cả hợp lý.', 'Dịch vụ khách hàng ở đây khá ổn, không có gì đặc biệt nhưng cũng không gây thất vọng.']}\"}, hash='03647a3cc1f7e95beb4d75bf99eb157d33a4ed97a9a14b9d419881eedbe47ef9')}, text='ĐẶC ĐIỂM NỔI BẬT Trải nghiệm âm thanh liền mạch, ổn định, hạn chế bị gián đoạn với độ trễ thấp Tổng thời lượng pin lên đến 12 giờ tích hợp sạc nhanh thông qua cổng USB-C Kết nối nhanh, ổn định và tiết kiệm năng lượng nhờ vào công nghệ Bluetooth 5.2 Trình điều khiển kích thước lớn 10mm mang đến chất lượng âm thanh sống động Tai nghe Bluetooth Defunc True Music thu hút với thiết kế không dây cùng kiểu dáng công thái học mang lại cho người dùng cảm giác đeo thoải mái và dễ chịu. Bên cạnh đó, mẫu tai nghe Defunc này với driver rộng 13mm cùng mic đàm thoại chống nước IPX4 còn dễ dàng tạo trải nghiệm nghe gọi ấn tượng.  Tai nghe Bluetooth Defunc True Music - Thời thượng, trải nghiệm đắm chìm Với thiết kế không dây nhỏ gọn, tiện lợi cùng nhiều công nghệ âm thanh hiện đại, tai nghe Defunc True Music hoàn toàn có thể mang lại cho người dùng một trải nghiệm nghe đắm chìm.  Đắm chìm vào giai điệu du dương với trình điều khiển rộng 13mm  Điểm nhấn ấn tượng ở tai nghe Defunc True Music là trang bị công nghệ âm với công suất lớn, mang đến cho người dùng một trải nghiệm nghe nhạc đầy hứng khởi và chìm đắm.  Xem thêm', start_char_idx=0, end_char_idx=1118, text_template='{metadata_str}\\n\\n{content}', metadata_template='{key}: {value}', metadata_seperator='\\n'), score=0.8896524945019275)]"
            ]
          },
          "execution_count": 22,
          "metadata": {},
          "output_type": "execute_result"
        }
      ],
      "source": [
        "retriever.retrieve(\"những tai nghe dưới 700.000đ nên mua\")"
      ]
    },
    {
      "cell_type": "code",
      "execution_count": 18,
      "metadata": {},
      "outputs": [
        {
          "name": "stdout",
          "output_type": "stream",
          "text": [
            "Using query str: tai nghe\n",
            "Using filters: [('PRICE_REMAINING', '<', 700000)]\n",
            "**********\n",
            "Trace: query\n",
            "    |_retrieve -> 2.937288 seconds\n",
            "      |_templating -> 1.3e-05 seconds\n",
            "      |_llm -> 2.92216 seconds\n",
            "**********\n"
          ]
        },
        {
          "data": {
            "text/plain": [
              "[NodeWithScore(node=TextNode(id_='d32dfd17-b746-4dd5-a163-cac2abcb9f4c', embedding=None, metadata={'PRODUCT_NAME': 'Tai nghe Bluetooth True Wireless SoundPEATS Mac', 'PRICE_REMAINING': 450000, 'PRODUCT_IMAGE': 'https://cdn2.cellphones.com.vn/insecure/rs:fill:358:358/q:90/plain/https://cellphones.com.vn/media/catalog/product/g/r/group_198_1_.png', 'PRODUCT_LINK': 'https://cellphones.com.vn/tai-nghe-khong-day-soundpeats-mac.html', 'Review': \"{'positive': ['Tai nghe này không chỉ mang lại trải nghiệm âm nhạc tuyệt vời mà còn rất thoải mái khi đeo lâu. Tôi cảm thấy thích thú mỗi khi sử dụng chúng.', 'Tai nghe này là một sản phẩm hoàn hảo cho việc nghe nhạc và xem phim. Tôi yêu thích cách mà nó giữ vững chất lượng âm thanh trong mọi tình huống.', 'Sản phẩm này đáng giá mỗi đồng tiền. Tôi không ngừng khen ngợi về chất lượng âm thanh và thiết kế tiện lợi của nó.'], 'negative': ['Chất lượng dịch vụ kém, nhân viên không thân thiện và không chuyên nghiệp.', 'Dịch vụ giao hàng quá chậm chạp. Đã phải đợi hàng tuần và cuối cùng nhận được sản phẩm hỏng.', 'Tai nghe này không thoải mái khi đeo, gây đau tai sau một thời gian sử dụng.', 'Sản phẩm này thực sự tệ, chất lượng không đáng giá số tiền mình đã chi trả'], 'neutral': ['Tai nghe này không phải là lựa chọn hàng đầu của tôi, nhưng cũng không tệ.', 'Sản phẩm này đủ tốt để sử dụng, không gây ra bất kỳ vấn đề nào đáng kể, nhưng cũng không có ấn tượng sâu sắc.', 'Dịch vụ giao hàng tốt, nhưng sản phẩm không đặc biệt lắm.']}\"}, excluded_embed_metadata_keys=[], excluded_llm_metadata_keys=[], relationships={<NodeRelationship.SOURCE: '1'>: RelatedNodeInfo(node_id='a2aaa1e5-b174-4dc9-b494-229a062345f2', node_type=<ObjectType.DOCUMENT: '4'>, metadata={'PRODUCT_NAME': 'Tai nghe Bluetooth True Wireless SoundPEATS Mac', 'PRICE_REMAINING': 450000, 'PRODUCT_IMAGE': 'https://cdn2.cellphones.com.vn/insecure/rs:fill:358:358/q:90/plain/https://cellphones.com.vn/media/catalog/product/g/r/group_198_1_.png', 'PRODUCT_LINK': 'https://cellphones.com.vn/tai-nghe-khong-day-soundpeats-mac.html', 'Review': \"{'positive': ['Tai nghe này không chỉ mang lại trải nghiệm âm nhạc tuyệt vời mà còn rất thoải mái khi đeo lâu. Tôi cảm thấy thích thú mỗi khi sử dụng chúng.', 'Tai nghe này là một sản phẩm hoàn hảo cho việc nghe nhạc và xem phim. Tôi yêu thích cách mà nó giữ vững chất lượng âm thanh trong mọi tình huống.', 'Sản phẩm này đáng giá mỗi đồng tiền. Tôi không ngừng khen ngợi về chất lượng âm thanh và thiết kế tiện lợi của nó.'], 'negative': ['Chất lượng dịch vụ kém, nhân viên không thân thiện và không chuyên nghiệp.', 'Dịch vụ giao hàng quá chậm chạp. Đã phải đợi hàng tuần và cuối cùng nhận được sản phẩm hỏng.', 'Tai nghe này không thoải mái khi đeo, gây đau tai sau một thời gian sử dụng.', 'Sản phẩm này thực sự tệ, chất lượng không đáng giá số tiền mình đã chi trả'], 'neutral': ['Tai nghe này không phải là lựa chọn hàng đầu của tôi, nhưng cũng không tệ.', 'Sản phẩm này đủ tốt để sử dụng, không gây ra bất kỳ vấn đề nào đáng kể, nhưng cũng không có ấn tượng sâu sắc.', 'Dịch vụ giao hàng tốt, nhưng sản phẩm không đặc biệt lắm.']}\"}, hash='93249cf92fe75d4c23dc200e73d8c299f81080a7963e9994955fe677a9b3100e')}, text='ĐẶC ĐIỂM NỔI BẬT Thoải mái hoạt động không lo trời mưa hoặc nước bắn với chuẩn chống nước IPX7 Màng loa 10mm được tinh chỉnh chuyên nghiệp cho chất lượng âm thanh sống động Thời lượng pin siêu lớn cho tổng thời gian sử dụng lên đến 60 giờ khi kèm hộp sạc Thiết kế nhỏ gọn, bộ điều khiển thông minh, tiện lợi được tích hợp sẵn trên tai nghe Tai Nghe True Wireless SoundPeats Mac – Âm thanh chất lượng, điều khiển dễ dàng Tai nghe không dây hiện đang là xu hướng sử dụng của người dùng. Nếu bạn đang tìm kiếm một mẫu tai nghe không dây chất lượng hãy tham khảo sản phẩm tai nghe True Wireless Earbuds SoundPeats Mac. Chất lượng âm thanh vượt trội, điều khiển dễ dàng Tai nghe true wireless SoundPEATS MAC được trang bị trình điều khiển 6mm giúp âm thanh được tinh chỉnh với âm trầm sâu, âm bổng tốt nhờ đó mang lại trải nghiệm âm thanh mượt mà. Xem thêm', start_char_idx=0, end_char_idx=851, text_template='{metadata_str}\\n\\n{content}', metadata_template='{key}: {value}', metadata_seperator='\\n'), score=0.8941539222361226),\n",
              " NodeWithScore(node=TextNode(id_='2bf2b46e-67c6-4ff8-b9d0-8cb4193c1cf4', embedding=None, metadata={'PRODUCT_NAME': 'Tai nghe Bluetooth True Wireless SoundPEATS True Air 2', 'PRICE_REMAINING': 620000, 'PRODUCT_IMAGE': 'https://cdn2.cellphones.com.vn/insecure/rs:fill:358:358/q:90/plain/https://cellphones.com.vn/media/catalog/product/g/r/group_199_1_1.png', 'PRODUCT_LINK': 'https://cellphones.com.vn/tai-nghe-khong-day-soundpeats-trueair-2.html', 'Review': \"{'positive': ['Dịch vụ giao hàng nhanh chóng và chính xác. Tôi rất ấn tượng với cách họ xử lý đơn hàng của tôi.', 'Tai nghe này thực sự tuyệt vời, âm thanh rõ ràng, bass mạnh mẽ, và thoải mái khi đeo.', 'Sản phẩm này đáng giá mỗi đồng tiền. Tôi không hề hối hận khi mua nó.'], 'negative': ['Tai nghe này không thoải mái khi đeo, gây đau tai sau một thời gian sử dụng.', 'Sản phẩm đến tay tôi đã bị hỏng, đóng gói kém chất lượng.', 'Không bao giờ mua lại sản phẩm từ nhà cung cấp này. Chất lượng kém và dịch vụ khách hàng không chuyên nghiệp.'], 'neutral': ['Tai nghe này không quá tốt nhưng cũng không quá tệ, chất lượng âm thanh ổn định.', 'Sản phẩm này khá bình thường, không có gì đặc biệt nhưng cũng không có gì đáng phàn nàn.', 'Chất lượng dịch vụ của cửa hàng này khá trung bình, không quá ấn tượng nhưng cũng không gây phàn nàn.']}\"}, excluded_embed_metadata_keys=[], excluded_llm_metadata_keys=[], relationships={<NodeRelationship.SOURCE: '1'>: RelatedNodeInfo(node_id='c04f99c1-e1a3-41f2-bda9-055942ef3d80', node_type=<ObjectType.DOCUMENT: '4'>, metadata={'PRODUCT_NAME': 'Tai nghe Bluetooth True Wireless SoundPEATS True Air 2', 'PRICE_REMAINING': 620000, 'PRODUCT_IMAGE': 'https://cdn2.cellphones.com.vn/insecure/rs:fill:358:358/q:90/plain/https://cellphones.com.vn/media/catalog/product/g/r/group_199_1_1.png', 'PRODUCT_LINK': 'https://cellphones.com.vn/tai-nghe-khong-day-soundpeats-trueair-2.html', 'Review': \"{'positive': ['Dịch vụ giao hàng nhanh chóng và chính xác. Tôi rất ấn tượng với cách họ xử lý đơn hàng của tôi.', 'Tai nghe này thực sự tuyệt vời, âm thanh rõ ràng, bass mạnh mẽ, và thoải mái khi đeo.', 'Sản phẩm này đáng giá mỗi đồng tiền. Tôi không hề hối hận khi mua nó.'], 'negative': ['Tai nghe này không thoải mái khi đeo, gây đau tai sau một thời gian sử dụng.', 'Sản phẩm đến tay tôi đã bị hỏng, đóng gói kém chất lượng.', 'Không bao giờ mua lại sản phẩm từ nhà cung cấp này. Chất lượng kém và dịch vụ khách hàng không chuyên nghiệp.'], 'neutral': ['Tai nghe này không quá tốt nhưng cũng không quá tệ, chất lượng âm thanh ổn định.', 'Sản phẩm này khá bình thường, không có gì đặc biệt nhưng cũng không có gì đáng phàn nàn.', 'Chất lượng dịch vụ của cửa hàng này khá trung bình, không quá ấn tượng nhưng cũng không gây phàn nàn.']}\"}, hash='55940a11996da6f356df26f50af1f12ba721e0147612e4e0a26c2341c1423d73')}, text='ĐẶC ĐIỂM NỔI BẬT Chip âm thanh Qualcomm QCC3040 và bộ giải mã ATPX cho chất âm trung thực Micro kép cùng công nghệ khử ồn CVC 8.0 mang đến trải nghiệm đàm thoại tốt Thiết kế semi-in-ear cho cảm giác đeo thoải mái, không gây đau tai hay bí bách Công nghệ kháng nước, bụi chuẩn IPX4 giúp bảo vệ an toàn tối ưu cho tai nghe Tai nghe không dây Earbuds Soundpeats True Air 2 – Khử tiếng ồn CVC cho bạn tập trung lắng nghe hơn Sau True Air 1, Soundpeats tiếp tục mang đến cho người dùng mẫu tai nghe không dây Earbuds Soundpeats True Air 2 với nhiều tính năng được nâng cấp nổi bật là khả năng khử tiếng ồn CVC cùng công nghệ TrueWireless Mirroring cho âm thanh du dương trong một thiết kế nhỏ gọn. Thiết kế nhỏ gọn, cảm giác đeo thoải mái và chống nước IPX4 Tai nghe không dây Earbuds Soundpeats True Air 2 có thiết kế đơn giản và nhỏ gọn với màu đen nhám mờ sang trọng. Kích thước chỉ 52.07 x 52.07 x 21.08 mm và trọng lượng mỗi bên tai nghe là 4g và trọng lượng của hộp sạc là 27g vô cùng nhỏ gọn, bỏ túi tiện lợi. Xem thêm', start_char_idx=0, end_char_idx=1020, text_template='{metadata_str}\\n\\n{content}', metadata_template='{key}: {value}', metadata_seperator='\\n'), score=0.8926639117270929),\n",
              " NodeWithScore(node=TextNode(id_='cff48fc0-a14b-4872-b70d-a71cc0ee1bfa', embedding=None, metadata={'PRODUCT_NAME': 'Tai nghe chụp tai Sony MDR-ZX310AP', 'PRICE_REMAINING': 690000, 'PRODUCT_IMAGE': 'https://cdn2.cellphones.com.vn/insecure/rs:fill:358:358/q:90/plain/https://cellphones.com.vn/media/catalog/product/s/o/sony-mdr-zx310ap.png', 'PRODUCT_LINK': 'https://cellphones.com.vn/sony-mdr-zx310ap.html', 'Review': \"{'positive': ['Tai nghe này không chỉ mang lại trải nghiệm âm nhạc tuyệt vời mà còn rất thoải mái khi đeo lâu. Tôi cảm thấy thích thú mỗi khi sử dụng chúng.', 'Chất lượng âm thanh của sản phẩm này vượt xa mong đợi của tôi. Tôi rất hài lòng với trải nghiệm nghe nhạc của mình.', 'Chất lượng sản phẩm vượt xa mong đợi của tôi. Tôi đã mua nhiều sản phẩm từ công ty này và chưa bao giờ thất vọng.'], 'negative': ['Chất lượng dịch vụ kém, nhân viên không thân thiện và không chuyên nghiệp.', 'Sản phẩm như đồ giả, không giống như mô tả trên trang web. Rất thất vọng với chất lượng này.', 'Sản phẩm này thực sự tệ, chất lượng không đáng giá số tiền mình đã chi trả', 'Dịch vụ khách hàng quá tệ, không ai phản hồi khi tôi gặp vấn đề với sản phẩm của họ.', 'Tôi rất thất vọng với sản phẩm này, không giống như quảng cáo cho thấy.'], 'neutral': ['Dịch vụ giao hàng tốt, nhưng sản phẩm không đặc biệt lắm.', 'Tai nghe này không quá cao cấp nhưng cũng không quá rẻ tiền, phù hợp với nhu cầu sử dụng hàng ngày.']}\"}, excluded_embed_metadata_keys=[], excluded_llm_metadata_keys=[], relationships={<NodeRelationship.SOURCE: '1'>: RelatedNodeInfo(node_id='bd600712-d04a-47e9-95bb-9ca4780c44fe', node_type=<ObjectType.DOCUMENT: '4'>, metadata={'PRODUCT_NAME': 'Tai nghe chụp tai Sony MDR-ZX310AP', 'PRICE_REMAINING': 690000, 'PRODUCT_IMAGE': 'https://cdn2.cellphones.com.vn/insecure/rs:fill:358:358/q:90/plain/https://cellphones.com.vn/media/catalog/product/s/o/sony-mdr-zx310ap.png', 'PRODUCT_LINK': 'https://cellphones.com.vn/sony-mdr-zx310ap.html', 'Review': \"{'positive': ['Tai nghe này không chỉ mang lại trải nghiệm âm nhạc tuyệt vời mà còn rất thoải mái khi đeo lâu. Tôi cảm thấy thích thú mỗi khi sử dụng chúng.', 'Chất lượng âm thanh của sản phẩm này vượt xa mong đợi của tôi. Tôi rất hài lòng với trải nghiệm nghe nhạc của mình.', 'Chất lượng sản phẩm vượt xa mong đợi của tôi. Tôi đã mua nhiều sản phẩm từ công ty này và chưa bao giờ thất vọng.'], 'negative': ['Chất lượng dịch vụ kém, nhân viên không thân thiện và không chuyên nghiệp.', 'Sản phẩm như đồ giả, không giống như mô tả trên trang web. Rất thất vọng với chất lượng này.', 'Sản phẩm này thực sự tệ, chất lượng không đáng giá số tiền mình đã chi trả', 'Dịch vụ khách hàng quá tệ, không ai phản hồi khi tôi gặp vấn đề với sản phẩm của họ.', 'Tôi rất thất vọng với sản phẩm này, không giống như quảng cáo cho thấy.'], 'neutral': ['Dịch vụ giao hàng tốt, nhưng sản phẩm không đặc biệt lắm.', 'Tai nghe này không quá cao cấp nhưng cũng không quá rẻ tiền, phù hợp với nhu cầu sử dụng hàng ngày.']}\"}, hash='7f082ea4b64b7cb8ed30ae1ecd80612dbd42e162790d26dfcdef8d5f6c846087')}, text='ĐẶC ĐIỂM NỔI BẬT Trọng lượng siêu mỏng nhẹ,cảm giác đeo thoải mái cả ngày Màng loa 30mm mang tới âm thanh sắc nét,trung thực Jack cắm 3.5mm hỗ trợ đa số thiết bị thông dụng Có thể gấp gọn để mang theo,cất trong Balo Tai nghe có dây Sony MDR-ZX310AP - Với âm bass chất lượng cùng cải thiện đáng kể về thiết kế Tai nghe Sony MDR-ZX310AP sẽ đem đến cho bạn trải nghiệm thú vị với những tính năng vượt trội cả về hiệu năng lẫn thiết kế để khi cuộc sống ngày càng bận rộn và căng thẳng thì âm nhạc luôn mang đến cho bạn cảm giác thoải mái, thư giãn và đem đến cho bạn nguồn cảm hứng bất tận. Việc sở hữu một tai nghe để tận hưởng từng khoảnh khắc âm nhạc mà không ảnh hưởng đến người xung quanh là điều cần thiết. . Tai nghe Sony MDR-ZX310AP thiết kế phần housing rất bóng bẩy, hạn chế trầy xước Ra mắt cùng 1 lúc với MDR-ZX110AP nhưng ấn tượng của người dùng về Sony MDR-ZX310AP là cao hơn do được cải thiện về thiết kế cũng như chất liệu. Được làm bằng chất liệu nhựa nên tạo tạo cho người dùng cảm giác nhẹ, chắc chắn có thể đem theo bất cứ đâu tiện lợi. Xem thêm', start_char_idx=0, end_char_idx=1061, text_template='{metadata_str}\\n\\n{content}', metadata_template='{key}: {value}', metadata_seperator='\\n'), score=0.891521712074538),\n",
              " NodeWithScore(node=TextNode(id_='79736911-7bcf-4b18-8e49-d9dd93d494e6', embedding=None, metadata={'PRODUCT_NAME': 'Tai nghe Bluetooth Baseus Bowie P1', 'PRICE_REMAINING': 369996, 'PRODUCT_IMAGE': 'https://cdn2.cellphones.com.vn/insecure/rs:fill:358:358/q:90/plain/https://cellphones.com.vn/media/catalog/product/f/r/frame_1_3_1.png', 'PRODUCT_LINK': 'https://cellphones.com.vn/tai-nghe-bluetooth-baseus-bowie-p1.html', 'Review': \"{'positive': ['Tai nghe này thực sự tuyệt vời! Âm thanh rõ ràng, bass mạnh mẽ và thoải mái đeo suốt cả ngày.', 'Dịch vụ khách hàng tuyệt vời! Nhân viên thân thiện và nhiệt tình, đã giúp tôi giải quyết vấn đề ngay lập tức.', 'Sản phẩm này đáng giá mỗi đồng tiền. Tôi không hề hối hận khi mua nó.', 'Sản phẩm này đáng giá mỗi đồng tiền. Tôi không ngừng khen ngợi về chất lượng âm thanh và thiết kế tiện lợi của nó.'], 'negative': ['Sản phẩm đã hỏng ngay sau khi mở hộp, rất thất vọng về chất lượng này.', 'Tai nghe gây đau tai khi sử dụng lâu, không thoải mái cho tai của tôi.', 'Tai nghe này chất lượng quá kém, âm thanh rè và bị méo mó sau một thời gian sử dụng.'], 'neutral': ['Dịch vụ giao hàng tốt, nhưng sản phẩm không đặc biệt lắm.', 'Dịch vụ này khá chấp nhận được, không có gì quá nổi bật nhưng cũng không có vấn đề nào đáng lưu ý.', 'Sản phẩm này khá ổn, không gây ấn tượng sâu nhưng cũng không có vấn đề gì đáng ngại.', 'Dịch vụ này chưa đến mức xuất sắc nhưng cũng không tệ, đáp ứng được nhu cầu cơ bản của tôi.']}\"}, excluded_embed_metadata_keys=[], excluded_llm_metadata_keys=[], relationships={<NodeRelationship.SOURCE: '1'>: RelatedNodeInfo(node_id='811ed81e-feb9-4013-a63e-005efd3b3469', node_type=<ObjectType.DOCUMENT: '4'>, metadata={'PRODUCT_NAME': 'Tai nghe Bluetooth Baseus Bowie P1', 'PRICE_REMAINING': 369996, 'PRODUCT_IMAGE': 'https://cdn2.cellphones.com.vn/insecure/rs:fill:358:358/q:90/plain/https://cellphones.com.vn/media/catalog/product/f/r/frame_1_3_1.png', 'PRODUCT_LINK': 'https://cellphones.com.vn/tai-nghe-bluetooth-baseus-bowie-p1.html', 'Review': \"{'positive': ['Tai nghe này thực sự tuyệt vời! Âm thanh rõ ràng, bass mạnh mẽ và thoải mái đeo suốt cả ngày.', 'Dịch vụ khách hàng tuyệt vời! Nhân viên thân thiện và nhiệt tình, đã giúp tôi giải quyết vấn đề ngay lập tức.', 'Sản phẩm này đáng giá mỗi đồng tiền. Tôi không hề hối hận khi mua nó.', 'Sản phẩm này đáng giá mỗi đồng tiền. Tôi không ngừng khen ngợi về chất lượng âm thanh và thiết kế tiện lợi của nó.'], 'negative': ['Sản phẩm đã hỏng ngay sau khi mở hộp, rất thất vọng về chất lượng này.', 'Tai nghe gây đau tai khi sử dụng lâu, không thoải mái cho tai của tôi.', 'Tai nghe này chất lượng quá kém, âm thanh rè và bị méo mó sau một thời gian sử dụng.'], 'neutral': ['Dịch vụ giao hàng tốt, nhưng sản phẩm không đặc biệt lắm.', 'Dịch vụ này khá chấp nhận được, không có gì quá nổi bật nhưng cũng không có vấn đề nào đáng lưu ý.', 'Sản phẩm này khá ổn, không gây ấn tượng sâu nhưng cũng không có vấn đề gì đáng ngại.', 'Dịch vụ này chưa đến mức xuất sắc nhưng cũng không tệ, đáp ứng được nhu cầu cơ bản của tôi.']}\"}, hash='99fb4779d7d09cba5ed2c6dbe7fa50924f9a7283c43bbdf52304671194c3b440')}, text='ĐẶC ĐIỂM NỔI BẬT Thoải mái vận động với thiết kế trẻ trung, năng động cùng tone màu đen cuốn hút Vòng đeo cổ được hoàn thiện mềm mại kết hợp dây đeo chống rối vô cùng tiện lợi Đồng hành cả ngày dài với viên pin có thời lượng lên đến 25 giờ cho một lần sạc Kháng nước IPX5 cho phép sử dụng ngoài thời tiết xấu mà không lo thấm nước Tai Nghe Baseus Bowie P1 – Thiết kế sang trọng, đẹp mắt Tai Nghe Bluetooth Baseus Bowie P1 là phụ kiện không thể thiếu để giúp cho bạn được thưởng thức âm nhạc hoàn hảo nhất. Với thiết kế nhỏ gọn, dễ dàng mang theo di chuyển cùng những công nghệ tích hợp thông minh, phụ kiện tai nghe Bluetooth này cho âm thanh truyền tới người nghe một cách sống động. Thiết kế sang trọng, năng động Baseus Bowie P1 được thiết kế dạng vòng đeo cổ vô cùng chắc chắn, phù hợp cho ai thường xuyên tập luyện thể thao, hoạt động ngoài trời nhiều hơn, với thiết kế như này có thể giúp bạn không cần phải lo tai nghe bị rớt. Xem thêm', start_char_idx=0, end_char_idx=942, text_template='{metadata_str}\\n\\n{content}', metadata_template='{key}: {value}', metadata_seperator='\\n'), score=0.8897125807006706),\n",
              " NodeWithScore(node=TextNode(id_='b8748977-d606-428c-9ea1-efbcda524f6f', embedding=None, metadata={'PRODUCT_NAME': 'Tai nghe Bluetooth True Wireless Defunc True Music', 'PRICE_REMAINING': 370000, 'PRODUCT_IMAGE': 'https://cdn2.cellphones.com.vn/insecure/rs:fill:358:358/q:90/plain/https://cellphones.com.vn/media/catalog/product/t/a/tai-nghe-bluetooth-defunc-true-music-0.png', 'PRODUCT_LINK': 'https://cellphones.com.vn/tai-nghe-bluetooth-defunc-true-music.html', 'Review': \"{'positive': ['Tôi rất hài lòng với chất lượng sản phẩm và dịch vụ của công ty. Chắc chắn sẽ mua lại ở đây!', 'Tai nghe này có thiết kế đẹp mắt và cực kỳ chất lượng. Tôi đã sử dụng trong một thời gian dài và vẫn hoạt động tốt như mới.'], 'negative': ['Dịch vụ giao hàng quá chậm chạp. Đã phải đợi hàng tuần và cuối cùng nhận được sản phẩm hỏng.', 'Dịch vụ giao hàng quá chậm, tôi đã phải đợi gần một tháng để nhận được đơn hàng của mình.'], 'neutral': ['Sản phẩm này đáp ứng được mong đợi của tôi, không có gì đặc biệt nhưng cũng không gây thất vọng.', 'Dịch vụ của cửa hàng này không đến nỗi xuất sắc nhưng cũng không tệ lắm, giá cả hợp lý.', 'Dịch vụ khách hàng ở đây khá ổn, không có gì đặc biệt nhưng cũng không gây thất vọng.']}\"}, excluded_embed_metadata_keys=[], excluded_llm_metadata_keys=[], relationships={<NodeRelationship.SOURCE: '1'>: RelatedNodeInfo(node_id='fcd33bdf-467a-4bf2-97f1-dfa6ab7f572d', node_type=<ObjectType.DOCUMENT: '4'>, metadata={'PRODUCT_NAME': 'Tai nghe Bluetooth True Wireless Defunc True Music', 'PRICE_REMAINING': 370000, 'PRODUCT_IMAGE': 'https://cdn2.cellphones.com.vn/insecure/rs:fill:358:358/q:90/plain/https://cellphones.com.vn/media/catalog/product/t/a/tai-nghe-bluetooth-defunc-true-music-0.png', 'PRODUCT_LINK': 'https://cellphones.com.vn/tai-nghe-bluetooth-defunc-true-music.html', 'Review': \"{'positive': ['Tôi rất hài lòng với chất lượng sản phẩm và dịch vụ của công ty. Chắc chắn sẽ mua lại ở đây!', 'Tai nghe này có thiết kế đẹp mắt và cực kỳ chất lượng. Tôi đã sử dụng trong một thời gian dài và vẫn hoạt động tốt như mới.'], 'negative': ['Dịch vụ giao hàng quá chậm chạp. Đã phải đợi hàng tuần và cuối cùng nhận được sản phẩm hỏng.', 'Dịch vụ giao hàng quá chậm, tôi đã phải đợi gần một tháng để nhận được đơn hàng của mình.'], 'neutral': ['Sản phẩm này đáp ứng được mong đợi của tôi, không có gì đặc biệt nhưng cũng không gây thất vọng.', 'Dịch vụ của cửa hàng này không đến nỗi xuất sắc nhưng cũng không tệ lắm, giá cả hợp lý.', 'Dịch vụ khách hàng ở đây khá ổn, không có gì đặc biệt nhưng cũng không gây thất vọng.']}\"}, hash='03647a3cc1f7e95beb4d75bf99eb157d33a4ed97a9a14b9d419881eedbe47ef9')}, text='ĐẶC ĐIỂM NỔI BẬT Trải nghiệm âm thanh liền mạch, ổn định, hạn chế bị gián đoạn với độ trễ thấp Tổng thời lượng pin lên đến 12 giờ tích hợp sạc nhanh thông qua cổng USB-C Kết nối nhanh, ổn định và tiết kiệm năng lượng nhờ vào công nghệ Bluetooth 5.2 Trình điều khiển kích thước lớn 10mm mang đến chất lượng âm thanh sống động Tai nghe Bluetooth Defunc True Music thu hút với thiết kế không dây cùng kiểu dáng công thái học mang lại cho người dùng cảm giác đeo thoải mái và dễ chịu. Bên cạnh đó, mẫu tai nghe Defunc này với driver rộng 13mm cùng mic đàm thoại chống nước IPX4 còn dễ dàng tạo trải nghiệm nghe gọi ấn tượng.  Tai nghe Bluetooth Defunc True Music - Thời thượng, trải nghiệm đắm chìm Với thiết kế không dây nhỏ gọn, tiện lợi cùng nhiều công nghệ âm thanh hiện đại, tai nghe Defunc True Music hoàn toàn có thể mang lại cho người dùng một trải nghiệm nghe đắm chìm.  Đắm chìm vào giai điệu du dương với trình điều khiển rộng 13mm  Điểm nhấn ấn tượng ở tai nghe Defunc True Music là trang bị công nghệ âm với công suất lớn, mang đến cho người dùng một trải nghiệm nghe nhạc đầy hứng khởi và chìm đắm.  Xem thêm', start_char_idx=0, end_char_idx=1118, text_template='{metadata_str}\\n\\n{content}', metadata_template='{key}: {value}', metadata_seperator='\\n'), score=0.8896524945019275)]"
            ]
          },
          "execution_count": 18,
          "metadata": {},
          "output_type": "execute_result"
        }
      ],
      "source": [
        "retriever.retrieve(\"những tai nghe dưới 700.000đ nên mua\")"
      ]
    },
    {
      "cell_type": "code",
      "execution_count": 27,
      "metadata": {
        "id": "DDRRI3r6NNVp"
      },
      "outputs": [],
      "source": [
        "\n",
        "def tool_get_RAG():\n",
        "    \"\"\"Returns the RAG\"\"\"\n",
        "    from llama_index.core.tools import RetrieverTool, QueryEngineTool\n",
        "    tool = RetrieverTool.from_defaults(\n",
        "        retriever,\n",
        "        name=\"VectorDB\",\n",
        "        description=\"Đây là công cụ tìm kiếm sản phẩm của cửa hàng cellphones\",\n",
        "    )\n",
        "    # run tool as langchain structured tool\n",
        "    lc_tool = tool.as_langchain_tool()\n",
        "    return lc_tool"
      ]
    },
    {
      "cell_type": "code",
      "execution_count": 29,
      "metadata": {},
      "outputs": [],
      "source": [
        "from llama_index.core.tools import RetrieverTool, QueryEngineTool\n",
        "tool = RetrieverTool.from_defaults(\n",
        "        retriever,\n",
        "        name=\"VectorDB\",\n",
        "        description=\"Đây là công cụ tìm kiếm sản phẩm của cửa hàng cellphones\",\n",
        "    )"
      ]
    },
    {
      "cell_type": "code",
      "execution_count": 31,
      "metadata": {},
      "outputs": [
        {
          "name": "stdout",
          "output_type": "stream",
          "text": [
            "Using query str: Những tai nghe nên mua\n",
            "Using filters: [('PRICE_REMAINING', '<', 700000)]\n",
            "**********\n",
            "Trace: query\n",
            "    |_retrieve -> 2.228636 seconds\n",
            "      |_templating -> 1.4e-05 seconds\n",
            "      |_llm -> 2.200142 seconds\n",
            "**********\n"
          ]
        },
        {
          "data": {
            "text/plain": [
              "ToolOutput(content=\"PRODUCT_NAME = Tai nghe Bluetooth True Wireless SoundPEATS Mac\\nPRICE_REMAINING = 450000\\nPRODUCT_IMAGE = https://cdn2.cellphones.com.vn/insecure/rs:fill:358:358/q:90/plain/https://cellphones.com.vn/media/catalog/product/g/r/group_198_1_.png\\nPRODUCT_LINK = https://cellphones.com.vn/tai-nghe-khong-day-soundpeats-mac.html\\nReview = {'positive': ['Tai nghe này không chỉ mang lại trải nghiệm âm nhạc tuyệt vời mà còn rất thoải mái khi đeo lâu. Tôi cảm thấy thích thú mỗi khi sử dụng chúng.', 'Tai nghe này là một sản phẩm hoàn hảo cho việc nghe nhạc và xem phim. Tôi yêu thích cách mà nó giữ vững chất lượng âm thanh trong mọi tình huống.', 'Sản phẩm này đáng giá mỗi đồng tiền. Tôi không ngừng khen ngợi về chất lượng âm thanh và thiết kế tiện lợi của nó.'], 'negative': ['Chất lượng dịch vụ kém, nhân viên không thân thiện và không chuyên nghiệp.', 'Dịch vụ giao hàng quá chậm chạp. Đã phải đợi hàng tuần và cuối cùng nhận được sản phẩm hỏng.', 'Tai nghe này không thoải mái khi đeo, gây đau tai sau một thời gian sử dụng.', 'Sản phẩm này thực sự tệ, chất lượng không đáng giá số tiền mình đã chi trả'], 'neutral': ['Tai nghe này không phải là lựa chọn hàng đầu của tôi, nhưng cũng không tệ.', 'Sản phẩm này đủ tốt để sử dụng, không gây ra bất kỳ vấn đề nào đáng kể, nhưng cũng không có ấn tượng sâu sắc.', 'Dịch vụ giao hàng tốt, nhưng sản phẩm không đặc biệt lắm.']}\\nĐẶC ĐIỂM NỔI BẬT Thoải mái hoạt động không lo trời mưa hoặc nước bắn với chuẩn chống nước IPX7 Màng loa 10mm được tinh chỉnh chuyên nghiệp cho chất lượng âm thanh sống động Thời lượng pin siêu lớn cho tổng thời gian sử dụng lên đến 60 giờ khi kèm hộp sạc Thiết kế nhỏ gọn, bộ điều khiển thông minh, tiện lợi được tích hợp sẵn trên tai nghe Tai Nghe True Wireless SoundPeats Mac – Âm thanh chất lượng, điều khiển dễ dàng Tai nghe không dây hiện đang là xu hướng sử dụng của người dùng. Nếu bạn đang tìm kiếm một mẫu tai nghe không dây chất lượng hãy tham khảo sản phẩm tai nghe True Wireless Earbuds SoundPeats Mac. Chất lượng âm thanh vượt trội, điều khiển dễ dàng Tai nghe true wireless SoundPEATS MAC được trang bị trình điều khiển 6mm giúp âm thanh được tinh chỉnh với âm trầm sâu, âm bổng tốt nhờ đó mang lại trải nghiệm âm thanh mượt mà. Xem thêm\\n\\nPRODUCT_NAME = Tai nghe Bluetooth True Wireless SoundPEATS True Air 2\\nPRICE_REMAINING = 620000\\nPRODUCT_IMAGE = https://cdn2.cellphones.com.vn/insecure/rs:fill:358:358/q:90/plain/https://cellphones.com.vn/media/catalog/product/g/r/group_199_1_1.png\\nPRODUCT_LINK = https://cellphones.com.vn/tai-nghe-khong-day-soundpeats-trueair-2.html\\nReview = {'positive': ['Dịch vụ giao hàng nhanh chóng và chính xác. Tôi rất ấn tượng với cách họ xử lý đơn hàng của tôi.', 'Tai nghe này thực sự tuyệt vời, âm thanh rõ ràng, bass mạnh mẽ, và thoải mái khi đeo.', 'Sản phẩm này đáng giá mỗi đồng tiền. Tôi không hề hối hận khi mua nó.'], 'negative': ['Tai nghe này không thoải mái khi đeo, gây đau tai sau một thời gian sử dụng.', 'Sản phẩm đến tay tôi đã bị hỏng, đóng gói kém chất lượng.', 'Không bao giờ mua lại sản phẩm từ nhà cung cấp này. Chất lượng kém và dịch vụ khách hàng không chuyên nghiệp.'], 'neutral': ['Tai nghe này không quá tốt nhưng cũng không quá tệ, chất lượng âm thanh ổn định.', 'Sản phẩm này khá bình thường, không có gì đặc biệt nhưng cũng không có gì đáng phàn nàn.', 'Chất lượng dịch vụ của cửa hàng này khá trung bình, không quá ấn tượng nhưng cũng không gây phàn nàn.']}\\nĐẶC ĐIỂM NỔI BẬT Chip âm thanh Qualcomm QCC3040 và bộ giải mã ATPX cho chất âm trung thực Micro kép cùng công nghệ khử ồn CVC 8.0 mang đến trải nghiệm đàm thoại tốt Thiết kế semi-in-ear cho cảm giác đeo thoải mái, không gây đau tai hay bí bách Công nghệ kháng nước, bụi chuẩn IPX4 giúp bảo vệ an toàn tối ưu cho tai nghe Tai nghe không dây Earbuds Soundpeats True Air 2 – Khử tiếng ồn CVC cho bạn tập trung lắng nghe hơn Sau True Air 1, Soundpeats tiếp tục mang đến cho người dùng mẫu tai nghe không dây Earbuds Soundpeats True Air 2 với nhiều tính năng được nâng cấp nổi bật là khả năng khử tiếng ồn CVC cùng công nghệ TrueWireless Mirroring cho âm thanh du dương trong một thiết kế nhỏ gọn. Thiết kế nhỏ gọn, cảm giác đeo thoải mái và chống nước IPX4 Tai nghe không dây Earbuds Soundpeats True Air 2 có thiết kế đơn giản và nhỏ gọn với màu đen nhám mờ sang trọng. Kích thước chỉ 52.07 x 52.07 x 21.08 mm và trọng lượng mỗi bên tai nghe là 4g và trọng lượng của hộp sạc là 27g vô cùng nhỏ gọn, bỏ túi tiện lợi. Xem thêm\\n\\nPRODUCT_NAME = Tai nghe Bluetooth chụp tai Soul Ultra Dynamic 2\\nPRICE_REMAINING = 650000\\nPRODUCT_IMAGE = https://cdn2.cellphones.com.vn/insecure/rs:fill:358:358/q:90/plain/https://cellphones.com.vn/media/catalog/product/g/r/group_247_1_2.png\\nPRODUCT_LINK = https://cellphones.com.vn/tai-nghe-chup-tai-soul-ultra-dynamic-2.html\\nReview = {'positive': ['Dịch vụ giao hàng nhanh chóng và sản phẩm được đóng gói cẩn thận. Tôi hoàn toàn hài lòng với trải nghiệm mua hàng này.', 'Dịch vụ sau bán hàng xuất sắc. Họ luôn sẵn lòng giải đáp mọi thắc mắc của tôi và giúp tôi khắc phục các vấn đề nhanh chóng.', 'Sản phẩm này đáng giá mọi xu mà tôi bỏ ra! Âm thanh chi tiết, độ trầm ấn tượng và khả năng cách âm tốt.', 'Tai nghe này thực sự tuyệt vời, âm thanh rõ ràng và bass mạnh mẽ, không có gì phải chê cả!', 'Âm thanh sống động, chất lượng tai nghe rất tốt. Tôi đã sử dụng nhiều loại tai nghe nhưng đây là một trong những loại tốt nhất mà tôi từng sở hữu.'], 'negative': ['Tai nghe gây đau tai khi sử dụng lâu, không thoải mái cho tai của tôi.', 'Dịch vụ của công ty quá tệ, không chuyên nghiệp và không thể tin cậy.', 'Không bao giờ mua lại sản phẩm từ nhà cung cấp này. Chất lượng kém và dịch vụ khách hàng không chuyên nghiệp.', 'Sản phẩm này rất không đáng giá, chất lượng rất kém so với giá tiền.'], 'neutral': ['Chất lượng dịch vụ của cửa hàng này khá trung bình, không quá ấn tượng nhưng cũng không gây phàn nàn.', 'Dịch vụ này khá chấp nhận được, không có gì quá nổi bật nhưng cũng không có vấn đề nào đáng lưu ý.', 'Tai nghe này không quá cao cấp nhưng cũng không quá rẻ tiền, phù hợp với nhu cầu sử dụng hàng ngày.', 'Sản phẩm này đủ tốt để sử dụng, không gây ra bất kỳ vấn đề nào đáng kể, nhưng cũng không có ấn tượng sâu sắc.']}\\nĐẶC ĐIỂM NỔI BẬT Thiết kế hiện đại, tai nghe có thể gấp gọn linh hoạt giúp dễ dàng mang theo Trình điều khiển 40 mm cho chất lượng âm thanh sống động và chân thực Trải nghiệm không gián đoạn với viên pin có thời lượng đến 60 giờ liên tục Công nghệ Bluetooth 5.2 giúp kết nối nhanh chóng, đường truyền ổn định Tai nghe chụp tai SOUL Ultra Dynamic 2 - Thiết kế tối giản, hiện đại Tai nghe chụp tai SOUL Ultra Dynamic 2 có ngoại hình trẻ trung, thiết kế đơn giản. Đặc biệt, mẫu tai nghe không dây dạng chụp tai này có thể điều chỉnh được kích thước của sản phẩm một cách linh hoạt, để đeo vừa vặn với từng người. Thiết kế tinh tế Tai nghe chụp tai SOUL Ultra Dynamic 2 hoàn thiện phần ốp tai khá chỉn chu, chất liệu mềm mại, ôm kín tai trong quá trình nghe nhạc. Với kiểu thiết kế này, hạn chế bị đẩy âm thanh ra ngoài, giúp người dùng trải nghiệm một cách trọn vẹn nhất. Xem thêm\\n\\nPRODUCT_NAME = Tai nghe Bluetooth True Wireless SoundPEATS Free2 Classic\\nPRICE_REMAINING = 420000\\nPRODUCT_IMAGE = https://cdn2.cellphones.com.vn/insecure/rs:fill:358:358/q:90/plain/https://cellphones.com.vn/media/catalog/product/g/r/group_266_2.png\\nPRODUCT_LINK = https://cellphones.com.vn/tai-nghe-bluetooth-soundpeats-free-2-classic.html\\nReview = {'positive': ['Chất lượng sản phẩm vượt xa mong đợi của tôi. Tôi đã mua nhiều sản phẩm từ công ty này và chưa bao giờ thất vọng.', 'Dịch vụ sau bán hàng xuất sắc. Họ luôn sẵn lòng giải đáp mọi thắc mắc của tôi và giúp tôi khắc phục các vấn đề nhanh chóng.'], 'negative': ['Sản phẩm không như mô tả, gặp nhiều vấn đề khi sử dụng, tôi không khuyến khích ai mua.', 'Dịch vụ giao hàng quá chậm chạp. Đã phải đợi hàng tuần và cuối cùng nhận được sản phẩm hỏng.', 'Sản phẩm đến tay tôi đã bị hỏng, đóng gói kém chất lượng.', 'Tai nghe này quá kém chất lượng, âm thanh nhòe và không rõ ràng.', 'Không bao giờ mua lại sản phẩm từ nhà cung cấp này. Chất lượng kém và dịch vụ khách hàng không chuyên nghiệp.'], 'neutral': ['Sản phẩm này khá bình thường, không có gì đặc biệt nhưng cũng không có gì đáng phàn nàn.', 'Dịch vụ của họ ổn định, không có gì nổi bật nhưng cũng không có vấn đề gì đáng lo ngại.']}\\nĐẶC ĐIỂM NỔI BẬT An tâm sử dụng trong mọi điều kiện môi trường nhờ chỉ số chống nước IPX8 Thời lượng sử dụng tai nghe 8 giờ liên tục và lên đến 24 giờ khi kèm hộp sạc Chất liệu cao cấp và thời thượng giúp người đeo luôn nổi bật trước đám đông Màng loa 6 mm mang đến chất âm sống động, chân thực, âm trầm mạnh mẽ Tai nghe Bluetooth Soundpeats Free2 Classic – Thiết kế hiện đại Tai nghe Bluetooth Soundpeats Free2 Classic được xem là sản phẩm đáng mua bởi hiệu năng và thiết kế ấn tượng mà sản phẩm đem lại. Vừa tung ra thị trường tai nghe này đã được săn đón nhiệt tình từ các tín đồ công nghệ, mới thấy sản phẩm được cải tiến hoàn thiện như thế nào Thiết kế hiện đại Tai nghe không dây Soundpeats Free2 Classic có màu đen đầy sang trọng, không kém phần hiện đại. Tạo khác biệt với đường vân ở vỏ case, tạo ra cảm giác đẳng cấp riêng cho người dùng. Xem thêm\\n\\nPRODUCT_NAME = Tai nghe Bluetooth thể thao SoundPEATS Wings2\\nPRICE_REMAINING = 590000\\nPRODUCT_IMAGE = https://cdn2.cellphones.com.vn/insecure/rs:fill:358:358/q:90/plain/https://cellphones.com.vn/media/catalog/product/t/a/tai-nghe-khong-day-soundpeats-wings2-0.png\\nPRODUCT_LINK = https://cellphones.com.vn/tai-nghe-khong-day-soundpeats-wings2.html\\nReview = {'positive': ['Tôi rất hài lòng với chất lượng sản phẩm và dịch vụ của công ty. Chắc chắn sẽ mua lại ở đây!', 'Sản phẩm này đáng giá mọi xu mà tôi bỏ ra! Âm thanh chi tiết, độ trầm ấn tượng và khả năng cách âm tốt.', 'Tai nghe này thực sự đỉnh cao của công nghệ! Thiết kế hiện đại, kết nối Bluetooth ổn định và chất lượng âm thanh tuyệt vời.', 'Dịch vụ giao hàng nhanh chóng và chính xác. Tôi rất ấn tượng với cách họ xử lý đơn hàng của tôi.', 'Dịch vụ giao hàng nhanh chóng và sản phẩm được đóng gói cẩn thận. Tôi hoàn toàn hài lòng với trải nghiệm mua hàng này.'], 'negative': ['Tai nghe này không thoải mái khi đeo, gây đau tai sau một thời gian sử dụng.', 'Dịch vụ của công ty này quá kém, không chuyên nghiệp chút nào.', 'Sản phẩm như đồ giả, không giống như mô tả trên trang web. Rất thất vọng với chất lượng này.', 'Dịch vụ khách hàng quá tệ, họ không giải quyết được vấn đề của tôi sau nhiều lần liên hệ.'], 'neutral': ['Dịch vụ của cửa hàng này không tạo ra ấn tượng mạnh mẽ, nhưng cũng không có vấn đề nào lớn.', 'Dịch vụ này chưa đến mức xuất sắc nhưng cũng không tệ, đáp ứng được nhu cầu cơ bản của tôi.', 'Chất lượng dịch vụ của cửa hàng này khá trung bình, không quá ấn tượng nhưng cũng không gây phàn nàn.']}\\nĐẶC ĐIỂM NỔI BẬT Thiết kế tinh tế với tai nghe dạng móc tai giúp hạn chế rơi khi vận động mạnh Độ trễ thấp 70ms giúp đồng hộ hoá giữa âm thanh và hình ảnh khi chơi game Driver kích thước lên đến 13mm cho ra chất âm sống động, âm trầm sâu lắng Thời lượng pin 30h phù hợp với nghe audiobook, họp online, xem phim dài tập Tai nghe không dây Soundpeats Wings2 - Âm thanh chân thật, sống động Tai nghe không dây Soundpeats Wings2 với thiết kế cực kỳ thời trang mang lại sự năng động cho người dùng. Với tính năng thông minh vượt trội, chất lượng âm thanh tuyệt vời, đây sẽ là mẫu tai nghe Soundpeats đáp ứng nhu cầu của bạn trong hoạt động thể thao và giải trí hàng ngày. Thiết kế năng động, móc tai chắc chắn Tai nghe SoundPEATS Wings2 được thiết kế đặc biệt cho hoạt động thể thao, với khả năng đảm bảo độ ổn định cao. Tai nghe với thiết kế mọc tai nhờ đó hạn chế đố đa tình trạng rơi tai nghe trong quá trình tập luyện thể thao. Bên cạnh đó thì kết nối không dây Bluetooth 5.3, tai nghe đảm bảo kết nối liên tục và ổn định với thiết bị của bạn.  Xem thêm\\n\\n\", tool_name='VectorDB', raw_input={'input': <bound method Kernel.raw_input of <ipykernel.ipkernel.IPythonKernel object at 0x76557d15c4c0>>}, raw_output=[NodeWithScore(node=TextNode(id_='02df0e0f-1f3f-43ec-befc-05b1bee469a9', embedding=None, metadata={'PRODUCT_NAME': 'Tai nghe Bluetooth True Wireless SoundPEATS Mac', 'PRICE_REMAINING': 450000, 'PRODUCT_IMAGE': 'https://cdn2.cellphones.com.vn/insecure/rs:fill:358:358/q:90/plain/https://cellphones.com.vn/media/catalog/product/g/r/group_198_1_.png', 'PRODUCT_LINK': 'https://cellphones.com.vn/tai-nghe-khong-day-soundpeats-mac.html', 'Review': \"{'positive': ['Tai nghe này không chỉ mang lại trải nghiệm âm nhạc tuyệt vời mà còn rất thoải mái khi đeo lâu. Tôi cảm thấy thích thú mỗi khi sử dụng chúng.', 'Tai nghe này là một sản phẩm hoàn hảo cho việc nghe nhạc và xem phim. Tôi yêu thích cách mà nó giữ vững chất lượng âm thanh trong mọi tình huống.', 'Sản phẩm này đáng giá mỗi đồng tiền. Tôi không ngừng khen ngợi về chất lượng âm thanh và thiết kế tiện lợi của nó.'], 'negative': ['Chất lượng dịch vụ kém, nhân viên không thân thiện và không chuyên nghiệp.', 'Dịch vụ giao hàng quá chậm chạp. Đã phải đợi hàng tuần và cuối cùng nhận được sản phẩm hỏng.', 'Tai nghe này không thoải mái khi đeo, gây đau tai sau một thời gian sử dụng.', 'Sản phẩm này thực sự tệ, chất lượng không đáng giá số tiền mình đã chi trả'], 'neutral': ['Tai nghe này không phải là lựa chọn hàng đầu của tôi, nhưng cũng không tệ.', 'Sản phẩm này đủ tốt để sử dụng, không gây ra bất kỳ vấn đề nào đáng kể, nhưng cũng không có ấn tượng sâu sắc.', 'Dịch vụ giao hàng tốt, nhưng sản phẩm không đặc biệt lắm.']}\"}, excluded_embed_metadata_keys=[], excluded_llm_metadata_keys=[], relationships={<NodeRelationship.SOURCE: '1'>: RelatedNodeInfo(node_id='a7639eed-542a-4324-ba21-7e0b3d9f8e4d', node_type=<ObjectType.DOCUMENT: '4'>, metadata={'PRODUCT_NAME': 'Tai nghe Bluetooth True Wireless SoundPEATS Mac', 'PRICE_REMAINING': 450000, 'PRODUCT_IMAGE': 'https://cdn2.cellphones.com.vn/insecure/rs:fill:358:358/q:90/plain/https://cellphones.com.vn/media/catalog/product/g/r/group_198_1_.png', 'PRODUCT_LINK': 'https://cellphones.com.vn/tai-nghe-khong-day-soundpeats-mac.html', 'Review': \"{'positive': ['Tai nghe này không chỉ mang lại trải nghiệm âm nhạc tuyệt vời mà còn rất thoải mái khi đeo lâu. Tôi cảm thấy thích thú mỗi khi sử dụng chúng.', 'Tai nghe này là một sản phẩm hoàn hảo cho việc nghe nhạc và xem phim. Tôi yêu thích cách mà nó giữ vững chất lượng âm thanh trong mọi tình huống.', 'Sản phẩm này đáng giá mỗi đồng tiền. Tôi không ngừng khen ngợi về chất lượng âm thanh và thiết kế tiện lợi của nó.'], 'negative': ['Chất lượng dịch vụ kém, nhân viên không thân thiện và không chuyên nghiệp.', 'Dịch vụ giao hàng quá chậm chạp. Đã phải đợi hàng tuần và cuối cùng nhận được sản phẩm hỏng.', 'Tai nghe này không thoải mái khi đeo, gây đau tai sau một thời gian sử dụng.', 'Sản phẩm này thực sự tệ, chất lượng không đáng giá số tiền mình đã chi trả'], 'neutral': ['Tai nghe này không phải là lựa chọn hàng đầu của tôi, nhưng cũng không tệ.', 'Sản phẩm này đủ tốt để sử dụng, không gây ra bất kỳ vấn đề nào đáng kể, nhưng cũng không có ấn tượng sâu sắc.', 'Dịch vụ giao hàng tốt, nhưng sản phẩm không đặc biệt lắm.']}\"}, hash='93249cf92fe75d4c23dc200e73d8c299f81080a7963e9994955fe677a9b3100e')}, text='ĐẶC ĐIỂM NỔI BẬT Thoải mái hoạt động không lo trời mưa hoặc nước bắn với chuẩn chống nước IPX7 Màng loa 10mm được tinh chỉnh chuyên nghiệp cho chất lượng âm thanh sống động Thời lượng pin siêu lớn cho tổng thời gian sử dụng lên đến 60 giờ khi kèm hộp sạc Thiết kế nhỏ gọn, bộ điều khiển thông minh, tiện lợi được tích hợp sẵn trên tai nghe Tai Nghe True Wireless SoundPeats Mac – Âm thanh chất lượng, điều khiển dễ dàng Tai nghe không dây hiện đang là xu hướng sử dụng của người dùng. Nếu bạn đang tìm kiếm một mẫu tai nghe không dây chất lượng hãy tham khảo sản phẩm tai nghe True Wireless Earbuds SoundPeats Mac. Chất lượng âm thanh vượt trội, điều khiển dễ dàng Tai nghe true wireless SoundPEATS MAC được trang bị trình điều khiển 6mm giúp âm thanh được tinh chỉnh với âm trầm sâu, âm bổng tốt nhờ đó mang lại trải nghiệm âm thanh mượt mà. Xem thêm', start_char_idx=0, end_char_idx=851, text_template='{metadata_str}\\n\\n{content}', metadata_template='{key}: {value}', metadata_seperator='\\n'), score=0.8953774126835469), NodeWithScore(node=TextNode(id_='ebebe66c-a042-46f1-9da5-1372ad889ef6', embedding=None, metadata={'PRODUCT_NAME': 'Tai nghe Bluetooth True Wireless SoundPEATS True Air 2', 'PRICE_REMAINING': 620000, 'PRODUCT_IMAGE': 'https://cdn2.cellphones.com.vn/insecure/rs:fill:358:358/q:90/plain/https://cellphones.com.vn/media/catalog/product/g/r/group_199_1_1.png', 'PRODUCT_LINK': 'https://cellphones.com.vn/tai-nghe-khong-day-soundpeats-trueair-2.html', 'Review': \"{'positive': ['Dịch vụ giao hàng nhanh chóng và chính xác. Tôi rất ấn tượng với cách họ xử lý đơn hàng của tôi.', 'Tai nghe này thực sự tuyệt vời, âm thanh rõ ràng, bass mạnh mẽ, và thoải mái khi đeo.', 'Sản phẩm này đáng giá mỗi đồng tiền. Tôi không hề hối hận khi mua nó.'], 'negative': ['Tai nghe này không thoải mái khi đeo, gây đau tai sau một thời gian sử dụng.', 'Sản phẩm đến tay tôi đã bị hỏng, đóng gói kém chất lượng.', 'Không bao giờ mua lại sản phẩm từ nhà cung cấp này. Chất lượng kém và dịch vụ khách hàng không chuyên nghiệp.'], 'neutral': ['Tai nghe này không quá tốt nhưng cũng không quá tệ, chất lượng âm thanh ổn định.', 'Sản phẩm này khá bình thường, không có gì đặc biệt nhưng cũng không có gì đáng phàn nàn.', 'Chất lượng dịch vụ của cửa hàng này khá trung bình, không quá ấn tượng nhưng cũng không gây phàn nàn.']}\"}, excluded_embed_metadata_keys=[], excluded_llm_metadata_keys=[], relationships={<NodeRelationship.SOURCE: '1'>: RelatedNodeInfo(node_id='01d2e3a0-6cfe-431c-a680-2b823e6d9d57', node_type=<ObjectType.DOCUMENT: '4'>, metadata={'PRODUCT_NAME': 'Tai nghe Bluetooth True Wireless SoundPEATS True Air 2', 'PRICE_REMAINING': 620000, 'PRODUCT_IMAGE': 'https://cdn2.cellphones.com.vn/insecure/rs:fill:358:358/q:90/plain/https://cellphones.com.vn/media/catalog/product/g/r/group_199_1_1.png', 'PRODUCT_LINK': 'https://cellphones.com.vn/tai-nghe-khong-day-soundpeats-trueair-2.html', 'Review': \"{'positive': ['Dịch vụ giao hàng nhanh chóng và chính xác. Tôi rất ấn tượng với cách họ xử lý đơn hàng của tôi.', 'Tai nghe này thực sự tuyệt vời, âm thanh rõ ràng, bass mạnh mẽ, và thoải mái khi đeo.', 'Sản phẩm này đáng giá mỗi đồng tiền. Tôi không hề hối hận khi mua nó.'], 'negative': ['Tai nghe này không thoải mái khi đeo, gây đau tai sau một thời gian sử dụng.', 'Sản phẩm đến tay tôi đã bị hỏng, đóng gói kém chất lượng.', 'Không bao giờ mua lại sản phẩm từ nhà cung cấp này. Chất lượng kém và dịch vụ khách hàng không chuyên nghiệp.'], 'neutral': ['Tai nghe này không quá tốt nhưng cũng không quá tệ, chất lượng âm thanh ổn định.', 'Sản phẩm này khá bình thường, không có gì đặc biệt nhưng cũng không có gì đáng phàn nàn.', 'Chất lượng dịch vụ của cửa hàng này khá trung bình, không quá ấn tượng nhưng cũng không gây phàn nàn.']}\"}, hash='55940a11996da6f356df26f50af1f12ba721e0147612e4e0a26c2341c1423d73')}, text='ĐẶC ĐIỂM NỔI BẬT Chip âm thanh Qualcomm QCC3040 và bộ giải mã ATPX cho chất âm trung thực Micro kép cùng công nghệ khử ồn CVC 8.0 mang đến trải nghiệm đàm thoại tốt Thiết kế semi-in-ear cho cảm giác đeo thoải mái, không gây đau tai hay bí bách Công nghệ kháng nước, bụi chuẩn IPX4 giúp bảo vệ an toàn tối ưu cho tai nghe Tai nghe không dây Earbuds Soundpeats True Air 2 – Khử tiếng ồn CVC cho bạn tập trung lắng nghe hơn Sau True Air 1, Soundpeats tiếp tục mang đến cho người dùng mẫu tai nghe không dây Earbuds Soundpeats True Air 2 với nhiều tính năng được nâng cấp nổi bật là khả năng khử tiếng ồn CVC cùng công nghệ TrueWireless Mirroring cho âm thanh du dương trong một thiết kế nhỏ gọn. Thiết kế nhỏ gọn, cảm giác đeo thoải mái và chống nước IPX4 Tai nghe không dây Earbuds Soundpeats True Air 2 có thiết kế đơn giản và nhỏ gọn với màu đen nhám mờ sang trọng. Kích thước chỉ 52.07 x 52.07 x 21.08 mm và trọng lượng mỗi bên tai nghe là 4g và trọng lượng của hộp sạc là 27g vô cùng nhỏ gọn, bỏ túi tiện lợi. Xem thêm', start_char_idx=0, end_char_idx=1020, text_template='{metadata_str}\\n\\n{content}', metadata_template='{key}: {value}', metadata_seperator='\\n'), score=0.8935734307348785), NodeWithScore(node=TextNode(id_='7a26c3fe-05a5-4e5b-b1d4-1771d37350bd', embedding=None, metadata={'PRODUCT_NAME': 'Tai nghe Bluetooth chụp tai Soul Ultra Dynamic 2', 'PRICE_REMAINING': 650000, 'PRODUCT_IMAGE': 'https://cdn2.cellphones.com.vn/insecure/rs:fill:358:358/q:90/plain/https://cellphones.com.vn/media/catalog/product/g/r/group_247_1_2.png', 'PRODUCT_LINK': 'https://cellphones.com.vn/tai-nghe-chup-tai-soul-ultra-dynamic-2.html', 'Review': \"{'positive': ['Dịch vụ giao hàng nhanh chóng và sản phẩm được đóng gói cẩn thận. Tôi hoàn toàn hài lòng với trải nghiệm mua hàng này.', 'Dịch vụ sau bán hàng xuất sắc. Họ luôn sẵn lòng giải đáp mọi thắc mắc của tôi và giúp tôi khắc phục các vấn đề nhanh chóng.', 'Sản phẩm này đáng giá mọi xu mà tôi bỏ ra! Âm thanh chi tiết, độ trầm ấn tượng và khả năng cách âm tốt.', 'Tai nghe này thực sự tuyệt vời, âm thanh rõ ràng và bass mạnh mẽ, không có gì phải chê cả!', 'Âm thanh sống động, chất lượng tai nghe rất tốt. Tôi đã sử dụng nhiều loại tai nghe nhưng đây là một trong những loại tốt nhất mà tôi từng sở hữu.'], 'negative': ['Tai nghe gây đau tai khi sử dụng lâu, không thoải mái cho tai của tôi.', 'Dịch vụ của công ty quá tệ, không chuyên nghiệp và không thể tin cậy.', 'Không bao giờ mua lại sản phẩm từ nhà cung cấp này. Chất lượng kém và dịch vụ khách hàng không chuyên nghiệp.', 'Sản phẩm này rất không đáng giá, chất lượng rất kém so với giá tiền.'], 'neutral': ['Chất lượng dịch vụ của cửa hàng này khá trung bình, không quá ấn tượng nhưng cũng không gây phàn nàn.', 'Dịch vụ này khá chấp nhận được, không có gì quá nổi bật nhưng cũng không có vấn đề nào đáng lưu ý.', 'Tai nghe này không quá cao cấp nhưng cũng không quá rẻ tiền, phù hợp với nhu cầu sử dụng hàng ngày.', 'Sản phẩm này đủ tốt để sử dụng, không gây ra bất kỳ vấn đề nào đáng kể, nhưng cũng không có ấn tượng sâu sắc.']}\"}, excluded_embed_metadata_keys=[], excluded_llm_metadata_keys=[], relationships={<NodeRelationship.SOURCE: '1'>: RelatedNodeInfo(node_id='87293202-2f5b-4cb4-848e-bfe21a58eb5c', node_type=<ObjectType.DOCUMENT: '4'>, metadata={'PRODUCT_NAME': 'Tai nghe Bluetooth chụp tai Soul Ultra Dynamic 2', 'PRICE_REMAINING': 650000, 'PRODUCT_IMAGE': 'https://cdn2.cellphones.com.vn/insecure/rs:fill:358:358/q:90/plain/https://cellphones.com.vn/media/catalog/product/g/r/group_247_1_2.png', 'PRODUCT_LINK': 'https://cellphones.com.vn/tai-nghe-chup-tai-soul-ultra-dynamic-2.html', 'Review': \"{'positive': ['Dịch vụ giao hàng nhanh chóng và sản phẩm được đóng gói cẩn thận. Tôi hoàn toàn hài lòng với trải nghiệm mua hàng này.', 'Dịch vụ sau bán hàng xuất sắc. Họ luôn sẵn lòng giải đáp mọi thắc mắc của tôi và giúp tôi khắc phục các vấn đề nhanh chóng.', 'Sản phẩm này đáng giá mọi xu mà tôi bỏ ra! Âm thanh chi tiết, độ trầm ấn tượng và khả năng cách âm tốt.', 'Tai nghe này thực sự tuyệt vời, âm thanh rõ ràng và bass mạnh mẽ, không có gì phải chê cả!', 'Âm thanh sống động, chất lượng tai nghe rất tốt. Tôi đã sử dụng nhiều loại tai nghe nhưng đây là một trong những loại tốt nhất mà tôi từng sở hữu.'], 'negative': ['Tai nghe gây đau tai khi sử dụng lâu, không thoải mái cho tai của tôi.', 'Dịch vụ của công ty quá tệ, không chuyên nghiệp và không thể tin cậy.', 'Không bao giờ mua lại sản phẩm từ nhà cung cấp này. Chất lượng kém và dịch vụ khách hàng không chuyên nghiệp.', 'Sản phẩm này rất không đáng giá, chất lượng rất kém so với giá tiền.'], 'neutral': ['Chất lượng dịch vụ của cửa hàng này khá trung bình, không quá ấn tượng nhưng cũng không gây phàn nàn.', 'Dịch vụ này khá chấp nhận được, không có gì quá nổi bật nhưng cũng không có vấn đề nào đáng lưu ý.', 'Tai nghe này không quá cao cấp nhưng cũng không quá rẻ tiền, phù hợp với nhu cầu sử dụng hàng ngày.', 'Sản phẩm này đủ tốt để sử dụng, không gây ra bất kỳ vấn đề nào đáng kể, nhưng cũng không có ấn tượng sâu sắc.']}\"}, hash='3847fe156fcf844bb7fd024250120f0a747352de875d8d3fc8b0ca6595cc9737')}, text='ĐẶC ĐIỂM NỔI BẬT Thiết kế hiện đại, tai nghe có thể gấp gọn linh hoạt giúp dễ dàng mang theo Trình điều khiển 40 mm cho chất lượng âm thanh sống động và chân thực Trải nghiệm không gián đoạn với viên pin có thời lượng đến 60 giờ liên tục Công nghệ Bluetooth 5.2 giúp kết nối nhanh chóng, đường truyền ổn định Tai nghe chụp tai SOUL Ultra Dynamic 2 - Thiết kế tối giản, hiện đại Tai nghe chụp tai SOUL Ultra Dynamic 2 có ngoại hình trẻ trung, thiết kế đơn giản. Đặc biệt, mẫu tai nghe không dây dạng chụp tai này có thể điều chỉnh được kích thước của sản phẩm một cách linh hoạt, để đeo vừa vặn với từng người. Thiết kế tinh tế Tai nghe chụp tai SOUL Ultra Dynamic 2 hoàn thiện phần ốp tai khá chỉn chu, chất liệu mềm mại, ôm kín tai trong quá trình nghe nhạc. Với kiểu thiết kế này, hạn chế bị đẩy âm thanh ra ngoài, giúp người dùng trải nghiệm một cách trọn vẹn nhất. Xem thêm', start_char_idx=0, end_char_idx=877, text_template='{metadata_str}\\n\\n{content}', metadata_template='{key}: {value}', metadata_seperator='\\n'), score=0.8918426763721389), NodeWithScore(node=TextNode(id_='8fd40071-db89-41f0-a9f2-ab847a840763', embedding=None, metadata={'PRODUCT_NAME': 'Tai nghe Bluetooth True Wireless SoundPEATS Free2 Classic', 'PRICE_REMAINING': 420000, 'PRODUCT_IMAGE': 'https://cdn2.cellphones.com.vn/insecure/rs:fill:358:358/q:90/plain/https://cellphones.com.vn/media/catalog/product/g/r/group_266_2.png', 'PRODUCT_LINK': 'https://cellphones.com.vn/tai-nghe-bluetooth-soundpeats-free-2-classic.html', 'Review': \"{'positive': ['Chất lượng sản phẩm vượt xa mong đợi của tôi. Tôi đã mua nhiều sản phẩm từ công ty này và chưa bao giờ thất vọng.', 'Dịch vụ sau bán hàng xuất sắc. Họ luôn sẵn lòng giải đáp mọi thắc mắc của tôi và giúp tôi khắc phục các vấn đề nhanh chóng.'], 'negative': ['Sản phẩm không như mô tả, gặp nhiều vấn đề khi sử dụng, tôi không khuyến khích ai mua.', 'Dịch vụ giao hàng quá chậm chạp. Đã phải đợi hàng tuần và cuối cùng nhận được sản phẩm hỏng.', 'Sản phẩm đến tay tôi đã bị hỏng, đóng gói kém chất lượng.', 'Tai nghe này quá kém chất lượng, âm thanh nhòe và không rõ ràng.', 'Không bao giờ mua lại sản phẩm từ nhà cung cấp này. Chất lượng kém và dịch vụ khách hàng không chuyên nghiệp.'], 'neutral': ['Sản phẩm này khá bình thường, không có gì đặc biệt nhưng cũng không có gì đáng phàn nàn.', 'Dịch vụ của họ ổn định, không có gì nổi bật nhưng cũng không có vấn đề gì đáng lo ngại.']}\"}, excluded_embed_metadata_keys=[], excluded_llm_metadata_keys=[], relationships={<NodeRelationship.SOURCE: '1'>: RelatedNodeInfo(node_id='71c40f1e-4ff7-476f-b847-585d5cc4c3c8', node_type=<ObjectType.DOCUMENT: '4'>, metadata={'PRODUCT_NAME': 'Tai nghe Bluetooth True Wireless SoundPEATS Free2 Classic', 'PRICE_REMAINING': 420000, 'PRODUCT_IMAGE': 'https://cdn2.cellphones.com.vn/insecure/rs:fill:358:358/q:90/plain/https://cellphones.com.vn/media/catalog/product/g/r/group_266_2.png', 'PRODUCT_LINK': 'https://cellphones.com.vn/tai-nghe-bluetooth-soundpeats-free-2-classic.html', 'Review': \"{'positive': ['Chất lượng sản phẩm vượt xa mong đợi của tôi. Tôi đã mua nhiều sản phẩm từ công ty này và chưa bao giờ thất vọng.', 'Dịch vụ sau bán hàng xuất sắc. Họ luôn sẵn lòng giải đáp mọi thắc mắc của tôi và giúp tôi khắc phục các vấn đề nhanh chóng.'], 'negative': ['Sản phẩm không như mô tả, gặp nhiều vấn đề khi sử dụng, tôi không khuyến khích ai mua.', 'Dịch vụ giao hàng quá chậm chạp. Đã phải đợi hàng tuần và cuối cùng nhận được sản phẩm hỏng.', 'Sản phẩm đến tay tôi đã bị hỏng, đóng gói kém chất lượng.', 'Tai nghe này quá kém chất lượng, âm thanh nhòe và không rõ ràng.', 'Không bao giờ mua lại sản phẩm từ nhà cung cấp này. Chất lượng kém và dịch vụ khách hàng không chuyên nghiệp.'], 'neutral': ['Sản phẩm này khá bình thường, không có gì đặc biệt nhưng cũng không có gì đáng phàn nàn.', 'Dịch vụ của họ ổn định, không có gì nổi bật nhưng cũng không có vấn đề gì đáng lo ngại.']}\"}, hash='89bf30de8128a5b1fb326ab1377c00b9a6f1a176b8f7aacb1bd2d27a2c5aa9f2')}, text='ĐẶC ĐIỂM NỔI BẬT An tâm sử dụng trong mọi điều kiện môi trường nhờ chỉ số chống nước IPX8 Thời lượng sử dụng tai nghe 8 giờ liên tục và lên đến 24 giờ khi kèm hộp sạc Chất liệu cao cấp và thời thượng giúp người đeo luôn nổi bật trước đám đông Màng loa 6 mm mang đến chất âm sống động, chân thực, âm trầm mạnh mẽ Tai nghe Bluetooth Soundpeats Free2 Classic – Thiết kế hiện đại Tai nghe Bluetooth Soundpeats Free2 Classic được xem là sản phẩm đáng mua bởi hiệu năng và thiết kế ấn tượng mà sản phẩm đem lại. Vừa tung ra thị trường tai nghe này đã được săn đón nhiệt tình từ các tín đồ công nghệ, mới thấy sản phẩm được cải tiến hoàn thiện như thế nào Thiết kế hiện đại Tai nghe không dây Soundpeats Free2 Classic có màu đen đầy sang trọng, không kém phần hiện đại. Tạo khác biệt với đường vân ở vỏ case, tạo ra cảm giác đẳng cấp riêng cho người dùng. Xem thêm', start_char_idx=0, end_char_idx=857, text_template='{metadata_str}\\n\\n{content}', metadata_template='{key}: {value}', metadata_seperator='\\n'), score=0.8918330512963818), NodeWithScore(node=TextNode(id_='8d910988-4d82-4355-bc39-a9e795c4afdd', embedding=None, metadata={'PRODUCT_NAME': 'Tai nghe Bluetooth thể thao SoundPEATS Wings2', 'PRICE_REMAINING': 590000, 'PRODUCT_IMAGE': 'https://cdn2.cellphones.com.vn/insecure/rs:fill:358:358/q:90/plain/https://cellphones.com.vn/media/catalog/product/t/a/tai-nghe-khong-day-soundpeats-wings2-0.png', 'PRODUCT_LINK': 'https://cellphones.com.vn/tai-nghe-khong-day-soundpeats-wings2.html', 'Review': \"{'positive': ['Tôi rất hài lòng với chất lượng sản phẩm và dịch vụ của công ty. Chắc chắn sẽ mua lại ở đây!', 'Sản phẩm này đáng giá mọi xu mà tôi bỏ ra! Âm thanh chi tiết, độ trầm ấn tượng và khả năng cách âm tốt.', 'Tai nghe này thực sự đỉnh cao của công nghệ! Thiết kế hiện đại, kết nối Bluetooth ổn định và chất lượng âm thanh tuyệt vời.', 'Dịch vụ giao hàng nhanh chóng và chính xác. Tôi rất ấn tượng với cách họ xử lý đơn hàng của tôi.', 'Dịch vụ giao hàng nhanh chóng và sản phẩm được đóng gói cẩn thận. Tôi hoàn toàn hài lòng với trải nghiệm mua hàng này.'], 'negative': ['Tai nghe này không thoải mái khi đeo, gây đau tai sau một thời gian sử dụng.', 'Dịch vụ của công ty này quá kém, không chuyên nghiệp chút nào.', 'Sản phẩm như đồ giả, không giống như mô tả trên trang web. Rất thất vọng với chất lượng này.', 'Dịch vụ khách hàng quá tệ, họ không giải quyết được vấn đề của tôi sau nhiều lần liên hệ.'], 'neutral': ['Dịch vụ của cửa hàng này không tạo ra ấn tượng mạnh mẽ, nhưng cũng không có vấn đề nào lớn.', 'Dịch vụ này chưa đến mức xuất sắc nhưng cũng không tệ, đáp ứng được nhu cầu cơ bản của tôi.', 'Chất lượng dịch vụ của cửa hàng này khá trung bình, không quá ấn tượng nhưng cũng không gây phàn nàn.']}\"}, excluded_embed_metadata_keys=[], excluded_llm_metadata_keys=[], relationships={<NodeRelationship.SOURCE: '1'>: RelatedNodeInfo(node_id='1cbbc000-eb18-4f66-902b-5efc50bc93c2', node_type=<ObjectType.DOCUMENT: '4'>, metadata={'PRODUCT_NAME': 'Tai nghe Bluetooth thể thao SoundPEATS Wings2', 'PRICE_REMAINING': 590000, 'PRODUCT_IMAGE': 'https://cdn2.cellphones.com.vn/insecure/rs:fill:358:358/q:90/plain/https://cellphones.com.vn/media/catalog/product/t/a/tai-nghe-khong-day-soundpeats-wings2-0.png', 'PRODUCT_LINK': 'https://cellphones.com.vn/tai-nghe-khong-day-soundpeats-wings2.html', 'Review': \"{'positive': ['Tôi rất hài lòng với chất lượng sản phẩm và dịch vụ của công ty. Chắc chắn sẽ mua lại ở đây!', 'Sản phẩm này đáng giá mọi xu mà tôi bỏ ra! Âm thanh chi tiết, độ trầm ấn tượng và khả năng cách âm tốt.', 'Tai nghe này thực sự đỉnh cao của công nghệ! Thiết kế hiện đại, kết nối Bluetooth ổn định và chất lượng âm thanh tuyệt vời.', 'Dịch vụ giao hàng nhanh chóng và chính xác. Tôi rất ấn tượng với cách họ xử lý đơn hàng của tôi.', 'Dịch vụ giao hàng nhanh chóng và sản phẩm được đóng gói cẩn thận. Tôi hoàn toàn hài lòng với trải nghiệm mua hàng này.'], 'negative': ['Tai nghe này không thoải mái khi đeo, gây đau tai sau một thời gian sử dụng.', 'Dịch vụ của công ty này quá kém, không chuyên nghiệp chút nào.', 'Sản phẩm như đồ giả, không giống như mô tả trên trang web. Rất thất vọng với chất lượng này.', 'Dịch vụ khách hàng quá tệ, họ không giải quyết được vấn đề của tôi sau nhiều lần liên hệ.'], 'neutral': ['Dịch vụ của cửa hàng này không tạo ra ấn tượng mạnh mẽ, nhưng cũng không có vấn đề nào lớn.', 'Dịch vụ này chưa đến mức xuất sắc nhưng cũng không tệ, đáp ứng được nhu cầu cơ bản của tôi.', 'Chất lượng dịch vụ của cửa hàng này khá trung bình, không quá ấn tượng nhưng cũng không gây phàn nàn.']}\"}, hash='d238b2bec465cbd822ab38ca920cc8ccee71603adfce5cbe3ab60d1f35f2e5e0')}, text='ĐẶC ĐIỂM NỔI BẬT Thiết kế tinh tế với tai nghe dạng móc tai giúp hạn chế rơi khi vận động mạnh Độ trễ thấp 70ms giúp đồng hộ hoá giữa âm thanh và hình ảnh khi chơi game Driver kích thước lên đến 13mm cho ra chất âm sống động, âm trầm sâu lắng Thời lượng pin 30h phù hợp với nghe audiobook, họp online, xem phim dài tập Tai nghe không dây Soundpeats Wings2 - Âm thanh chân thật, sống động Tai nghe không dây Soundpeats Wings2 với thiết kế cực kỳ thời trang mang lại sự năng động cho người dùng. Với tính năng thông minh vượt trội, chất lượng âm thanh tuyệt vời, đây sẽ là mẫu tai nghe Soundpeats đáp ứng nhu cầu của bạn trong hoạt động thể thao và giải trí hàng ngày. Thiết kế năng động, móc tai chắc chắn Tai nghe SoundPEATS Wings2 được thiết kế đặc biệt cho hoạt động thể thao, với khả năng đảm bảo độ ổn định cao. Tai nghe với thiết kế mọc tai nhờ đó hạn chế đố đa tình trạng rơi tai nghe trong quá trình tập luyện thể thao. Bên cạnh đó thì kết nối không dây Bluetooth 5.3, tai nghe đảm bảo kết nối liên tục và ổn định với thiết bị của bạn.  Xem thêm', start_char_idx=0, end_char_idx=1052, text_template='{metadata_str}\\n\\n{content}', metadata_template='{key}: {value}', metadata_seperator='\\n'), score=0.8917705283617077)], is_error=False)"
            ]
          },
          "execution_count": 31,
          "metadata": {},
          "output_type": "execute_result"
        }
      ],
      "source": [
        "tool.call(\"Những tai nghe dưới 700.000đ nên mua\")"
      ]
    },
    {
      "cell_type": "code",
      "execution_count": 28,
      "metadata": {},
      "outputs": [
        {
          "ename": "NotImplementedError",
          "evalue": "`as_langchain_tool` not implemented here.",
          "output_type": "error",
          "traceback": [
            "\u001b[0;31m---------------------------------------------------------------------------\u001b[0m",
            "\u001b[0;31mNotImplementedError\u001b[0m                       Traceback (most recent call last)",
            "Cell \u001b[0;32mIn[28], line 1\u001b[0m\n\u001b[0;32m----> 1\u001b[0m \u001b[43mtool_get_RAG\u001b[49m\u001b[43m(\u001b[49m\u001b[43m)\u001b[49m\u001b[38;5;241m.\u001b[39minvoke(\u001b[38;5;124m\"\u001b[39m\u001b[38;5;124mNhững tai nghe dưới 700.000đ nên mua\u001b[39m\u001b[38;5;124m\"\u001b[39m)\n",
            "Cell \u001b[0;32mIn[27], line 10\u001b[0m, in \u001b[0;36mtool_get_RAG\u001b[0;34m()\u001b[0m\n\u001b[1;32m      4\u001b[0m tool \u001b[38;5;241m=\u001b[39m RetrieverTool\u001b[38;5;241m.\u001b[39mfrom_defaults(\n\u001b[1;32m      5\u001b[0m     retriever,\n\u001b[1;32m      6\u001b[0m     name\u001b[38;5;241m=\u001b[39m\u001b[38;5;124m\"\u001b[39m\u001b[38;5;124mVectorDB\u001b[39m\u001b[38;5;124m\"\u001b[39m,\n\u001b[1;32m      7\u001b[0m     description\u001b[38;5;241m=\u001b[39m\u001b[38;5;124m\"\u001b[39m\u001b[38;5;124mĐây là công cụ tìm kiếm sản phẩm của cửa hàng cellphones\u001b[39m\u001b[38;5;124m\"\u001b[39m,\n\u001b[1;32m      8\u001b[0m )\n\u001b[1;32m      9\u001b[0m \u001b[38;5;66;03m# run tool as langchain structured tool\u001b[39;00m\n\u001b[0;32m---> 10\u001b[0m lc_tool \u001b[38;5;241m=\u001b[39m \u001b[43mtool\u001b[49m\u001b[38;5;241;43m.\u001b[39;49m\u001b[43mas_langchain_tool\u001b[49m\u001b[43m(\u001b[49m\u001b[43m)\u001b[49m\n\u001b[1;32m     11\u001b[0m \u001b[38;5;28;01mreturn\u001b[39;00m lc_tool\n",
            "File \u001b[0;32m~/anaconda3/envs/LLMs/lib/python3.10/site-packages/llama_index/core/tools/retriever_tool.py:120\u001b[0m, in \u001b[0;36mRetrieverTool.as_langchain_tool\u001b[0;34m(self)\u001b[0m\n\u001b[1;32m    119\u001b[0m \u001b[38;5;28;01mdef\u001b[39;00m \u001b[38;5;21mas_langchain_tool\u001b[39m(\u001b[38;5;28mself\u001b[39m) \u001b[38;5;241m-\u001b[39m\u001b[38;5;241m>\u001b[39m \u001b[38;5;124m\"\u001b[39m\u001b[38;5;124mLlamaIndexTool\u001b[39m\u001b[38;5;124m\"\u001b[39m:\n\u001b[0;32m--> 120\u001b[0m     \u001b[38;5;28;01mraise\u001b[39;00m \u001b[38;5;167;01mNotImplementedError\u001b[39;00m(\u001b[38;5;124m\"\u001b[39m\u001b[38;5;124m`as_langchain_tool` not implemented here.\u001b[39m\u001b[38;5;124m\"\u001b[39m)\n",
            "\u001b[0;31mNotImplementedError\u001b[0m: `as_langchain_tool` not implemented here."
          ]
        }
      ],
      "source": [
        "tool_get_RAG().invoke(\"Những tai nghe dưới 700.000đ nên mua\")"
      ]
    },
    {
      "cell_type": "code",
      "execution_count": 21,
      "metadata": {},
      "outputs": [
        {
          "name": "stdout",
          "output_type": "stream",
          "text": [
            "Using query str: Những tai nghe nên mua\n",
            "Using filters: [('PRICE_REMAINING', '<', '700000')]\n",
            "**********\n",
            "Trace: query\n",
            "    |_query -> 8.898869 seconds\n",
            "      |_retrieve -> 3.606762 seconds\n",
            "        |_templating -> 2.5e-05 seconds\n",
            "        |_llm -> 3.571752 seconds\n",
            "      |_synthesize -> 5.291579 seconds\n",
            "        |_templating -> 2.2e-05 seconds\n",
            "        |_llm -> 5.279016 seconds\n",
            "**********\n"
          ]
        },
        {
          "data": {
            "text/plain": [
              "'- Tai nghe Bluetooth True Wireless SoundPEATS Mac (450.000đ)\\n- Tai nghe Bluetooth True Wireless SoundPEATS Free2 Classic (420.000đ)'"
            ]
          },
          "execution_count": 21,
          "metadata": {},
          "output_type": "execute_result"
        }
      ],
      "source": [
        "tool_get_RAG().invoke(\"Những tai nghe dưới 700.000đ nên mua\")"
      ]
    },
    {
      "cell_type": "markdown",
      "metadata": {
        "id": "93XLkVOUNNVq"
      },
      "source": [
        "# Agent\n"
      ]
    },
    {
      "cell_type": "code",
      "execution_count": 9,
      "metadata": {
        "id": "5Op9OrDYNNVq"
      },
      "outputs": [],
      "source": [
        "from config import GEMINI\n",
        "import os\n",
        "os.environ[\"GOOGLE_API_KEY\"] = GEMINI\n",
        "from langchain_google_genai import GoogleGenerativeAI\n",
        "\n",
        "llm = GoogleGenerativeAI(model=\"gemini-pro\")"
      ]
    },
    {
      "cell_type": "code",
      "execution_count": 13,
      "metadata": {
        "id": "7BraQrJZNNVq"
      },
      "outputs": [],
      "source": [
        "from langchain.agents import AgentExecutor\n",
        "from langchain_community.tools.tavily_search import TavilySearchResults\n",
        "from langchain_core.prompts import ChatPromptTemplate\n",
        "from langchain import hub\n",
        "from langchain.chains import LLMChain\n",
        "from langchain.agents import AgentExecutor, create_react_agent\n",
        "from langchain.memory import ConversationSummaryBufferMemory, ConversationBufferWindowMemory\n"
      ]
    },
    {
      "cell_type": "code",
      "execution_count": 14,
      "metadata": {
        "id": "XbLVrFgiNNVq"
      },
      "outputs": [],
      "source": [
        "from langchain_core.prompts import PromptTemplate\n",
        "\n",
        "classify_prompt = PromptTemplate.from_template(\n",
        "    \"\"\"Mục tiêu của bạn là tạo ra một câu trả lời được soạn thảo kỹ lưỡng cho một câu hỏi cụ thể.\n",
        "      Câu trả lời của bạn sẽ được sử dụng để tiếp cận hướng đi của mô hình LLM. Bạn sẽ được giao câu hỏi và mục tiêu của bạn là làm theo định dạng đầu ra bên dưới có hướng dẫn\n",
        "\n",
        "\n",
        "      Hướng dẫn lựa chọn câu trả lời\n",
        "      Định vị phương án đúng sao cho số lần xuất hiện ở mỗi vị trí có thể có trong mỗi câu trả lời là như nhau\n",
        "      Các lựa chọn trả lời phải được viết rõ ràng và giống nhau về nội dung, độ dài, và ngữ pháp; tránh đưa ra manh mối thông qua việc sử dụng cấu trúc ngữ pháp sai lầm\n",
        "      Làm cho tất cả những yếu tố gây phân tâm trở nên hợp lý; chúng phải là những quan niệm sai lầm phổ biến mà người học có thể mắc phải.\n",
        "      Trong các lựa chọn trả lời, hãy tránh sử dụng “tất cả những câu trên” và “không có câu nào ở trên,” \" điều này có thể dẫn đến mức hiệu suất cao hơn một cách giả tạo.\n",
        "      Trong các lựa chọn câu trả lời, hãy tránh tham chiếu đến các lựa chọn trả lời bằng chữ cái (ví dụ: “Cả A và B”), vì các câu trả lời của chúng tôi được chọn ngẫu nhiên\n",
        "      Khi sử dụng các tùy chọn số, các tùy chọn phải là được liệt kê theo thứ tự số và ở một định dạng duy nhất (tức là dưới dạng thuật ngữ hoặc phạm vi).\n",
        "      Nguyên tắc cơ bản\n",
        "      Tất cả cơ sở lý luận phải bắt đầu bằng các từ khóa trong câu trả lời.\n",
        "      Tất cả các lựa chọn trả lời (bao gồm (các) câu trả lời đúng và (các) câu trả lời gây phân tâm) phải có cơ sở lý luận riêng.\n",
        "      Các cơ sở lý luận phải là duy nhất cho mỗi phương án trả lời khi thích hợp. Lý do lý tưởng nhất cho người phân tâm là chỉ ra lỗi hiểu của người học và cung cấp ngữ cảnh để giúp họ quay lại và tìm ra họ nên chọn theo kết quả nào.\n",
        "      Các lý do không nên đề cập đến câu trả lời bằng chữ cái (ví dụ: “lựa chọn A không chính xác vì…”) vì các lựa chọn trả lời sẽ được chọn ngẫu nhiên trong hệ thống của chúng tôi.\n",
        "      Các lý do gây mất tập trung không được đưa ra câu trả lời đúng cho câu hỏi.Các câu hỏi trắc nghiệm hình thành (xuất hiện sau mỗi học phần) phải bao gồm một câu ở cuối mỗi lý do để hướng người học quay lại video liên quan để xem lại thông tin .\n",
        "      Ví dụ:\n",
        "Question: Tai nghe nào tốt nhất với giá dưới 1000k\"\n",
        "a. Đề xuất sản phẩm: Sử dụng lời nhắc này khi mục đích của người dùng là khám phá các sản phẩm mới hoặc tìm đề xuất dựa trên sở thích hoặc giao dịch mua trước đây của họ.\n",
        "         b. Truy xuất thông tin sản phẩm: Sử dụng lời nhắc này khi người dùng tìm kiếm thông tin chi tiết về một sản phẩm cụ thể, chẳng hạn như tính năng, thông số kỹ thuật hoặc đánh giá.\n",
        "         c. Câu hỏi thường gặp Trả lời: Sử dụng lời nhắc này khi truy vấn của người dùng phù hợp với các câu hỏi thường gặp hoặc giải quyết các vấn đề hỗ trợ kỹ thuật.\n",
        "         d. Thanh toán: Tận dụng lời nhắc này để tạo điều kiện thuận lợi cho quá trình mua hàng, bao gồm xử lý thông tin thanh toán, xác nhận đơn hàng và chi tiết giao hàng.\n",
        "         e. Khác: Sử dụng lời nhắc này cho các truy vấn không phù hợp với các danh mục trước đó, chẳng hạn như cung cấp hỗ trợ chung, cung cấp hỗ trợ quản lý tài khoản hoặc xử lý phản hồi.\n",
        "\n",
        "Answer: \"a. Khuyến nghị sản phẩm\"\n",
        "\n",
        "Explain: Mục đích của người dùng là khám phá các sản phẩm mới phù hợp với ngân sách và sở thích cụ thể của họ. Lời nhắc \"Khuyến nghị sản phẩm\" sẽ hướng dẫn hệ thống đề xuất tai nghe phù hợp dựa trên tiêu chí của người dùng.\n",
        "\n",
        "Ví dụ:\n",
        "\n",
        "Question: Cho tôi biết thêm thông tin về Sony WH-1000XM5\".\n",
        "a. Đề xuất sản phẩm: Sử dụng lời nhắc này khi mục đích của người dùng là khám phá các sản phẩm mới hoặc tìm đề xuất dựa trên sở thích hoặc giao dịch mua trước đây của họ.\n",
        "         b. Truy xuất thông tin sản phẩm: Sử dụng lời nhắc này khi người dùng tìm kiếm thông tin chi tiết về một sản phẩm cụ thể, chẳng hạn như tính năng, thông số kỹ thuật hoặc đánh giá.\n",
        "         c. Câu hỏi thường gặp Trả lời: Sử dụng lời nhắc này khi truy vấn của người dùng phù hợp với các câu hỏi thường gặp hoặc giải quyết các vấn đề hỗ trợ kỹ thuật.\n",
        "         d. Thanh toán: Tận dụng lời nhắc này để tạo điều kiện thuận lợi cho quá trình mua hàng, bao gồm xử lý thông tin thanh toán, xác nhận đơn hàng và chi tiết giao hàng.\n",
        "         e. Khác: Sử dụng lời nhắc này cho các truy vấn không phù hợp với các danh mục trước đó, chẳng hạn như cung cấp hỗ trợ chung, cung cấp hỗ trợ quản lý tài khoản hoặc xử lý phản hồi.\n",
        "Answer: \"b. Truy xuất thông tin sản phẩm\"\n",
        "\n",
        "Explain: Người dùng đang tìm kiếm thông tin chi tiết về một sản phẩm cụ thể, trong trường hợp này là tai nghe Sony WH-1000XM5. Lời nhắc \"Truy xuất thông tin sản phẩm\" sẽ hướng dẫn hệ thống cung cấp thông tin chi tiết toàn diện về sản phẩm, bao gồm các tính năng, thông số kỹ thuật, đánh giá và so sánh.\n",
        "\n",
        "\n",
        "Question: Người dùng gặp thông báo lỗi khi sử dụng ứng dụng phần mềm và hỏi \"Làm cách nào để sửa mã lỗi 404?\"\n",
        "a. Đề xuất sản phẩm: Sử dụng lời nhắc này khi mục đích của người dùng là khám phá các sản phẩm mới hoặc tìm đề xuất dựa trên sở thích hoặc giao dịch mua trước đây của họ.\n",
        "         b. Truy xuất thông tin sản phẩm: Sử dụng lời nhắc này khi người dùng tìm kiếm thông tin chi tiết về một sản phẩm cụ thể, chẳng hạn như tính năng, thông số kỹ thuật hoặc đánh giá.\n",
        "         c. Câu hỏi thường gặp Trả lời: Sử dụng lời nhắc này khi truy vấn của người dùng phù hợp với các câu hỏi thường gặp hoặc giải quyết các vấn đề hỗ trợ kỹ thuật.\n",
        "         d. Thanh toán: Tận dụng lời nhắc này để tạo điều kiện thuận lợi cho quá trình mua hàng, bao gồm xử lý thông tin thanh toán, xác nhận đơn hàng và chi tiết giao hàng.\n",
        "         e. Khác: Sử dụng lời nhắc này cho các truy vấn không phù hợp với các danh mục trước đó, chẳng hạn như cung cấp hỗ trợ chung, cung cấp hỗ trợ quản lý tài khoản hoặc xử lý phản hồi.\n",
        "Answer: \"c. Câu trả lời Câu hỏi thường gặp\"\n",
        "\n",
        "Explain: Truy vấn của người dùng phù hợp với câu hỏi thường gặp hoặc giải quyết vấn đề hỗ trợ kỹ thuật. Lời nhắc \"Câu hỏi thường gặp\" sẽ hướng dẫn hệ thống tìm kiếm các bài viết cơ sở kiến thức liên quan hoặc hướng dẫn khắc phục sự cố để hỗ trợ người dùng.\n",
        "\n",
        "\n",
        "Question: Một khách hàng đã thêm mặt hàng vào giỏ hàng và sẵn sàng tiến hành mua hàng. Họ bấm vào nút \"Thanh toán\".\n",
        "a. Đề xuất sản phẩm: Sử dụng lời nhắc này khi mục đích của người dùng là khám phá các sản phẩm mới hoặc tìm đề xuất dựa trên sở thích hoặc giao dịch mua trước đây của họ.\n",
        "         b. Truy xuất thông tin sản phẩm: Sử dụng lời nhắc này khi người dùng tìm kiếm thông tin chi tiết về một sản phẩm cụ thể, chẳng hạn như tính năng, thông số kỹ thuật hoặc đánh giá.\n",
        "         c. Câu hỏi thường gặp Trả lời: Sử dụng lời nhắc này khi truy vấn của người dùng phù hợp với các câu hỏi thường gặp hoặc giải quyết các vấn đề hỗ trợ kỹ thuật.\n",
        "         d. Thanh toán: Tận dụng lời nhắc này để tạo điều kiện thuận lợi cho quá trình mua hàng, bao gồm xử lý thông tin thanh toán, xác nhận đơn hàng và chi tiết giao hàng.\n",
        "         e. Khác: Sử dụng lời nhắc này cho các truy vấn không phù hợp với các danh mục trước đó, chẳng hạn như cung cấp hỗ trợ chung, cung cấp hỗ trợ quản lý tài khoản hoặc xử lý phản hồi.\n",
        "\n",
        "Answer: \"d. Thanh toán\"\n",
        "\n",
        "Explain: Người dùng đang bắt đầu quá trình mua hàng. Lời nhắc \"Thanh toán\" sẽ kích hoạt hệ thống hướng dẫn người dùng thực hiện các bước thanh toán, bao gồm xử lý thông tin thanh toán, xác nhận đơn hàng và chi tiết giao hàng.\n",
        "\n",
        "\n",
        "Question: Một người dùng muốn cung cấp phản hồi về sản phẩm họ đã mua gần đây và để lại nhận xét: \"Tôi rất hài lòng với chất lượng của sản phẩm này\".\n",
        "a. Đề xuất sản phẩm: Sử dụng lời nhắc này khi mục đích của người dùng là khám phá các sản phẩm mới hoặc tìm đề xuất dựa trên sở thích hoặc giao dịch mua trước đây của họ.\n",
        "         b. Truy xuất thông tin sản phẩm: Sử dụng lời nhắc này khi người dùng tìm kiếm thông tin chi tiết về một sản phẩm cụ thể, chẳng hạn như tính năng, thông số kỹ thuật hoặc đánh giá.\n",
        "         c. Câu hỏi thường gặp Trả lời: Sử dụng lời nhắc này khi truy vấn của người dùng phù hợp với các câu hỏi thường gặp hoặc giải quyết các vấn đề hỗ trợ kỹ thuật.\n",
        "         d. Thanh toán: Tận dụng lời nhắc này để tạo điều kiện thuận lợi cho quá trình mua hàng, bao gồm xử lý thông tin thanh toán, xác nhận đơn hàng và chi tiết giao hàng.\n",
        "         e. Khác: Sử dụng lời nhắc này cho các truy vấn không phù hợp với các danh mục trước đó, chẳng hạn như cung cấp hỗ trợ chung, cung cấp hỗ trợ quản lý tài khoản hoặc xử lý phản hồi.\n",
        "\n",
        "Answer: \"e. Khác\"\n",
        "\n",
        "Explain: Truy vấn của người dùng không phù hợp với các danh mục trước đó và nhằm mục đích cung cấp phản hồi hoặc hỗ trợ chung. Lời nhắc \"Khác\" sẽ cho phép hệ thống xử lý các tương tác đó một cách thích hợp.\n",
        "\n",
        "      Question: {question}\n",
        "      {context}\n",
        "      Answer:\n",
        "      Explain: \"\"\"\n",
        ")\n",
        "# Construct the JSON agent\n",
        "chain = LLMChain(llm=llm, prompt=classify_prompt)"
      ]
    },
    {
      "cell_type": "code",
      "execution_count": 15,
      "metadata": {
        "id": "edLln1YmNNVq",
        "outputId": "b7546660-1921-4ffe-fa25-e929f1fbc536"
      },
      "outputs": [
        {
          "name": "stdout",
          "output_type": "stream",
          "text": [
            "Lời nhắc \"Đề xuất sản phẩm\" phù hợp với mục đích của người dùng là khám phá các sản phẩm mới hoặc tìm đề xuất dựa trên sở thích hoặc giao dịch mua trước đây của họ.\n"
          ]
        }
      ],
      "source": [
        "def get_prompt_input(user_input: str):\n",
        "    # Construct the JSON agent\n",
        "    chain = LLMChain(llm=llm, prompt=classify_prompt)\n",
        "    return chain.invoke(\n",
        "        {\n",
        "            \"question\": f\"{user_input}\",\n",
        "            \"context\": \"\"\"a. Đề xuất sản phẩm: Sử dụng lời nhắc này khi mục đích của người dùng là khám phá các sản phẩm mới hoặc tìm đề xuất dựa trên sở thích hoặc giao dịch mua trước đây của họ.\n",
        "         b. Truy xuất thông tin sản phẩm: Sử dụng lời nhắc này khi người dùng tìm kiếm thông tin chi tiết về một sản phẩm cụ thể, chẳng hạn như tính năng, thông số kỹ thuật hoặc đánh giá.\n",
        "         c. Câu hỏi thường gặp Trả lời: Sử dụng lời nhắc này khi truy vấn của người dùng phù hợp với các câu hỏi thường gặp hoặc giải quyết các vấn đề hỗ trợ kỹ thuật, chính sách của các sản phẩm.\n",
        "         d. Thanh toán: Tận dụng lời nhắc này để tạo điều kiện thuận lợi cho quá trình mua hàng, bao gồm xử lý thông tin thanh toán, xác nhận đơn hàng và chi tiết giao hàng.\n",
        "         e. Khác: Sử dụng lời nhắc này cho các truy vấn không phù hợp với các danh mục trước đó, chẳng hạn như cung cấp hỗ trợ chung, cung cấp hỗ trợ quản lý tài khoản hoặc xử lý phản hồi.\"\"\",\n",
        "        }\n",
        "    )\n",
        "\n",
        "\n",
        "def handle_user_prompt(user_prompt):\n",
        "    user_prompt = user_prompt.splitlines()\n",
        "    return [\n",
        "        line.split(\": \", maxsplit=1)[1]\n",
        "        for line in user_prompt\n",
        "        if line.strip().startswith(\"Answer:\") or line.strip().startswith(\"Explain:\")\n",
        "    ]\n",
        "\n",
        "\n",
        "def handle_conversation_turn(user_input: str):\n",
        "    while True:\n",
        "        user_prompt = get_prompt_input(user_input)\n",
        "        return_prompt = handle_user_prompt(user_prompt[\"text\"])\n",
        "        if return_prompt is not None:\n",
        "            try:\n",
        "                if (\n",
        "                    \"Đề xuất sản phẩm\" in return_prompt[0]\n",
        "                    or \"Truy xuất thông tin sản phẩm\" in return_prompt[0]\n",
        "                    or \"Câu hỏi thường gặp Trả lời\" in return_prompt[0]\n",
        "                    or \"Thanh toán\" in return_prompt[0]\n",
        "                    or \"Khác\" in return_prompt[0]\n",
        "                ):\n",
        "                    if len(return_prompt) > 1:\n",
        "                        return return_prompt[-1]\n",
        "                    return return_prompt[0]\n",
        "            except:\n",
        "                print(\"Error\")\n",
        "\n",
        "\n",
        "tools = [tool_get_RAG()]\n",
        "\n",
        "\n",
        "def generate_agent(input):\n",
        "    user_prompt = handle_conversation_turn(input)\n",
        "    print(user_prompt)\n",
        "    react_prompt = PromptTemplate.from_template(\n",
        "        \"\"\"\n",
        "        Trợ lý được thiết kế để có thể hỗ trợ nhiều nhiệm vụ khác nhau, từ trả lời các câu hỏi đơn giản đến đưa ra những giải thích và thảo luận sâu sắc về nhiều chủ đề. Là một mô hình ngôn ngữ, Trợ lý có thể tạo văn bản giống con người dựa trên dữ liệu đầu vào mà nó nhận được, cho phép Trợ lý tham gia vào các cuộc trò chuyện có vẻ tự nhiên và đưa ra phản hồi mạch lạc và phù hợp với chủ đề hiện tại.\n",
        "\n",
        "        Trợ lý không ngừng học hỏi và cải tiến cũng như các khả năng của Trợ lý không ngừng phát triển. Nó có thể xử lý và hiểu một lượng lớn văn bản, đồng thời có thể sử dụng kiến thức này để đưa ra câu trả lời chính xác và giàu thông tin cho nhiều câu hỏi. Ngoài ra, Trợ lý có thể tạo văn bản riêng dựa trên thông tin đầu vào nhận được, cho phép Trợ lý tham gia vào các cuộc thảo luận và đưa ra lời giải thích cũng như mô tả về nhiều chủ đề.\n",
        "\n",
        "        Nhìn chung, Trợ lý là một công cụ mạnh mẽ {user_prompt}\n",
        "\n",
        "        CÔNG CỤ:\n",
        "        ------handle_react\n",
        "\n",
        "        Trợ lý có quyền truy cập vào các công cụ sau:\n",
        "\n",
        "        {tools}\n",
        "        Với truy xuất dữ liệu thì mô hình sẽ không tự đưa ra kết quả mà sẽ truy cập vào các công cụ truy xuất dữ liệu để lấy kết quả. Nếu không có thì hãy bảo người dùng nhập lại rõ ràng hơn\n",
        "        Để sử dụng một công cụ, vui lòng sử dụng định dạng sau:\n",
        "\n",
        "        ```\n",
        "        Thought: Tôi có cần sử dụng một công cụ không? Đúng\n",
        "        Action: hành động cần thực hiện, phải là một trong [{tool_names}]\n",
        "        Action Input: đầu vào của hành động\n",
        "        Observation: kết quả của hành động\n",
        "        ```\n",
        "\n",
        "        Khi bạn có câu trả lời muốn nói với Con người hoặc nếu bạn không cần sử dụng công cụ, bạn PHẢI sử dụng định dạng:\n",
        "\n",
        "        ```\n",
        "        Thought: Tôi có cần sử dụng một công cụ không? KHÔNG\n",
        "        Final Answer:[your answer here]\n",
        "        ```\n",
        "\n",
        "        Bắt đầu!\n",
        "\n",
        "        Lịch sử cuộc trò chuyện trước đây:\n",
        "        {chat_history}\n",
        "\n",
        "        Đầu vào mới: {input}\n",
        "        {agent_scratchpad}\n",
        "        \"\"\",\n",
        "        partial_variables = {\"user_prompt\": user_prompt}\n",
        "    )\n",
        "    # react_prompt.format(user_prompt=user_prompt)\n",
        "\n",
        "    # Construct the ReAct agent\n",
        "\n",
        "    #   Lịch sử cuộc trò chuyện trước đây:\n",
        "    #   {chat_history}\n",
        "    agent = create_react_agent(llm, tools, react_prompt)\n",
        "\n",
        "    # Create an agent executor by passing in the agent and tools\n",
        "    agent_executor = AgentExecutor(\n",
        "        agent=agent,\n",
        "        tools=tools,\n",
        "        verbose=True,\n",
        "        memory=ConversationBufferWindowMemory(\n",
        "           k=5, memory_key=\"chat_history\", return_messages=True\n",
        "        ),\n",
        "        handle_parsing_errors=True,\n",
        "    )\n",
        "    return agent_executor\n",
        "\n",
        "agent = generate_agent(input)\n",
        "def handle_react_chat(input):\n",
        "    print(agent.memory.load_memory_variables({}))\n",
        "    return agent.invoke({\"input\": input})"
      ]
    },
    {
      "cell_type": "code",
      "execution_count": 16,
      "metadata": {
        "id": "YN4CuWLjNNVq",
        "outputId": "790c98ce-4f00-42a6-9820-8890ac9102ec"
      },
      "outputs": [
        {
          "name": "stdout",
          "output_type": "stream",
          "text": [
            "{'chat_history': []}\n",
            "\n",
            "\n",
            "\u001b[1m> Entering new AgentExecutor chain...\u001b[0m\n",
            "\u001b[32;1m\u001b[1;3mThought: Tôi có cần sử dụng một công cụ không? Đúng\n",
            "        Action: VectorDB\n",
            "        Action Input: {\"query\": \"dưới 100k\", \"max_price\": 100000}\n",
            "        Observation: kết quả của hành động\u001b[0mUsing query str: dưới 100k\n",
            "Using filters: [('PRICE_REMAINING', '<', '100000')]\n",
            "**********\n",
            "Trace: query\n",
            "    |_query -> 3.348999 seconds\n",
            "      |_retrieve -> 3.348812 seconds\n",
            "        |_templating -> 1.2e-05 seconds\n",
            "        |_llm -> 3.330254 seconds\n",
            "**********\n"
          ]
        },
        {
          "ename": "ValueError",
          "evalue": "Vector Store only supports exact match filters. Please use ExactMatchFilter or FilterOperator.EQ instead.",
          "output_type": "error",
          "traceback": [
            "\u001b[0;31m---------------------------------------------------------------------------\u001b[0m",
            "\u001b[0;31mValueError\u001b[0m                                Traceback (most recent call last)",
            "Cell \u001b[0;32mIn[16], line 1\u001b[0m\n\u001b[0;32m----> 1\u001b[0m \u001b[43mhandle_react_chat\u001b[49m\u001b[43m(\u001b[49m\u001b[38;5;124;43m\"\u001b[39;49m\u001b[38;5;124;43mCho tôi sản phẩm dưới 100k\u001b[39;49m\u001b[38;5;124;43m\"\u001b[39;49m\u001b[43m)\u001b[49m\n",
            "Cell \u001b[0;32mIn[15], line 115\u001b[0m, in \u001b[0;36mhandle_react_chat\u001b[0;34m(input)\u001b[0m\n\u001b[1;32m    113\u001b[0m \u001b[38;5;28;01mdef\u001b[39;00m \u001b[38;5;21mhandle_react_chat\u001b[39m(\u001b[38;5;28minput\u001b[39m):\n\u001b[1;32m    114\u001b[0m     \u001b[38;5;28mprint\u001b[39m(agent\u001b[38;5;241m.\u001b[39mmemory\u001b[38;5;241m.\u001b[39mload_memory_variables({}))\n\u001b[0;32m--> 115\u001b[0m     \u001b[38;5;28;01mreturn\u001b[39;00m \u001b[43magent\u001b[49m\u001b[38;5;241;43m.\u001b[39;49m\u001b[43minvoke\u001b[49m\u001b[43m(\u001b[49m\u001b[43m{\u001b[49m\u001b[38;5;124;43m\"\u001b[39;49m\u001b[38;5;124;43minput\u001b[39;49m\u001b[38;5;124;43m\"\u001b[39;49m\u001b[43m:\u001b[49m\u001b[43m \u001b[49m\u001b[38;5;28;43minput\u001b[39;49m\u001b[43m}\u001b[49m\u001b[43m)\u001b[49m\n",
            "File \u001b[0;32m~/anaconda3/envs/LLMs/lib/python3.10/site-packages/langchain/chains/base.py:163\u001b[0m, in \u001b[0;36mChain.invoke\u001b[0;34m(self, input, config, **kwargs)\u001b[0m\n\u001b[1;32m    161\u001b[0m \u001b[38;5;28;01mexcept\u001b[39;00m \u001b[38;5;167;01mBaseException\u001b[39;00m \u001b[38;5;28;01mas\u001b[39;00m e:\n\u001b[1;32m    162\u001b[0m     run_manager\u001b[38;5;241m.\u001b[39mon_chain_error(e)\n\u001b[0;32m--> 163\u001b[0m     \u001b[38;5;28;01mraise\u001b[39;00m e\n\u001b[1;32m    164\u001b[0m run_manager\u001b[38;5;241m.\u001b[39mon_chain_end(outputs)\n\u001b[1;32m    166\u001b[0m \u001b[38;5;28;01mif\u001b[39;00m include_run_info:\n",
            "File \u001b[0;32m~/anaconda3/envs/LLMs/lib/python3.10/site-packages/langchain/chains/base.py:153\u001b[0m, in \u001b[0;36mChain.invoke\u001b[0;34m(self, input, config, **kwargs)\u001b[0m\n\u001b[1;32m    150\u001b[0m \u001b[38;5;28;01mtry\u001b[39;00m:\n\u001b[1;32m    151\u001b[0m     \u001b[38;5;28mself\u001b[39m\u001b[38;5;241m.\u001b[39m_validate_inputs(inputs)\n\u001b[1;32m    152\u001b[0m     outputs \u001b[38;5;241m=\u001b[39m (\n\u001b[0;32m--> 153\u001b[0m         \u001b[38;5;28;43mself\u001b[39;49m\u001b[38;5;241;43m.\u001b[39;49m\u001b[43m_call\u001b[49m\u001b[43m(\u001b[49m\u001b[43minputs\u001b[49m\u001b[43m,\u001b[49m\u001b[43m \u001b[49m\u001b[43mrun_manager\u001b[49m\u001b[38;5;241;43m=\u001b[39;49m\u001b[43mrun_manager\u001b[49m\u001b[43m)\u001b[49m\n\u001b[1;32m    154\u001b[0m         \u001b[38;5;28;01mif\u001b[39;00m new_arg_supported\n\u001b[1;32m    155\u001b[0m         \u001b[38;5;28;01melse\u001b[39;00m \u001b[38;5;28mself\u001b[39m\u001b[38;5;241m.\u001b[39m_call(inputs)\n\u001b[1;32m    156\u001b[0m     )\n\u001b[1;32m    158\u001b[0m     final_outputs: Dict[\u001b[38;5;28mstr\u001b[39m, Any] \u001b[38;5;241m=\u001b[39m \u001b[38;5;28mself\u001b[39m\u001b[38;5;241m.\u001b[39mprep_outputs(\n\u001b[1;32m    159\u001b[0m         inputs, outputs, return_only_outputs\n\u001b[1;32m    160\u001b[0m     )\n\u001b[1;32m    161\u001b[0m \u001b[38;5;28;01mexcept\u001b[39;00m \u001b[38;5;167;01mBaseException\u001b[39;00m \u001b[38;5;28;01mas\u001b[39;00m e:\n",
            "File \u001b[0;32m~/anaconda3/envs/LLMs/lib/python3.10/site-packages/langchain/agents/agent.py:1432\u001b[0m, in \u001b[0;36mAgentExecutor._call\u001b[0;34m(self, inputs, run_manager)\u001b[0m\n\u001b[1;32m   1430\u001b[0m \u001b[38;5;66;03m# We now enter the agent loop (until it returns something).\u001b[39;00m\n\u001b[1;32m   1431\u001b[0m \u001b[38;5;28;01mwhile\u001b[39;00m \u001b[38;5;28mself\u001b[39m\u001b[38;5;241m.\u001b[39m_should_continue(iterations, time_elapsed):\n\u001b[0;32m-> 1432\u001b[0m     next_step_output \u001b[38;5;241m=\u001b[39m \u001b[38;5;28;43mself\u001b[39;49m\u001b[38;5;241;43m.\u001b[39;49m\u001b[43m_take_next_step\u001b[49m\u001b[43m(\u001b[49m\n\u001b[1;32m   1433\u001b[0m \u001b[43m        \u001b[49m\u001b[43mname_to_tool_map\u001b[49m\u001b[43m,\u001b[49m\n\u001b[1;32m   1434\u001b[0m \u001b[43m        \u001b[49m\u001b[43mcolor_mapping\u001b[49m\u001b[43m,\u001b[49m\n\u001b[1;32m   1435\u001b[0m \u001b[43m        \u001b[49m\u001b[43minputs\u001b[49m\u001b[43m,\u001b[49m\n\u001b[1;32m   1436\u001b[0m \u001b[43m        \u001b[49m\u001b[43mintermediate_steps\u001b[49m\u001b[43m,\u001b[49m\n\u001b[1;32m   1437\u001b[0m \u001b[43m        \u001b[49m\u001b[43mrun_manager\u001b[49m\u001b[38;5;241;43m=\u001b[39;49m\u001b[43mrun_manager\u001b[49m\u001b[43m,\u001b[49m\n\u001b[1;32m   1438\u001b[0m \u001b[43m    \u001b[49m\u001b[43m)\u001b[49m\n\u001b[1;32m   1439\u001b[0m     \u001b[38;5;28;01mif\u001b[39;00m \u001b[38;5;28misinstance\u001b[39m(next_step_output, AgentFinish):\n\u001b[1;32m   1440\u001b[0m         \u001b[38;5;28;01mreturn\u001b[39;00m \u001b[38;5;28mself\u001b[39m\u001b[38;5;241m.\u001b[39m_return(\n\u001b[1;32m   1441\u001b[0m             next_step_output, intermediate_steps, run_manager\u001b[38;5;241m=\u001b[39mrun_manager\n\u001b[1;32m   1442\u001b[0m         )\n",
            "File \u001b[0;32m~/anaconda3/envs/LLMs/lib/python3.10/site-packages/langchain/agents/agent.py:1138\u001b[0m, in \u001b[0;36mAgentExecutor._take_next_step\u001b[0;34m(self, name_to_tool_map, color_mapping, inputs, intermediate_steps, run_manager)\u001b[0m\n\u001b[1;32m   1129\u001b[0m \u001b[38;5;28;01mdef\u001b[39;00m \u001b[38;5;21m_take_next_step\u001b[39m(\n\u001b[1;32m   1130\u001b[0m     \u001b[38;5;28mself\u001b[39m,\n\u001b[1;32m   1131\u001b[0m     name_to_tool_map: Dict[\u001b[38;5;28mstr\u001b[39m, BaseTool],\n\u001b[0;32m   (...)\u001b[0m\n\u001b[1;32m   1135\u001b[0m     run_manager: Optional[CallbackManagerForChainRun] \u001b[38;5;241m=\u001b[39m \u001b[38;5;28;01mNone\u001b[39;00m,\n\u001b[1;32m   1136\u001b[0m ) \u001b[38;5;241m-\u001b[39m\u001b[38;5;241m>\u001b[39m Union[AgentFinish, List[Tuple[AgentAction, \u001b[38;5;28mstr\u001b[39m]]]:\n\u001b[1;32m   1137\u001b[0m     \u001b[38;5;28;01mreturn\u001b[39;00m \u001b[38;5;28mself\u001b[39m\u001b[38;5;241m.\u001b[39m_consume_next_step(\n\u001b[0;32m-> 1138\u001b[0m         [\n\u001b[1;32m   1139\u001b[0m             a\n\u001b[1;32m   1140\u001b[0m             \u001b[38;5;28;01mfor\u001b[39;00m a \u001b[38;5;129;01min\u001b[39;00m \u001b[38;5;28mself\u001b[39m\u001b[38;5;241m.\u001b[39m_iter_next_step(\n\u001b[1;32m   1141\u001b[0m                 name_to_tool_map,\n\u001b[1;32m   1142\u001b[0m                 color_mapping,\n\u001b[1;32m   1143\u001b[0m                 inputs,\n\u001b[1;32m   1144\u001b[0m                 intermediate_steps,\n\u001b[1;32m   1145\u001b[0m                 run_manager,\n\u001b[1;32m   1146\u001b[0m             )\n\u001b[1;32m   1147\u001b[0m         ]\n\u001b[1;32m   1148\u001b[0m     )\n",
            "File \u001b[0;32m~/anaconda3/envs/LLMs/lib/python3.10/site-packages/langchain/agents/agent.py:1138\u001b[0m, in \u001b[0;36m<listcomp>\u001b[0;34m(.0)\u001b[0m\n\u001b[1;32m   1129\u001b[0m \u001b[38;5;28;01mdef\u001b[39;00m \u001b[38;5;21m_take_next_step\u001b[39m(\n\u001b[1;32m   1130\u001b[0m     \u001b[38;5;28mself\u001b[39m,\n\u001b[1;32m   1131\u001b[0m     name_to_tool_map: Dict[\u001b[38;5;28mstr\u001b[39m, BaseTool],\n\u001b[0;32m   (...)\u001b[0m\n\u001b[1;32m   1135\u001b[0m     run_manager: Optional[CallbackManagerForChainRun] \u001b[38;5;241m=\u001b[39m \u001b[38;5;28;01mNone\u001b[39;00m,\n\u001b[1;32m   1136\u001b[0m ) \u001b[38;5;241m-\u001b[39m\u001b[38;5;241m>\u001b[39m Union[AgentFinish, List[Tuple[AgentAction, \u001b[38;5;28mstr\u001b[39m]]]:\n\u001b[1;32m   1137\u001b[0m     \u001b[38;5;28;01mreturn\u001b[39;00m \u001b[38;5;28mself\u001b[39m\u001b[38;5;241m.\u001b[39m_consume_next_step(\n\u001b[0;32m-> 1138\u001b[0m         [\n\u001b[1;32m   1139\u001b[0m             a\n\u001b[1;32m   1140\u001b[0m             \u001b[38;5;28;01mfor\u001b[39;00m a \u001b[38;5;129;01min\u001b[39;00m \u001b[38;5;28mself\u001b[39m\u001b[38;5;241m.\u001b[39m_iter_next_step(\n\u001b[1;32m   1141\u001b[0m                 name_to_tool_map,\n\u001b[1;32m   1142\u001b[0m                 color_mapping,\n\u001b[1;32m   1143\u001b[0m                 inputs,\n\u001b[1;32m   1144\u001b[0m                 intermediate_steps,\n\u001b[1;32m   1145\u001b[0m                 run_manager,\n\u001b[1;32m   1146\u001b[0m             )\n\u001b[1;32m   1147\u001b[0m         ]\n\u001b[1;32m   1148\u001b[0m     )\n",
            "File \u001b[0;32m~/anaconda3/envs/LLMs/lib/python3.10/site-packages/langchain/agents/agent.py:1223\u001b[0m, in \u001b[0;36mAgentExecutor._iter_next_step\u001b[0;34m(self, name_to_tool_map, color_mapping, inputs, intermediate_steps, run_manager)\u001b[0m\n\u001b[1;32m   1221\u001b[0m     \u001b[38;5;28;01myield\u001b[39;00m agent_action\n\u001b[1;32m   1222\u001b[0m \u001b[38;5;28;01mfor\u001b[39;00m agent_action \u001b[38;5;129;01min\u001b[39;00m actions:\n\u001b[0;32m-> 1223\u001b[0m     \u001b[38;5;28;01myield\u001b[39;00m \u001b[38;5;28;43mself\u001b[39;49m\u001b[38;5;241;43m.\u001b[39;49m\u001b[43m_perform_agent_action\u001b[49m\u001b[43m(\u001b[49m\n\u001b[1;32m   1224\u001b[0m \u001b[43m        \u001b[49m\u001b[43mname_to_tool_map\u001b[49m\u001b[43m,\u001b[49m\u001b[43m \u001b[49m\u001b[43mcolor_mapping\u001b[49m\u001b[43m,\u001b[49m\u001b[43m \u001b[49m\u001b[43magent_action\u001b[49m\u001b[43m,\u001b[49m\u001b[43m \u001b[49m\u001b[43mrun_manager\u001b[49m\n\u001b[1;32m   1225\u001b[0m \u001b[43m    \u001b[49m\u001b[43m)\u001b[49m\n",
            "File \u001b[0;32m~/anaconda3/envs/LLMs/lib/python3.10/site-packages/langchain/agents/agent.py:1245\u001b[0m, in \u001b[0;36mAgentExecutor._perform_agent_action\u001b[0;34m(self, name_to_tool_map, color_mapping, agent_action, run_manager)\u001b[0m\n\u001b[1;32m   1243\u001b[0m         tool_run_kwargs[\u001b[38;5;124m\"\u001b[39m\u001b[38;5;124mllm_prefix\u001b[39m\u001b[38;5;124m\"\u001b[39m] \u001b[38;5;241m=\u001b[39m \u001b[38;5;124m\"\u001b[39m\u001b[38;5;124m\"\u001b[39m\n\u001b[1;32m   1244\u001b[0m     \u001b[38;5;66;03m# We then call the tool on the tool input to get an observation\u001b[39;00m\n\u001b[0;32m-> 1245\u001b[0m     observation \u001b[38;5;241m=\u001b[39m \u001b[43mtool\u001b[49m\u001b[38;5;241;43m.\u001b[39;49m\u001b[43mrun\u001b[49m\u001b[43m(\u001b[49m\n\u001b[1;32m   1246\u001b[0m \u001b[43m        \u001b[49m\u001b[43magent_action\u001b[49m\u001b[38;5;241;43m.\u001b[39;49m\u001b[43mtool_input\u001b[49m\u001b[43m,\u001b[49m\n\u001b[1;32m   1247\u001b[0m \u001b[43m        \u001b[49m\u001b[43mverbose\u001b[49m\u001b[38;5;241;43m=\u001b[39;49m\u001b[38;5;28;43mself\u001b[39;49m\u001b[38;5;241;43m.\u001b[39;49m\u001b[43mverbose\u001b[49m\u001b[43m,\u001b[49m\n\u001b[1;32m   1248\u001b[0m \u001b[43m        \u001b[49m\u001b[43mcolor\u001b[49m\u001b[38;5;241;43m=\u001b[39;49m\u001b[43mcolor\u001b[49m\u001b[43m,\u001b[49m\n\u001b[1;32m   1249\u001b[0m \u001b[43m        \u001b[49m\u001b[43mcallbacks\u001b[49m\u001b[38;5;241;43m=\u001b[39;49m\u001b[43mrun_manager\u001b[49m\u001b[38;5;241;43m.\u001b[39;49m\u001b[43mget_child\u001b[49m\u001b[43m(\u001b[49m\u001b[43m)\u001b[49m\u001b[43m \u001b[49m\u001b[38;5;28;43;01mif\u001b[39;49;00m\u001b[43m \u001b[49m\u001b[43mrun_manager\u001b[49m\u001b[43m \u001b[49m\u001b[38;5;28;43;01melse\u001b[39;49;00m\u001b[43m \u001b[49m\u001b[38;5;28;43;01mNone\u001b[39;49;00m\u001b[43m,\u001b[49m\n\u001b[1;32m   1250\u001b[0m \u001b[43m        \u001b[49m\u001b[38;5;241;43m*\u001b[39;49m\u001b[38;5;241;43m*\u001b[39;49m\u001b[43mtool_run_kwargs\u001b[49m\u001b[43m,\u001b[49m\n\u001b[1;32m   1251\u001b[0m \u001b[43m    \u001b[49m\u001b[43m)\u001b[49m\n\u001b[1;32m   1252\u001b[0m \u001b[38;5;28;01melse\u001b[39;00m:\n\u001b[1;32m   1253\u001b[0m     tool_run_kwargs \u001b[38;5;241m=\u001b[39m \u001b[38;5;28mself\u001b[39m\u001b[38;5;241m.\u001b[39magent\u001b[38;5;241m.\u001b[39mtool_run_logging_kwargs()\n",
            "File \u001b[0;32m~/anaconda3/envs/LLMs/lib/python3.10/site-packages/langchain_core/tools.py:452\u001b[0m, in \u001b[0;36mBaseTool.run\u001b[0;34m(self, tool_input, verbose, start_color, color, callbacks, tags, metadata, run_name, run_id, config, **kwargs)\u001b[0m\n\u001b[1;32m    450\u001b[0m \u001b[38;5;28;01mexcept\u001b[39;00m (\u001b[38;5;167;01mException\u001b[39;00m, \u001b[38;5;167;01mKeyboardInterrupt\u001b[39;00m) \u001b[38;5;28;01mas\u001b[39;00m e:\n\u001b[1;32m    451\u001b[0m     run_manager\u001b[38;5;241m.\u001b[39mon_tool_error(e)\n\u001b[0;32m--> 452\u001b[0m     \u001b[38;5;28;01mraise\u001b[39;00m e\n\u001b[1;32m    453\u001b[0m \u001b[38;5;28;01melse\u001b[39;00m:\n\u001b[1;32m    454\u001b[0m     run_manager\u001b[38;5;241m.\u001b[39mon_tool_end(observation, color\u001b[38;5;241m=\u001b[39mcolor, name\u001b[38;5;241m=\u001b[39m\u001b[38;5;28mself\u001b[39m\u001b[38;5;241m.\u001b[39mname, \u001b[38;5;241m*\u001b[39m\u001b[38;5;241m*\u001b[39mkwargs)\n",
            "File \u001b[0;32m~/anaconda3/envs/LLMs/lib/python3.10/site-packages/langchain_core/tools.py:413\u001b[0m, in \u001b[0;36mBaseTool.run\u001b[0;34m(self, tool_input, verbose, start_color, color, callbacks, tags, metadata, run_name, run_id, config, **kwargs)\u001b[0m\n\u001b[1;32m    406\u001b[0m     parsed_input \u001b[38;5;241m=\u001b[39m \u001b[38;5;28mself\u001b[39m\u001b[38;5;241m.\u001b[39m_parse_input(tool_input)\n\u001b[1;32m    407\u001b[0m     tool_args, tool_kwargs \u001b[38;5;241m=\u001b[39m \u001b[38;5;28mself\u001b[39m\u001b[38;5;241m.\u001b[39m_to_args_and_kwargs(parsed_input)\n\u001b[1;32m    408\u001b[0m     observation \u001b[38;5;241m=\u001b[39m (\n\u001b[1;32m    409\u001b[0m         context\u001b[38;5;241m.\u001b[39mrun(\n\u001b[1;32m    410\u001b[0m             \u001b[38;5;28mself\u001b[39m\u001b[38;5;241m.\u001b[39m_run, \u001b[38;5;241m*\u001b[39mtool_args, run_manager\u001b[38;5;241m=\u001b[39mrun_manager, \u001b[38;5;241m*\u001b[39m\u001b[38;5;241m*\u001b[39mtool_kwargs\n\u001b[1;32m    411\u001b[0m         )\n\u001b[1;32m    412\u001b[0m         \u001b[38;5;28;01mif\u001b[39;00m new_arg_supported\n\u001b[0;32m--> 413\u001b[0m         \u001b[38;5;28;01melse\u001b[39;00m \u001b[43mcontext\u001b[49m\u001b[38;5;241;43m.\u001b[39;49m\u001b[43mrun\u001b[49m\u001b[43m(\u001b[49m\u001b[38;5;28;43mself\u001b[39;49m\u001b[38;5;241;43m.\u001b[39;49m\u001b[43m_run\u001b[49m\u001b[43m,\u001b[49m\u001b[43m \u001b[49m\u001b[38;5;241;43m*\u001b[39;49m\u001b[43mtool_args\u001b[49m\u001b[43m,\u001b[49m\u001b[43m \u001b[49m\u001b[38;5;241;43m*\u001b[39;49m\u001b[38;5;241;43m*\u001b[39;49m\u001b[43mtool_kwargs\u001b[49m\u001b[43m)\u001b[49m\n\u001b[1;32m    414\u001b[0m     )\n\u001b[1;32m    415\u001b[0m \u001b[38;5;28;01mexcept\u001b[39;00m ValidationError \u001b[38;5;28;01mas\u001b[39;00m e:\n\u001b[1;32m    416\u001b[0m     \u001b[38;5;28;01mif\u001b[39;00m \u001b[38;5;129;01mnot\u001b[39;00m \u001b[38;5;28mself\u001b[39m\u001b[38;5;241m.\u001b[39mhandle_validation_error:\n",
            "File \u001b[0;32m~/anaconda3/envs/LLMs/lib/python3.10/site-packages/llama_index/core/langchain_helpers/agents/tools.py:63\u001b[0m, in \u001b[0;36mLlamaIndexTool._run\u001b[0;34m(self, input)\u001b[0m\n\u001b[1;32m     62\u001b[0m \u001b[38;5;28;01mdef\u001b[39;00m \u001b[38;5;21m_run\u001b[39m(\u001b[38;5;28mself\u001b[39m, \u001b[38;5;28minput\u001b[39m: \u001b[38;5;28mstr\u001b[39m) \u001b[38;5;241m-\u001b[39m\u001b[38;5;241m>\u001b[39m \u001b[38;5;28mstr\u001b[39m:\n\u001b[0;32m---> 63\u001b[0m     response \u001b[38;5;241m=\u001b[39m \u001b[38;5;28;43mself\u001b[39;49m\u001b[38;5;241;43m.\u001b[39;49m\u001b[43mquery_engine\u001b[49m\u001b[38;5;241;43m.\u001b[39;49m\u001b[43mquery\u001b[49m\u001b[43m(\u001b[49m\u001b[38;5;28;43minput\u001b[39;49m\u001b[43m)\u001b[49m\n\u001b[1;32m     64\u001b[0m     \u001b[38;5;28;01mif\u001b[39;00m \u001b[38;5;28mself\u001b[39m\u001b[38;5;241m.\u001b[39mreturn_sources:\n\u001b[1;32m     65\u001b[0m         \u001b[38;5;28;01mreturn\u001b[39;00m _get_response_with_sources(response)\n",
            "File \u001b[0;32m~/anaconda3/envs/LLMs/lib/python3.10/site-packages/llama_index/core/instrumentation/dispatcher.py:274\u001b[0m, in \u001b[0;36mDispatcher.span.<locals>.wrapper\u001b[0;34m(func, instance, args, kwargs)\u001b[0m\n\u001b[1;32m    270\u001b[0m \u001b[38;5;28mself\u001b[39m\u001b[38;5;241m.\u001b[39mspan_enter(\n\u001b[1;32m    271\u001b[0m     id_\u001b[38;5;241m=\u001b[39mid_, bound_args\u001b[38;5;241m=\u001b[39mbound_args, instance\u001b[38;5;241m=\u001b[39minstance, parent_id\u001b[38;5;241m=\u001b[39mparent_id\n\u001b[1;32m    272\u001b[0m )\n\u001b[1;32m    273\u001b[0m \u001b[38;5;28;01mtry\u001b[39;00m:\n\u001b[0;32m--> 274\u001b[0m     result \u001b[38;5;241m=\u001b[39m \u001b[43mfunc\u001b[49m\u001b[43m(\u001b[49m\u001b[38;5;241;43m*\u001b[39;49m\u001b[43margs\u001b[49m\u001b[43m,\u001b[49m\u001b[43m \u001b[49m\u001b[38;5;241;43m*\u001b[39;49m\u001b[38;5;241;43m*\u001b[39;49m\u001b[43mkwargs\u001b[49m\u001b[43m)\u001b[49m\n\u001b[1;32m    275\u001b[0m \u001b[38;5;28;01mexcept\u001b[39;00m \u001b[38;5;167;01mBaseException\u001b[39;00m \u001b[38;5;28;01mas\u001b[39;00m e:\n\u001b[1;32m    276\u001b[0m     \u001b[38;5;28mself\u001b[39m\u001b[38;5;241m.\u001b[39mevent(SpanDropEvent(span_id\u001b[38;5;241m=\u001b[39mid_, err_str\u001b[38;5;241m=\u001b[39m\u001b[38;5;28mstr\u001b[39m(e)))\n",
            "File \u001b[0;32m~/anaconda3/envs/LLMs/lib/python3.10/site-packages/llama_index/core/base/base_query_engine.py:53\u001b[0m, in \u001b[0;36mBaseQueryEngine.query\u001b[0;34m(self, str_or_query_bundle)\u001b[0m\n\u001b[1;32m     51\u001b[0m     \u001b[38;5;28;01mif\u001b[39;00m \u001b[38;5;28misinstance\u001b[39m(str_or_query_bundle, \u001b[38;5;28mstr\u001b[39m):\n\u001b[1;32m     52\u001b[0m         str_or_query_bundle \u001b[38;5;241m=\u001b[39m QueryBundle(str_or_query_bundle)\n\u001b[0;32m---> 53\u001b[0m     query_result \u001b[38;5;241m=\u001b[39m \u001b[38;5;28;43mself\u001b[39;49m\u001b[38;5;241;43m.\u001b[39;49m\u001b[43m_query\u001b[49m\u001b[43m(\u001b[49m\u001b[43mstr_or_query_bundle\u001b[49m\u001b[43m)\u001b[49m\n\u001b[1;32m     54\u001b[0m dispatch_event(QueryEndEvent())\n\u001b[1;32m     55\u001b[0m \u001b[38;5;28;01mreturn\u001b[39;00m query_result\n",
            "File \u001b[0;32m~/anaconda3/envs/LLMs/lib/python3.10/site-packages/llama_index/core/instrumentation/dispatcher.py:274\u001b[0m, in \u001b[0;36mDispatcher.span.<locals>.wrapper\u001b[0;34m(func, instance, args, kwargs)\u001b[0m\n\u001b[1;32m    270\u001b[0m \u001b[38;5;28mself\u001b[39m\u001b[38;5;241m.\u001b[39mspan_enter(\n\u001b[1;32m    271\u001b[0m     id_\u001b[38;5;241m=\u001b[39mid_, bound_args\u001b[38;5;241m=\u001b[39mbound_args, instance\u001b[38;5;241m=\u001b[39minstance, parent_id\u001b[38;5;241m=\u001b[39mparent_id\n\u001b[1;32m    272\u001b[0m )\n\u001b[1;32m    273\u001b[0m \u001b[38;5;28;01mtry\u001b[39;00m:\n\u001b[0;32m--> 274\u001b[0m     result \u001b[38;5;241m=\u001b[39m \u001b[43mfunc\u001b[49m\u001b[43m(\u001b[49m\u001b[38;5;241;43m*\u001b[39;49m\u001b[43margs\u001b[49m\u001b[43m,\u001b[49m\u001b[43m \u001b[49m\u001b[38;5;241;43m*\u001b[39;49m\u001b[38;5;241;43m*\u001b[39;49m\u001b[43mkwargs\u001b[49m\u001b[43m)\u001b[49m\n\u001b[1;32m    275\u001b[0m \u001b[38;5;28;01mexcept\u001b[39;00m \u001b[38;5;167;01mBaseException\u001b[39;00m \u001b[38;5;28;01mas\u001b[39;00m e:\n\u001b[1;32m    276\u001b[0m     \u001b[38;5;28mself\u001b[39m\u001b[38;5;241m.\u001b[39mevent(SpanDropEvent(span_id\u001b[38;5;241m=\u001b[39mid_, err_str\u001b[38;5;241m=\u001b[39m\u001b[38;5;28mstr\u001b[39m(e)))\n",
            "File \u001b[0;32m~/anaconda3/envs/LLMs/lib/python3.10/site-packages/llama_index/core/query_engine/retriever_query_engine.py:189\u001b[0m, in \u001b[0;36mRetrieverQueryEngine._query\u001b[0;34m(self, query_bundle)\u001b[0m\n\u001b[1;32m    185\u001b[0m \u001b[38;5;250m\u001b[39m\u001b[38;5;124;03m\"\"\"Answer a query.\"\"\"\u001b[39;00m\n\u001b[1;32m    186\u001b[0m \u001b[38;5;28;01mwith\u001b[39;00m \u001b[38;5;28mself\u001b[39m\u001b[38;5;241m.\u001b[39mcallback_manager\u001b[38;5;241m.\u001b[39mevent(\n\u001b[1;32m    187\u001b[0m     CBEventType\u001b[38;5;241m.\u001b[39mQUERY, payload\u001b[38;5;241m=\u001b[39m{EventPayload\u001b[38;5;241m.\u001b[39mQUERY_STR: query_bundle\u001b[38;5;241m.\u001b[39mquery_str}\n\u001b[1;32m    188\u001b[0m ) \u001b[38;5;28;01mas\u001b[39;00m query_event:\n\u001b[0;32m--> 189\u001b[0m     nodes \u001b[38;5;241m=\u001b[39m \u001b[38;5;28;43mself\u001b[39;49m\u001b[38;5;241;43m.\u001b[39;49m\u001b[43mretrieve\u001b[49m\u001b[43m(\u001b[49m\u001b[43mquery_bundle\u001b[49m\u001b[43m)\u001b[49m\n\u001b[1;32m    190\u001b[0m     response \u001b[38;5;241m=\u001b[39m \u001b[38;5;28mself\u001b[39m\u001b[38;5;241m.\u001b[39m_response_synthesizer\u001b[38;5;241m.\u001b[39msynthesize(\n\u001b[1;32m    191\u001b[0m         query\u001b[38;5;241m=\u001b[39mquery_bundle,\n\u001b[1;32m    192\u001b[0m         nodes\u001b[38;5;241m=\u001b[39mnodes,\n\u001b[1;32m    193\u001b[0m     )\n\u001b[1;32m    194\u001b[0m     query_event\u001b[38;5;241m.\u001b[39mon_end(payload\u001b[38;5;241m=\u001b[39m{EventPayload\u001b[38;5;241m.\u001b[39mRESPONSE: response})\n",
            "File \u001b[0;32m~/anaconda3/envs/LLMs/lib/python3.10/site-packages/llama_index/core/query_engine/retriever_query_engine.py:144\u001b[0m, in \u001b[0;36mRetrieverQueryEngine.retrieve\u001b[0;34m(self, query_bundle)\u001b[0m\n\u001b[1;32m    143\u001b[0m \u001b[38;5;28;01mdef\u001b[39;00m \u001b[38;5;21mretrieve\u001b[39m(\u001b[38;5;28mself\u001b[39m, query_bundle: QueryBundle) \u001b[38;5;241m-\u001b[39m\u001b[38;5;241m>\u001b[39m List[NodeWithScore]:\n\u001b[0;32m--> 144\u001b[0m     nodes \u001b[38;5;241m=\u001b[39m \u001b[38;5;28;43mself\u001b[39;49m\u001b[38;5;241;43m.\u001b[39;49m\u001b[43m_retriever\u001b[49m\u001b[38;5;241;43m.\u001b[39;49m\u001b[43mretrieve\u001b[49m\u001b[43m(\u001b[49m\u001b[43mquery_bundle\u001b[49m\u001b[43m)\u001b[49m\n\u001b[1;32m    145\u001b[0m     \u001b[38;5;28;01mreturn\u001b[39;00m \u001b[38;5;28mself\u001b[39m\u001b[38;5;241m.\u001b[39m_apply_node_postprocessors(nodes, query_bundle\u001b[38;5;241m=\u001b[39mquery_bundle)\n",
            "File \u001b[0;32m~/anaconda3/envs/LLMs/lib/python3.10/site-packages/llama_index/core/instrumentation/dispatcher.py:274\u001b[0m, in \u001b[0;36mDispatcher.span.<locals>.wrapper\u001b[0;34m(func, instance, args, kwargs)\u001b[0m\n\u001b[1;32m    270\u001b[0m \u001b[38;5;28mself\u001b[39m\u001b[38;5;241m.\u001b[39mspan_enter(\n\u001b[1;32m    271\u001b[0m     id_\u001b[38;5;241m=\u001b[39mid_, bound_args\u001b[38;5;241m=\u001b[39mbound_args, instance\u001b[38;5;241m=\u001b[39minstance, parent_id\u001b[38;5;241m=\u001b[39mparent_id\n\u001b[1;32m    272\u001b[0m )\n\u001b[1;32m    273\u001b[0m \u001b[38;5;28;01mtry\u001b[39;00m:\n\u001b[0;32m--> 274\u001b[0m     result \u001b[38;5;241m=\u001b[39m \u001b[43mfunc\u001b[49m\u001b[43m(\u001b[49m\u001b[38;5;241;43m*\u001b[39;49m\u001b[43margs\u001b[49m\u001b[43m,\u001b[49m\u001b[43m \u001b[49m\u001b[38;5;241;43m*\u001b[39;49m\u001b[38;5;241;43m*\u001b[39;49m\u001b[43mkwargs\u001b[49m\u001b[43m)\u001b[49m\n\u001b[1;32m    275\u001b[0m \u001b[38;5;28;01mexcept\u001b[39;00m \u001b[38;5;167;01mBaseException\u001b[39;00m \u001b[38;5;28;01mas\u001b[39;00m e:\n\u001b[1;32m    276\u001b[0m     \u001b[38;5;28mself\u001b[39m\u001b[38;5;241m.\u001b[39mevent(SpanDropEvent(span_id\u001b[38;5;241m=\u001b[39mid_, err_str\u001b[38;5;241m=\u001b[39m\u001b[38;5;28mstr\u001b[39m(e)))\n",
            "File \u001b[0;32m~/anaconda3/envs/LLMs/lib/python3.10/site-packages/llama_index/core/base/base_retriever.py:244\u001b[0m, in \u001b[0;36mBaseRetriever.retrieve\u001b[0;34m(self, str_or_query_bundle)\u001b[0m\n\u001b[1;32m    239\u001b[0m \u001b[38;5;28;01mwith\u001b[39;00m \u001b[38;5;28mself\u001b[39m\u001b[38;5;241m.\u001b[39mcallback_manager\u001b[38;5;241m.\u001b[39mas_trace(\u001b[38;5;124m\"\u001b[39m\u001b[38;5;124mquery\u001b[39m\u001b[38;5;124m\"\u001b[39m):\n\u001b[1;32m    240\u001b[0m     \u001b[38;5;28;01mwith\u001b[39;00m \u001b[38;5;28mself\u001b[39m\u001b[38;5;241m.\u001b[39mcallback_manager\u001b[38;5;241m.\u001b[39mevent(\n\u001b[1;32m    241\u001b[0m         CBEventType\u001b[38;5;241m.\u001b[39mRETRIEVE,\n\u001b[1;32m    242\u001b[0m         payload\u001b[38;5;241m=\u001b[39m{EventPayload\u001b[38;5;241m.\u001b[39mQUERY_STR: query_bundle\u001b[38;5;241m.\u001b[39mquery_str},\n\u001b[1;32m    243\u001b[0m     ) \u001b[38;5;28;01mas\u001b[39;00m retrieve_event:\n\u001b[0;32m--> 244\u001b[0m         nodes \u001b[38;5;241m=\u001b[39m \u001b[38;5;28;43mself\u001b[39;49m\u001b[38;5;241;43m.\u001b[39;49m\u001b[43m_retrieve\u001b[49m\u001b[43m(\u001b[49m\u001b[43mquery_bundle\u001b[49m\u001b[43m)\u001b[49m\n\u001b[1;32m    245\u001b[0m         nodes \u001b[38;5;241m=\u001b[39m \u001b[38;5;28mself\u001b[39m\u001b[38;5;241m.\u001b[39m_handle_recursive_retrieval(query_bundle, nodes)\n\u001b[1;32m    246\u001b[0m         retrieve_event\u001b[38;5;241m.\u001b[39mon_end(\n\u001b[1;32m    247\u001b[0m             payload\u001b[38;5;241m=\u001b[39m{EventPayload\u001b[38;5;241m.\u001b[39mNODES: nodes},\n\u001b[1;32m    248\u001b[0m         )\n",
            "File \u001b[0;32m~/anaconda3/envs/LLMs/lib/python3.10/site-packages/llama_index/core/base/base_auto_retriever.py:37\u001b[0m, in \u001b[0;36mBaseAutoRetriever._retrieve\u001b[0;34m(self, query_bundle)\u001b[0m\n\u001b[1;32m     35\u001b[0m retrieval_spec \u001b[38;5;241m=\u001b[39m \u001b[38;5;28mself\u001b[39m\u001b[38;5;241m.\u001b[39mgenerate_retrieval_spec(query_bundle)\n\u001b[1;32m     36\u001b[0m retriever, new_query_bundle \u001b[38;5;241m=\u001b[39m \u001b[38;5;28mself\u001b[39m\u001b[38;5;241m.\u001b[39m_build_retriever_from_spec(retrieval_spec)\n\u001b[0;32m---> 37\u001b[0m \u001b[38;5;28;01mreturn\u001b[39;00m \u001b[43mretriever\u001b[49m\u001b[38;5;241;43m.\u001b[39;49m\u001b[43mretrieve\u001b[49m\u001b[43m(\u001b[49m\u001b[43mnew_query_bundle\u001b[49m\u001b[43m)\u001b[49m\n",
            "File \u001b[0;32m~/anaconda3/envs/LLMs/lib/python3.10/site-packages/llama_index/core/instrumentation/dispatcher.py:274\u001b[0m, in \u001b[0;36mDispatcher.span.<locals>.wrapper\u001b[0;34m(func, instance, args, kwargs)\u001b[0m\n\u001b[1;32m    270\u001b[0m \u001b[38;5;28mself\u001b[39m\u001b[38;5;241m.\u001b[39mspan_enter(\n\u001b[1;32m    271\u001b[0m     id_\u001b[38;5;241m=\u001b[39mid_, bound_args\u001b[38;5;241m=\u001b[39mbound_args, instance\u001b[38;5;241m=\u001b[39minstance, parent_id\u001b[38;5;241m=\u001b[39mparent_id\n\u001b[1;32m    272\u001b[0m )\n\u001b[1;32m    273\u001b[0m \u001b[38;5;28;01mtry\u001b[39;00m:\n\u001b[0;32m--> 274\u001b[0m     result \u001b[38;5;241m=\u001b[39m \u001b[43mfunc\u001b[49m\u001b[43m(\u001b[49m\u001b[38;5;241;43m*\u001b[39;49m\u001b[43margs\u001b[49m\u001b[43m,\u001b[49m\u001b[43m \u001b[49m\u001b[38;5;241;43m*\u001b[39;49m\u001b[38;5;241;43m*\u001b[39;49m\u001b[43mkwargs\u001b[49m\u001b[43m)\u001b[49m\n\u001b[1;32m    275\u001b[0m \u001b[38;5;28;01mexcept\u001b[39;00m \u001b[38;5;167;01mBaseException\u001b[39;00m \u001b[38;5;28;01mas\u001b[39;00m e:\n\u001b[1;32m    276\u001b[0m     \u001b[38;5;28mself\u001b[39m\u001b[38;5;241m.\u001b[39mevent(SpanDropEvent(span_id\u001b[38;5;241m=\u001b[39mid_, err_str\u001b[38;5;241m=\u001b[39m\u001b[38;5;28mstr\u001b[39m(e)))\n",
            "File \u001b[0;32m~/anaconda3/envs/LLMs/lib/python3.10/site-packages/llama_index/core/base/base_retriever.py:244\u001b[0m, in \u001b[0;36mBaseRetriever.retrieve\u001b[0;34m(self, str_or_query_bundle)\u001b[0m\n\u001b[1;32m    239\u001b[0m \u001b[38;5;28;01mwith\u001b[39;00m \u001b[38;5;28mself\u001b[39m\u001b[38;5;241m.\u001b[39mcallback_manager\u001b[38;5;241m.\u001b[39mas_trace(\u001b[38;5;124m\"\u001b[39m\u001b[38;5;124mquery\u001b[39m\u001b[38;5;124m\"\u001b[39m):\n\u001b[1;32m    240\u001b[0m     \u001b[38;5;28;01mwith\u001b[39;00m \u001b[38;5;28mself\u001b[39m\u001b[38;5;241m.\u001b[39mcallback_manager\u001b[38;5;241m.\u001b[39mevent(\n\u001b[1;32m    241\u001b[0m         CBEventType\u001b[38;5;241m.\u001b[39mRETRIEVE,\n\u001b[1;32m    242\u001b[0m         payload\u001b[38;5;241m=\u001b[39m{EventPayload\u001b[38;5;241m.\u001b[39mQUERY_STR: query_bundle\u001b[38;5;241m.\u001b[39mquery_str},\n\u001b[1;32m    243\u001b[0m     ) \u001b[38;5;28;01mas\u001b[39;00m retrieve_event:\n\u001b[0;32m--> 244\u001b[0m         nodes \u001b[38;5;241m=\u001b[39m \u001b[38;5;28;43mself\u001b[39;49m\u001b[38;5;241;43m.\u001b[39;49m\u001b[43m_retrieve\u001b[49m\u001b[43m(\u001b[49m\u001b[43mquery_bundle\u001b[49m\u001b[43m)\u001b[49m\n\u001b[1;32m    245\u001b[0m         nodes \u001b[38;5;241m=\u001b[39m \u001b[38;5;28mself\u001b[39m\u001b[38;5;241m.\u001b[39m_handle_recursive_retrieval(query_bundle, nodes)\n\u001b[1;32m    246\u001b[0m         retrieve_event\u001b[38;5;241m.\u001b[39mon_end(\n\u001b[1;32m    247\u001b[0m             payload\u001b[38;5;241m=\u001b[39m{EventPayload\u001b[38;5;241m.\u001b[39mNODES: nodes},\n\u001b[1;32m    248\u001b[0m         )\n",
            "File \u001b[0;32m~/anaconda3/envs/LLMs/lib/python3.10/site-packages/llama_index/core/instrumentation/dispatcher.py:274\u001b[0m, in \u001b[0;36mDispatcher.span.<locals>.wrapper\u001b[0;34m(func, instance, args, kwargs)\u001b[0m\n\u001b[1;32m    270\u001b[0m \u001b[38;5;28mself\u001b[39m\u001b[38;5;241m.\u001b[39mspan_enter(\n\u001b[1;32m    271\u001b[0m     id_\u001b[38;5;241m=\u001b[39mid_, bound_args\u001b[38;5;241m=\u001b[39mbound_args, instance\u001b[38;5;241m=\u001b[39minstance, parent_id\u001b[38;5;241m=\u001b[39mparent_id\n\u001b[1;32m    272\u001b[0m )\n\u001b[1;32m    273\u001b[0m \u001b[38;5;28;01mtry\u001b[39;00m:\n\u001b[0;32m--> 274\u001b[0m     result \u001b[38;5;241m=\u001b[39m \u001b[43mfunc\u001b[49m\u001b[43m(\u001b[49m\u001b[38;5;241;43m*\u001b[39;49m\u001b[43margs\u001b[49m\u001b[43m,\u001b[49m\u001b[43m \u001b[49m\u001b[38;5;241;43m*\u001b[39;49m\u001b[38;5;241;43m*\u001b[39;49m\u001b[43mkwargs\u001b[49m\u001b[43m)\u001b[49m\n\u001b[1;32m    275\u001b[0m \u001b[38;5;28;01mexcept\u001b[39;00m \u001b[38;5;167;01mBaseException\u001b[39;00m \u001b[38;5;28;01mas\u001b[39;00m e:\n\u001b[1;32m    276\u001b[0m     \u001b[38;5;28mself\u001b[39m\u001b[38;5;241m.\u001b[39mevent(SpanDropEvent(span_id\u001b[38;5;241m=\u001b[39mid_, err_str\u001b[38;5;241m=\u001b[39m\u001b[38;5;28mstr\u001b[39m(e)))\n",
            "File \u001b[0;32m~/anaconda3/envs/LLMs/lib/python3.10/site-packages/llama_index/core/indices/vector_store/retrievers/retriever.py:101\u001b[0m, in \u001b[0;36mVectorIndexRetriever._retrieve\u001b[0;34m(self, query_bundle)\u001b[0m\n\u001b[1;32m     95\u001b[0m     \u001b[38;5;28;01mif\u001b[39;00m query_bundle\u001b[38;5;241m.\u001b[39membedding \u001b[38;5;129;01mis\u001b[39;00m \u001b[38;5;28;01mNone\u001b[39;00m \u001b[38;5;129;01mand\u001b[39;00m \u001b[38;5;28mlen\u001b[39m(query_bundle\u001b[38;5;241m.\u001b[39membedding_strs) \u001b[38;5;241m>\u001b[39m \u001b[38;5;241m0\u001b[39m:\n\u001b[1;32m     96\u001b[0m         query_bundle\u001b[38;5;241m.\u001b[39membedding \u001b[38;5;241m=\u001b[39m (\n\u001b[1;32m     97\u001b[0m             \u001b[38;5;28mself\u001b[39m\u001b[38;5;241m.\u001b[39m_embed_model\u001b[38;5;241m.\u001b[39mget_agg_embedding_from_queries(\n\u001b[1;32m     98\u001b[0m                 query_bundle\u001b[38;5;241m.\u001b[39membedding_strs\n\u001b[1;32m     99\u001b[0m             )\n\u001b[1;32m    100\u001b[0m         )\n\u001b[0;32m--> 101\u001b[0m \u001b[38;5;28;01mreturn\u001b[39;00m \u001b[38;5;28;43mself\u001b[39;49m\u001b[38;5;241;43m.\u001b[39;49m\u001b[43m_get_nodes_with_embeddings\u001b[49m\u001b[43m(\u001b[49m\u001b[43mquery_bundle\u001b[49m\u001b[43m)\u001b[49m\n",
            "File \u001b[0;32m~/anaconda3/envs/LLMs/lib/python3.10/site-packages/llama_index/core/indices/vector_store/retrievers/retriever.py:177\u001b[0m, in \u001b[0;36mVectorIndexRetriever._get_nodes_with_embeddings\u001b[0;34m(self, query_bundle_with_embeddings)\u001b[0m\n\u001b[1;32m    173\u001b[0m \u001b[38;5;28;01mdef\u001b[39;00m \u001b[38;5;21m_get_nodes_with_embeddings\u001b[39m(\n\u001b[1;32m    174\u001b[0m     \u001b[38;5;28mself\u001b[39m, query_bundle_with_embeddings: QueryBundle\n\u001b[1;32m    175\u001b[0m ) \u001b[38;5;241m-\u001b[39m\u001b[38;5;241m>\u001b[39m List[NodeWithScore]:\n\u001b[1;32m    176\u001b[0m     query \u001b[38;5;241m=\u001b[39m \u001b[38;5;28mself\u001b[39m\u001b[38;5;241m.\u001b[39m_build_vector_store_query(query_bundle_with_embeddings)\n\u001b[0;32m--> 177\u001b[0m     query_result \u001b[38;5;241m=\u001b[39m \u001b[38;5;28;43mself\u001b[39;49m\u001b[38;5;241;43m.\u001b[39;49m\u001b[43m_vector_store\u001b[49m\u001b[38;5;241;43m.\u001b[39;49m\u001b[43mquery\u001b[49m\u001b[43m(\u001b[49m\u001b[43mquery\u001b[49m\u001b[43m,\u001b[49m\u001b[43m \u001b[49m\u001b[38;5;241;43m*\u001b[39;49m\u001b[38;5;241;43m*\u001b[39;49m\u001b[38;5;28;43mself\u001b[39;49m\u001b[38;5;241;43m.\u001b[39;49m\u001b[43m_kwargs\u001b[49m\u001b[43m)\u001b[49m\n\u001b[1;32m    178\u001b[0m     \u001b[38;5;28;01mreturn\u001b[39;00m \u001b[38;5;28mself\u001b[39m\u001b[38;5;241m.\u001b[39m_build_node_list_from_query_result(query_result)\n",
            "File \u001b[0;32m~/anaconda3/envs/LLMs/lib/python3.10/site-packages/llama_index/vector_stores/milvus/base.py:386\u001b[0m, in \u001b[0;36mMilvusVectorStore.query\u001b[0;34m(self, query, **kwargs)\u001b[0m\n\u001b[1;32m    384\u001b[0m \u001b[38;5;66;03m# Parse the filter\u001b[39;00m\n\u001b[1;32m    385\u001b[0m \u001b[38;5;28;01mif\u001b[39;00m query\u001b[38;5;241m.\u001b[39mfilters \u001b[38;5;129;01mis\u001b[39;00m \u001b[38;5;129;01mnot\u001b[39;00m \u001b[38;5;28;01mNone\u001b[39;00m:\n\u001b[0;32m--> 386\u001b[0m     expr\u001b[38;5;241m.\u001b[39mextend(\u001b[43m_to_milvus_filter\u001b[49m\u001b[43m(\u001b[49m\u001b[43mquery\u001b[49m\u001b[38;5;241;43m.\u001b[39;49m\u001b[43mfilters\u001b[49m\u001b[43m)\u001b[49m)\n\u001b[1;32m    388\u001b[0m \u001b[38;5;66;03m# Parse any docs we are filtering on\u001b[39;00m\n\u001b[1;32m    389\u001b[0m \u001b[38;5;28;01mif\u001b[39;00m query\u001b[38;5;241m.\u001b[39mdoc_ids \u001b[38;5;129;01mis\u001b[39;00m \u001b[38;5;129;01mnot\u001b[39;00m \u001b[38;5;28;01mNone\u001b[39;00m \u001b[38;5;129;01mand\u001b[39;00m \u001b[38;5;28mlen\u001b[39m(query\u001b[38;5;241m.\u001b[39mdoc_ids) \u001b[38;5;241m!=\u001b[39m \u001b[38;5;241m0\u001b[39m:\n",
            "File \u001b[0;32m~/anaconda3/envs/LLMs/lib/python3.10/site-packages/llama_index/vector_stores/milvus/base.py:56\u001b[0m, in \u001b[0;36m_to_milvus_filter\u001b[0;34m(standard_filters)\u001b[0m\n\u001b[1;32m     54\u001b[0m \u001b[38;5;250m\u001b[39m\u001b[38;5;124;03m\"\"\"Translate standard metadata filters to Milvus specific spec.\"\"\"\u001b[39;00m\n\u001b[1;32m     55\u001b[0m filters \u001b[38;5;241m=\u001b[39m []\n\u001b[0;32m---> 56\u001b[0m \u001b[38;5;28;01mfor\u001b[39;00m \u001b[38;5;28mfilter\u001b[39m \u001b[38;5;129;01min\u001b[39;00m \u001b[43mstandard_filters\u001b[49m\u001b[38;5;241;43m.\u001b[39;49m\u001b[43mlegacy_filters\u001b[49m\u001b[43m(\u001b[49m\u001b[43m)\u001b[49m:\n\u001b[1;32m     57\u001b[0m     \u001b[38;5;28;01mif\u001b[39;00m \u001b[38;5;28misinstance\u001b[39m(\u001b[38;5;28mfilter\u001b[39m\u001b[38;5;241m.\u001b[39mvalue, \u001b[38;5;28mstr\u001b[39m):\n\u001b[1;32m     58\u001b[0m         filters\u001b[38;5;241m.\u001b[39mappend(\u001b[38;5;28mstr\u001b[39m(\u001b[38;5;28mfilter\u001b[39m\u001b[38;5;241m.\u001b[39mkey) \u001b[38;5;241m+\u001b[39m \u001b[38;5;124m\"\u001b[39m\u001b[38;5;124m == \u001b[39m\u001b[38;5;124m\"\u001b[39m \u001b[38;5;241m+\u001b[39m \u001b[38;5;124m'\u001b[39m\u001b[38;5;124m\"\u001b[39m\u001b[38;5;124m'\u001b[39m \u001b[38;5;241m+\u001b[39m \u001b[38;5;28mstr\u001b[39m(\u001b[38;5;28mfilter\u001b[39m\u001b[38;5;241m.\u001b[39mvalue) \u001b[38;5;241m+\u001b[39m \u001b[38;5;124m'\u001b[39m\u001b[38;5;124m\"\u001b[39m\u001b[38;5;124m'\u001b[39m)\n",
            "File \u001b[0;32m~/anaconda3/envs/LLMs/lib/python3.10/site-packages/llama_index/core/vector_stores/types.py:177\u001b[0m, in \u001b[0;36mMetadataFilters.legacy_filters\u001b[0;34m(self)\u001b[0m\n\u001b[1;32m    175\u001b[0m \u001b[38;5;28;01mfor\u001b[39;00m \u001b[38;5;28mfilter\u001b[39m \u001b[38;5;129;01min\u001b[39;00m \u001b[38;5;28mself\u001b[39m\u001b[38;5;241m.\u001b[39mfilters:\n\u001b[1;32m    176\u001b[0m     \u001b[38;5;28;01mif\u001b[39;00m \u001b[38;5;28mfilter\u001b[39m\u001b[38;5;241m.\u001b[39moperator \u001b[38;5;241m!=\u001b[39m FilterOperator\u001b[38;5;241m.\u001b[39mEQ:\n\u001b[0;32m--> 177\u001b[0m         \u001b[38;5;28;01mraise\u001b[39;00m \u001b[38;5;167;01mValueError\u001b[39;00m(\n\u001b[1;32m    178\u001b[0m             \u001b[38;5;124m\"\u001b[39m\u001b[38;5;124mVector Store only supports exact match filters. \u001b[39m\u001b[38;5;124m\"\u001b[39m\n\u001b[1;32m    179\u001b[0m             \u001b[38;5;124m\"\u001b[39m\u001b[38;5;124mPlease use ExactMatchFilter or FilterOperator.EQ instead.\u001b[39m\u001b[38;5;124m\"\u001b[39m\n\u001b[1;32m    180\u001b[0m         )\n\u001b[1;32m    181\u001b[0m     filters\u001b[38;5;241m.\u001b[39mappend(ExactMatchFilter(key\u001b[38;5;241m=\u001b[39m\u001b[38;5;28mfilter\u001b[39m\u001b[38;5;241m.\u001b[39mkey, value\u001b[38;5;241m=\u001b[39m\u001b[38;5;28mfilter\u001b[39m\u001b[38;5;241m.\u001b[39mvalue))\n\u001b[1;32m    182\u001b[0m \u001b[38;5;28;01mreturn\u001b[39;00m filters\n",
            "\u001b[0;31mValueError\u001b[0m: Vector Store only supports exact match filters. Please use ExactMatchFilter or FilterOperator.EQ instead."
          ]
        }
      ],
      "source": [
        "handle_react_chat(\"Cho tôi sản phẩm dưới 100k\")"
      ]
    },
    {
      "cell_type": "code",
      "execution_count": null,
      "metadata": {
        "id": "ywFN6pTuNNVq",
        "outputId": "96767518-b789-49c5-bacd-7dc23dc703ad"
      },
      "outputs": [
        {
          "name": "stdout",
          "output_type": "stream",
          "text": [
            "{'chat_history': 'Human: Tai nghe Bluetooth True Wireless Defunc True Music có những chức năng gì\\nAI: Sản phẩm có mic đàm thoại chống nước IPX4, driver rộng 13mm cùng thiết kế không dây tiện lợi, cho trải nghiệm nghe gọi ấn tượng.\\nHuman: Nói cho tôi chi tiết hơn về tai nghe này\\nAI: Tôi không có thông tin chi tiết hơn về sản phẩm tai nghe này.'}\n",
            "\n",
            "\n",
            "\u001b[1m> Entering new AgentExecutor chain...\u001b[0m\n",
            "\u001b[32;1m\u001b[1;3mThought: Tôi có cần sử dụng một công cụ không? Đúng\n",
            "        Action: VectorDB\n",
            "        Action Input: Tai nghe Bluetooth True Wireless Defunc True Music\n",
            "        Observation: The Defunc True Music True Wireless Bluetooth Headphones are in-ear headphones that feature a 13mm driver, IPX4 water resistance, and a wireless design. They offer an immersive listening experience with clear highs and deep bass, and the built-in microphone allows for hands-free calling. The long battery life provides up to 10 hours of playtime on a single charge, and the included charging case extends the total playtime to 35 hours. They are compatible with Bluetooth 5.0, ensuring a stable and reliable connection. The Defunc True Music True Wireless Bluetooth Headphones are a great choice for those looking for a high-quality, wireless listening experience.\u001b[0mINFO:llama_index.core.indices.vector_store.retrievers.auto_retriever.auto_retriever:Using query str: Tai nghe Bluetooth True Wireless Defunc True Music\n",
            "Using query str: Tai nghe Bluetooth True Wireless Defunc True Music\n",
            "INFO:llama_index.core.indices.vector_store.retrievers.auto_retriever.auto_retriever:Using filters: []\n",
            "Using filters: []\n",
            "Using query str: Tai nghe Bluetooth True Wireless Defunc True Music\n",
            "Using filters: []\n",
            "INFO:llama_index.core.indices.vector_store.retrievers.auto_retriever.auto_retriever:Using top_k: 2\n",
            "Using top_k: 2\n"
          ]
        },
        {
          "name": "stderr",
          "output_type": "stream",
          "text": [
            "Batches: 100%|██████████| 1/1 [00:00<00:00, 78.11it/s]\n"
          ]
        },
        {
          "name": "stdout",
          "output_type": "stream",
          "text": [
            "DEBUG:llama_index.vector_stores.milvus.base:Successfully searched embedding in collection: llamacollection Num Results: 2\n",
            "Successfully searched embedding in collection: llamacollection Num Results: 2\n",
            "DEBUG:llama_index.core.indices.utils:> Top 2 nodes:\n",
            "> [Node d54be50b-adb8-4dfb-8c56-134ad32fd18d] [Similarity score:             0.774458] ĐẶC ĐIỂM NỔI BẬT Trải nghiệm âm thanh liền mạch, ổn định, hạn chế bị gián đoạn với độ trễ thấp Tổ...\n",
            "> [Node 2479e4c6-0681-4402-96ed-28b08b43432b] [Similarity score:             0.744825] Hỗ trợ mic kép chống ồn ENC giúp đảm bảo chất lượng đàm thoại rõ ràng, làm tăng trải nghiệm người...\n",
            "> Top 2 nodes:\n",
            "> [Node d54be50b-adb8-4dfb-8c56-134ad32fd18d] [Similarity score:             0.774458] ĐẶC ĐIỂM NỔI BẬT Trải nghiệm âm thanh liền mạch, ổn định, hạn chế bị gián đoạn với độ trễ thấp Tổ...\n",
            "> [Node 2479e4c6-0681-4402-96ed-28b08b43432b] [Similarity score:             0.744825] Hỗ trợ mic kép chống ồn ENC giúp đảm bảo chất lượng đàm thoại rõ ràng, làm tăng trải nghiệm người...\n",
            "**********\n",
            "Trace: query\n",
            "    |_query -> 10.381032 seconds\n",
            "      |_retrieve -> 6.785621 seconds\n",
            "        |_templating -> 1.5e-05 seconds\n",
            "        |_llm -> 2.902345 seconds\n",
            "      |_synthesize -> 3.594901 seconds\n",
            "        |_templating -> 2e-05 seconds\n",
            "        |_llm -> 3.590705 seconds\n",
            "**********\n",
            "\u001b[36;1m\u001b[1;3mThe Defunc True Music True Wireless Bluetooth Headphones are in-ear headphones that feature a 13mm driver, IPX4 water resistance, and a wireless design. They offer an immersive listening experience with clear highs and deep bass, and the built-in microphone allows for hands-free calling. The long battery life provides up to 10 hours of playtime on a single charge, and the included charging case extends the total playtime to 35 hours. They are compatible with Bluetooth 5.0, ensuring a stable and reliable connection. The Defunc True Music True Wireless Bluetooth Headphones are a great choice for those looking for a high-quality, wireless listening experience.\u001b[0m\u001b[32;1m\u001b[1;3mFinal Answer: Tai nghe Bluetooth True Wireless Defunc True Music là tai nghe nhét tai có bộ điều khiển 13 mm, khả năng chống nước IPX4 và thiết kế không dây. Tai nghe này mang đến trải nghiệm nghe nhạc đắm chìm với âm cao trong trẻo và âm trầm sâu lắng, micro tích hợp cho phép gọi điện thoại rảnh tay. Thời lượng pin dài cung cấp tới 10 giờ phát nhạc chỉ với một lần sạc và hộp sạc đi kèm kéo dài tổng thời gian phát lên đến 35 giờ. Tai nghe tương thích với Bluetooth 5.0, đảm bảo kết nối ổn định và đáng tin cậy. Tai nghe Bluetooth True Wireless Defunc True Music là lựa chọn tuyệt vời cho những ai tìm kiếm trải nghiệm nghe nhạc không dây chất lượng cao.\u001b[0m\n",
            "\n",
            "\u001b[1m> Finished chain.\u001b[0m\n"
          ]
        },
        {
          "data": {
            "text/plain": [
              "{'input': 'Nói cho tôi chi tiết hơn về tai nghe này',\n",
              " 'chat_history': 'Human: Tai nghe Bluetooth True Wireless Defunc True Music có những chức năng gì\\nAI: Sản phẩm có mic đàm thoại chống nước IPX4, driver rộng 13mm cùng thiết kế không dây tiện lợi, cho trải nghiệm nghe gọi ấn tượng.\\nHuman: Nói cho tôi chi tiết hơn về tai nghe này\\nAI: Tôi không có thông tin chi tiết hơn về sản phẩm tai nghe này.',\n",
              " 'output': 'Tai nghe Bluetooth True Wireless Defunc True Music là tai nghe nhét tai có bộ điều khiển 13 mm, khả năng chống nước IPX4 và thiết kế không dây. Tai nghe này mang đến trải nghiệm nghe nhạc đắm chìm với âm cao trong trẻo và âm trầm sâu lắng, micro tích hợp cho phép gọi điện thoại rảnh tay. Thời lượng pin dài cung cấp tới 10 giờ phát nhạc chỉ với một lần sạc và hộp sạc đi kèm kéo dài tổng thời gian phát lên đến 35 giờ. Tai nghe tương thích với Bluetooth 5.0, đảm bảo kết nối ổn định và đáng tin cậy. Tai nghe Bluetooth True Wireless Defunc True Music là lựa chọn tuyệt vời cho những ai tìm kiếm trải nghiệm nghe nhạc không dây chất lượng cao.'}"
            ]
          },
          "execution_count": 64,
          "metadata": {},
          "output_type": "execute_result"
        }
      ],
      "source": [
        "handle_react_chat(\"Nói cho tôi chi tiết hơn về tai nghe này\")"
      ]
    },
    {
      "cell_type": "markdown",
      "metadata": {
        "id": "0V3n2AxjNNVq"
      },
      "source": [
        "# Evaluate"
      ]
    },
    {
      "cell_type": "markdown",
      "metadata": {
        "id": "laD3QqWyNNVr"
      },
      "source": [
        "## RAGAS"
      ]
    },
    {
      "cell_type": "code",
      "execution_count": null,
      "metadata": {
        "id": "ZqXpHeVoNNVr"
      },
      "outputs": [],
      "source": [
        "from ragas.testset.generator import TestsetGenerator\n",
        "from ragas.testset.evolutions import simple, reasoning, multi_context\n",
        "from langchain_openai import ChatOpenAI, OpenAIEmbeddings\n",
        "from langchain_community.embeddings import HuggingFaceInferenceAPIEmbeddings\n",
        "from config import HUGGINGFACE, GEMINI, OPENAI\n",
        "from langchain_google_genai import GoogleGenerativeAI\n",
        "from langchain_openai import ChatOpenAI, OpenAIEmbeddings\n",
        "\n",
        "import os\n",
        "os.environ[\"GOOGLE_API_KEY\"] = GEMINI\n",
        "os.environ[\"OPENAI_API_KEY\"] = OPENAI\n",
        "# generator with openai models\n",
        "generator_llm =  GoogleGenerativeAI(model=\"gemini-pro\")\n",
        "# critic_llm =  GoogleGenerativeAI(model=\"gemini-pro\")\n",
        "# embeddings = HuggingFaceInferenceAPIEmbeddings(\n",
        "#     api_key=HUGGINGFACE, model_name=\"sentence-transformers/paraphrase-multilingual-MiniLM-L12-v2\"\n",
        "# )\n",
        "# generator_llm = ChatOpenAI(model=\"gpt-3.5-turbo-16k\")\n",
        "# critic_llm = ChatOpenAI(model=\"gpt-4\")\n",
        "# embeddings = OpenAIEmbeddings()\n"
      ]
    },
    {
      "cell_type": "code",
      "execution_count": null,
      "metadata": {
        "id": "eeviulnxNNVr"
      },
      "outputs": [],
      "source": [
        "generator = TestsetGenerator.from_langchain(\n",
        "    generator_llm,\n",
        "    critic_llm,\n",
        "    embeddings\n",
        ")\n",
        "\n",
        "# Change resulting question type distribution\n",
        "distributions = {\n",
        "    simple: 0.5,\n",
        "    multi_context: 0.4,\n",
        "    reasoning: 0.1\n",
        "}\n",
        "\n",
        "# use generator.generate_with_llamaindex_docs if you use llama-index as document loader\n",
        "testset = generator.generate_with_llamaindex_docs(documents, 10, distributions)\n",
        "testset.to_pandas()\n",
        "testset.to_pandas().to_csv(\"../data/testset.csv\", index=False)"
      ]
    },
    {
      "cell_type": "code",
      "execution_count": null,
      "metadata": {
        "id": "LEZP6JsfNNVr"
      },
      "outputs": [],
      "source": [
        "from ragas.metrics import (\n",
        "    answer_relevancy,\n",
        "    faithfulness,\n",
        "    context_recall,\n",
        "    context_precision,\n",
        ")"
      ]
    },
    {
      "cell_type": "code",
      "execution_count": null,
      "metadata": {
        "id": "Arwzrh8_NNVr",
        "outputId": "0b181e5a-67ac-4752-9c54-970023ee3674"
      },
      "outputs": [
        {
          "ename": "ValueError",
          "evalue": "The metric [faithfulness] that that is used requires the following additional columns ['answer'] to be present in the dataset. ",
          "output_type": "error",
          "traceback": [
            "\u001b[0;31m---------------------------------------------------------------------------\u001b[0m",
            "\u001b[0;31mValueError\u001b[0m                                Traceback (most recent call last)",
            "Cell \u001b[0;32mIn[23], line 3\u001b[0m\n\u001b[1;32m      1\u001b[0m \u001b[38;5;28;01mfrom\u001b[39;00m \u001b[38;5;21;01mragas\u001b[39;00m \u001b[38;5;28;01mimport\u001b[39;00m evaluate\n\u001b[0;32m----> 3\u001b[0m result \u001b[38;5;241m=\u001b[39m \u001b[43mevaluate\u001b[49m\u001b[43m(\u001b[49m\n\u001b[1;32m      4\u001b[0m \u001b[43m    \u001b[49m\u001b[43mmetrics\u001b[49m\u001b[38;5;241;43m=\u001b[39;49m\u001b[43m[\u001b[49m\n\u001b[1;32m      5\u001b[0m \u001b[43m        \u001b[49m\u001b[43mcontext_precision\u001b[49m\u001b[43m,\u001b[49m\n\u001b[1;32m      6\u001b[0m \u001b[43m        \u001b[49m\u001b[43mfaithfulness\u001b[49m\u001b[43m,\u001b[49m\n\u001b[1;32m      7\u001b[0m \u001b[43m        \u001b[49m\u001b[43manswer_relevancy\u001b[49m\u001b[43m,\u001b[49m\n\u001b[1;32m      8\u001b[0m \u001b[43m        \u001b[49m\u001b[43mcontext_recall\u001b[49m\u001b[43m,\u001b[49m\n\u001b[1;32m      9\u001b[0m \u001b[43m    \u001b[49m\u001b[43m]\u001b[49m\u001b[43m,\u001b[49m\n\u001b[1;32m     10\u001b[0m \u001b[43m    \u001b[49m\u001b[43mllm\u001b[49m\u001b[38;5;241;43m=\u001b[39;49m\u001b[43mgenerator_llm\u001b[49m\u001b[43m,\u001b[49m\n\u001b[1;32m     11\u001b[0m \u001b[43m    \u001b[49m\u001b[43mdataset\u001b[49m\u001b[38;5;241;43m=\u001b[39;49m\u001b[43mtestset\u001b[49m\u001b[38;5;241;43m.\u001b[39;49m\u001b[43mto_dataset\u001b[49m\u001b[43m(\u001b[49m\u001b[43m)\u001b[49m\u001b[43m,\u001b[49m\n\u001b[1;32m     12\u001b[0m \u001b[43m)\u001b[49m\n\u001b[1;32m     14\u001b[0m result\n",
            "File \u001b[0;32m~/anaconda3/envs/llm/lib/python3.10/site-packages/ragas/evaluation.py:146\u001b[0m, in \u001b[0;36mevaluate\u001b[0;34m(dataset, metrics, llm, embeddings, callbacks, is_async, run_config, raise_exceptions, column_map)\u001b[0m\n\u001b[1;32m    144\u001b[0m \u001b[38;5;66;03m# validation\u001b[39;00m\n\u001b[1;32m    145\u001b[0m dataset \u001b[38;5;241m=\u001b[39m handle_deprecated_ground_truths(dataset)\n\u001b[0;32m--> 146\u001b[0m \u001b[43mvalidate_evaluation_modes\u001b[49m\u001b[43m(\u001b[49m\u001b[43mdataset\u001b[49m\u001b[43m,\u001b[49m\u001b[43m \u001b[49m\u001b[43mmetrics\u001b[49m\u001b[43m)\u001b[49m\n\u001b[1;32m    147\u001b[0m validate_column_dtypes(dataset)\n\u001b[1;32m    149\u001b[0m \u001b[38;5;66;03m# set the llm and embeddings\u001b[39;00m\n",
            "File \u001b[0;32m~/anaconda3/envs/llm/lib/python3.10/site-packages/ragas/validation.py:94\u001b[0m, in \u001b[0;36mvalidate_evaluation_modes\u001b[0;34m(ds, metrics)\u001b[0m\n\u001b[1;32m     88\u001b[0m \u001b[38;5;28;01mif\u001b[39;00m (\n\u001b[1;32m     89\u001b[0m     \u001b[38;5;28misinstance\u001b[39m(m, ContextPrecision)\n\u001b[1;32m     90\u001b[0m     \u001b[38;5;129;01mand\u001b[39;00m \u001b[38;5;124m\"\u001b[39m\u001b[38;5;124mground_truth\u001b[39m\u001b[38;5;124m\"\u001b[39m \u001b[38;5;129;01mnot\u001b[39;00m \u001b[38;5;129;01min\u001b[39;00m available_columns\n\u001b[1;32m     91\u001b[0m ):\n\u001b[1;32m     92\u001b[0m     extra_msg \u001b[38;5;241m=\u001b[39m \u001b[38;5;124m\"\u001b[39m\u001b[38;5;124mLooks like you\u001b[39m\u001b[38;5;124m'\u001b[39m\u001b[38;5;124mre trying to use \u001b[39m\u001b[38;5;124m'\u001b[39m\u001b[38;5;124mcontext_precision\u001b[39m\u001b[38;5;124m'\u001b[39m\u001b[38;5;124m without ground_truth. Please use consider using  `context_utilization\u001b[39m\u001b[38;5;124m'\u001b[39m\u001b[38;5;124m instead.\u001b[39m\u001b[38;5;124m\"\u001b[39m\n\u001b[0;32m---> 94\u001b[0m \u001b[38;5;28;01mraise\u001b[39;00m \u001b[38;5;167;01mValueError\u001b[39;00m(\n\u001b[1;32m     95\u001b[0m     \u001b[38;5;124mf\u001b[39m\u001b[38;5;124m\"\u001b[39m\u001b[38;5;124mThe metric [\u001b[39m\u001b[38;5;132;01m{\u001b[39;00mm\u001b[38;5;241m.\u001b[39mname\u001b[38;5;132;01m}\u001b[39;00m\u001b[38;5;124m] that that is used requires the following \u001b[39m\u001b[38;5;124m\"\u001b[39m\n\u001b[1;32m     96\u001b[0m     \u001b[38;5;124mf\u001b[39m\u001b[38;5;124m\"\u001b[39m\u001b[38;5;124madditional columns \u001b[39m\u001b[38;5;132;01m{\u001b[39;00m\u001b[38;5;28mlist\u001b[39m(required_columns\u001b[38;5;250m \u001b[39m\u001b[38;5;241m-\u001b[39m\u001b[38;5;250m \u001b[39mavailable_columns)\u001b[38;5;132;01m}\u001b[39;00m\u001b[38;5;124m \u001b[39m\u001b[38;5;124m\"\u001b[39m\n\u001b[1;32m     97\u001b[0m     \u001b[38;5;124mf\u001b[39m\u001b[38;5;124m\"\u001b[39m\u001b[38;5;124mto be present in the dataset. \u001b[39m\u001b[38;5;132;01m{\u001b[39;00mextra_msg\u001b[38;5;132;01m}\u001b[39;00m\u001b[38;5;124m\"\u001b[39m\n\u001b[1;32m     98\u001b[0m )\n",
            "\u001b[0;31mValueError\u001b[0m: The metric [faithfulness] that that is used requires the following additional columns ['answer'] to be present in the dataset. "
          ]
        }
      ],
      "source": [
        "from ragas import evaluate\n",
        "\n",
        "result = evaluate(\n",
        "    metrics=[\n",
        "        context_precision,\n",
        "        faithfulness,\n",
        "        answer_relevancy,\n",
        "        context_recall,\n",
        "    ],\n",
        "    llm=generator_llm,\n",
        "    dataset=testset.to_dataset(),\n",
        ")\n",
        "\n",
        "result"
      ]
    },
    {
      "cell_type": "markdown",
      "metadata": {
        "id": "vfr4IB75NNVr"
      },
      "source": [
        "# Deploy"
      ]
    },
    {
      "cell_type": "markdown",
      "metadata": {
        "id": "9f1WlFIRNNVr"
      },
      "source": [
        "## With Streamlit\n"
      ]
    },
    {
      "cell_type": "code",
      "execution_count": null,
      "metadata": {
        "id": "3l7RUWMoNNVr"
      },
      "outputs": [],
      "source": []
    },
    {
      "cell_type": "code",
      "execution_count": null,
      "metadata": {
        "id": "sBJGropMNNVr"
      },
      "outputs": [],
      "source": [
        "from langchain.callbacks import StreamlitCallbackHandler\n",
        "import streamlit as st\n",
        "\n",
        "\n",
        "if prompt := st.chat_input():\n",
        "    st.chat_message(\"user\").write(prompt)\n",
        "    with st.chat_message(\"assistant\"):\n",
        "        st_callback = StreamlitCallbackHandler(st.container())\n",
        "        response = handle_react_chat(prompt)\n",
        "        st.write(response)"
      ]
    }
  ],
  "metadata": {
    "accelerator": "GPU",
    "colab": {
      "gpuType": "T4",
      "include_colab_link": true,
      "provenance": []
    },
    "kernelspec": {
      "display_name": "Python 3",
      "name": "python3"
    },
    "language_info": {
      "codemirror_mode": {
        "name": "ipython",
        "version": 3
      },
      "file_extension": ".py",
      "mimetype": "text/x-python",
      "name": "python",
      "nbconvert_exporter": "python",
      "pygments_lexer": "ipython3",
      "version": "3.10.14"
    }
  },
  "nbformat": 4,
  "nbformat_minor": 0
}
